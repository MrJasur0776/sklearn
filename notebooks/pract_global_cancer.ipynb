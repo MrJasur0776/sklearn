{
 "cells": [
  {
   "cell_type": "code",
   "execution_count": 22,
   "id": "9de0f161",
   "metadata": {},
   "outputs": [
    {
     "name": "stdout",
     "output_type": "stream",
     "text": [
      "  Patient_ID  Age  Gender Country_Region  Year  Genetic_Risk  Air_Pollution  \\\n",
      "0  PT0000000   71    Male             UK  2021           6.4            2.8   \n",
      "1  PT0000001   34    Male          China  2021           1.3            4.5   \n",
      "2  PT0000002   80    Male       Pakistan  2023           7.4            7.9   \n",
      "3  PT0000003   40    Male             UK  2015           1.7            2.9   \n",
      "4  PT0000004   43  Female         Brazil  2017           5.1            2.8   \n",
      "5  PT0000005   22    Male        Germany  2018           9.5            6.4   \n",
      "6  PT0000006   41    Male         Canada  2021           5.1            8.2   \n",
      "7  PT0000007   72  Female         Canada  2018           6.0            8.2   \n",
      "8  PT0000008   21    Male            USA  2022           4.3            3.8   \n",
      "9  PT0000009   49  Female         Canada  2016           8.1            0.8   \n",
      "\n",
      "   Alcohol_Use  Smoking  Obesity_Level Cancer_Type Cancer_Stage  \\\n",
      "0          9.5      0.9            8.7        Lung    Stage III   \n",
      "1          3.7      3.9            6.3    Leukemia      Stage 0   \n",
      "2          2.4      4.7            0.1      Breast     Stage II   \n",
      "3          4.8      3.5            2.7       Colon      Stage I   \n",
      "4          2.3      6.7            0.5        Skin    Stage III   \n",
      "5          3.3      3.9            5.1    Cervical     Stage IV   \n",
      "6          0.3      3.7            2.1    Cervical      Stage 0   \n",
      "7          6.4      0.6            8.5    Prostate      Stage I   \n",
      "8          1.0      0.3            8.5        Lung     Stage II   \n",
      "9          7.8      5.2            9.3    Prostate     Stage II   \n",
      "\n",
      "   Treatment_Cost_USD  Survival_Years  Target_Severity_Score  \n",
      "0            62913.44             5.9                   4.92  \n",
      "1            12573.41             4.7                   4.65  \n",
      "2             6984.33             7.1                   5.84  \n",
      "3            67446.25             1.6                   3.12  \n",
      "4            77977.12             2.9                   3.62  \n",
      "5            33468.99             9.5                   5.98  \n",
      "6             9790.83             1.0                   5.05  \n",
      "7            17161.40             6.2                   6.02  \n",
      "8            56458.48             6.5                   3.36  \n",
      "9            56133.45             5.7                   5.76  \n",
      "<bound method NDFrame.describe of       Patient_ID  Age  Gender Country_Region  Year  Genetic_Risk  \\\n",
      "0      PT0000000   71    Male             UK  2021           6.4   \n",
      "1      PT0000001   34    Male          China  2021           1.3   \n",
      "2      PT0000002   80    Male       Pakistan  2023           7.4   \n",
      "3      PT0000003   40    Male             UK  2015           1.7   \n",
      "4      PT0000004   43  Female         Brazil  2017           5.1   \n",
      "...          ...  ...     ...            ...   ...           ...   \n",
      "49995  PT0049995   80    Male       Pakistan  2023           2.3   \n",
      "49996  PT0049996   40  Female            USA  2018           6.4   \n",
      "49997  PT0049997   74    Male       Pakistan  2015           6.2   \n",
      "49998  PT0049998   21    Male         Brazil  2018           4.0   \n",
      "49999  PT0049999   22    Male       Pakistan  2023           5.1   \n",
      "\n",
      "       Air_Pollution  Alcohol_Use  Smoking  Obesity_Level Cancer_Type  \\\n",
      "0                2.8          9.5      0.9            8.7        Lung   \n",
      "1                4.5          3.7      3.9            6.3    Leukemia   \n",
      "2                7.9          2.4      4.7            0.1      Breast   \n",
      "3                2.9          4.8      3.5            2.7       Colon   \n",
      "4                2.8          2.3      6.7            0.5        Skin   \n",
      "...              ...          ...      ...            ...         ...   \n",
      "49995            7.5          2.8      3.8            2.9    Leukemia   \n",
      "49996            3.5          2.9      9.0            9.8       Colon   \n",
      "49997            1.6          8.7      4.7            4.0      Breast   \n",
      "49998            6.5          7.6      8.6            8.1       Liver   \n",
      "49999            9.8          3.2      0.0            0.7       Liver   \n",
      "\n",
      "      Cancer_Stage  Treatment_Cost_USD  Survival_Years  Target_Severity_Score  \n",
      "0        Stage III            62913.44             5.9                   4.92  \n",
      "1          Stage 0            12573.41             4.7                   4.65  \n",
      "2         Stage II             6984.33             7.1                   5.84  \n",
      "3          Stage I            67446.25             1.6                   3.12  \n",
      "4        Stage III            77977.12             2.9                   3.62  \n",
      "...            ...                 ...             ...                    ...  \n",
      "49995      Stage 0            71463.70             1.0                   3.63  \n",
      "49996      Stage I            49619.66             0.4                   6.03  \n",
      "49997      Stage 0             5338.25             2.7                   6.02  \n",
      "49998     Stage IV            45100.47             7.5                   6.54  \n",
      "49999      Stage 0            64023.82             7.4                   3.76  \n",
      "\n",
      "[50000 rows x 15 columns]>\n",
      "<class 'pandas.core.frame.DataFrame'>\n",
      "RangeIndex: 50000 entries, 0 to 49999\n",
      "Data columns (total 15 columns):\n",
      " #   Column                 Non-Null Count  Dtype  \n",
      "---  ------                 --------------  -----  \n",
      " 0   Patient_ID             50000 non-null  object \n",
      " 1   Age                    50000 non-null  int64  \n",
      " 2   Gender                 50000 non-null  object \n",
      " 3   Country_Region         50000 non-null  object \n",
      " 4   Year                   50000 non-null  int64  \n",
      " 5   Genetic_Risk           50000 non-null  float64\n",
      " 6   Air_Pollution          50000 non-null  float64\n",
      " 7   Alcohol_Use            50000 non-null  float64\n",
      " 8   Smoking                50000 non-null  float64\n",
      " 9   Obesity_Level          50000 non-null  float64\n",
      " 10  Cancer_Type            50000 non-null  object \n",
      " 11  Cancer_Stage           50000 non-null  object \n",
      " 12  Treatment_Cost_USD     50000 non-null  float64\n",
      " 13  Survival_Years         50000 non-null  float64\n",
      " 14  Target_Severity_Score  50000 non-null  float64\n",
      "dtypes: float64(8), int64(2), object(5)\n",
      "memory usage: 5.7+ MB\n",
      "None\n"
     ]
    }
   ],
   "source": [
    "import seaborn as sns\n",
    "import pandas as pd\n",
    "import numpy as np\n",
    "import matplotlib\n",
    "import matplotlib.pyplot as plt\n",
    "import plotly.express as px\n",
    "    \n",
    "\n",
    "pd.set_option('display.max_columns', None)\n",
    "pd.set_option('display.max_rows', 150)\n",
    "sns.set_style('darkgrid')\n",
    "matplotlib.rcParams['font.size'] = 14\n",
    "matplotlib.rcParams['figure.figsize'] = (10, 6)\n",
    "matplotlib.rcParams['figure.facecolor'] = '#00000000'\n",
    "cancer_df = pd.read_csv('datasets/global_cancer_patients_2015_2024.csv')\n",
    "print(cancer_df.head(10))\n",
    "print(cancer_df.describe)\n",
    "print(cancer_df.info())\n",
    "    "
   ]
  },
  {
   "cell_type": "code",
   "execution_count": 18,
   "id": "07743e64",
   "metadata": {},
   "outputs": [],
   "source": [
    "from data_util import startingall"
   ]
  },
  {
   "cell_type": "code",
   "execution_count": 5,
   "id": "1dac3d88",
   "metadata": {},
   "outputs": [
    {
     "name": "stdout",
     "output_type": "stream",
     "text": [
      "<class 'pandas.core.frame.DataFrame'>\n",
      "RangeIndex: 50000 entries, 0 to 49999\n",
      "Data columns (total 15 columns):\n",
      " #   Column                 Non-Null Count  Dtype  \n",
      "---  ------                 --------------  -----  \n",
      " 0   Patient_ID             50000 non-null  object \n",
      " 1   Age                    50000 non-null  int64  \n",
      " 2   Gender                 50000 non-null  object \n",
      " 3   Country_Region         50000 non-null  object \n",
      " 4   Year                   50000 non-null  int64  \n",
      " 5   Genetic_Risk           50000 non-null  float64\n",
      " 6   Air_Pollution          50000 non-null  float64\n",
      " 7   Alcohol_Use            50000 non-null  float64\n",
      " 8   Smoking                50000 non-null  float64\n",
      " 9   Obesity_Level          50000 non-null  float64\n",
      " 10  Cancer_Type            50000 non-null  object \n",
      " 11  Cancer_Stage           50000 non-null  object \n",
      " 12  Treatment_Cost_USD     50000 non-null  float64\n",
      " 13  Survival_Years         50000 non-null  float64\n",
      " 14  Target_Severity_Score  50000 non-null  float64\n",
      "dtypes: float64(8), int64(2), object(5)\n",
      "memory usage: 5.7+ MB\n"
     ]
    }
   ],
   "source": [
    "cancer_df.info()"
   ]
  },
  {
   "cell_type": "code",
   "execution_count": null,
   "id": "41e9e00f",
   "metadata": {},
   "outputs": [],
   "source": [
    "cancer_df = cancer_df.drop('Year', axis=1)\n",
    "cancer_df = cancer_df.drop('Patient_ID', axis=1)\n",
    "\n",
    "\n"
   ]
  },
  {
   "cell_type": "code",
   "execution_count": 33,
   "id": "afe6597a",
   "metadata": {},
   "outputs": [
    {
     "data": {
      "text/html": [
       "<div>\n",
       "<style scoped>\n",
       "    .dataframe tbody tr th:only-of-type {\n",
       "        vertical-align: middle;\n",
       "    }\n",
       "\n",
       "    .dataframe tbody tr th {\n",
       "        vertical-align: top;\n",
       "    }\n",
       "\n",
       "    .dataframe thead th {\n",
       "        text-align: right;\n",
       "    }\n",
       "</style>\n",
       "<table border=\"1\" class=\"dataframe\">\n",
       "  <thead>\n",
       "    <tr style=\"text-align: right;\">\n",
       "      <th></th>\n",
       "      <th>Age</th>\n",
       "      <th>Gender</th>\n",
       "      <th>Country_Region</th>\n",
       "      <th>Genetic_Risk</th>\n",
       "      <th>Air_Pollution</th>\n",
       "      <th>Alcohol_Use</th>\n",
       "      <th>Smoking</th>\n",
       "      <th>Obesity_Level</th>\n",
       "      <th>Cancer_Type</th>\n",
       "      <th>Cancer_Stage</th>\n",
       "      <th>Treatment_Cost_USD</th>\n",
       "      <th>Survival_Years</th>\n",
       "      <th>Target_Severity_Score</th>\n",
       "    </tr>\n",
       "  </thead>\n",
       "  <tbody>\n",
       "    <tr>\n",
       "      <th>0</th>\n",
       "      <td>71</td>\n",
       "      <td>Male</td>\n",
       "      <td>UK</td>\n",
       "      <td>6.4</td>\n",
       "      <td>2.8</td>\n",
       "      <td>9.5</td>\n",
       "      <td>0.9</td>\n",
       "      <td>8.7</td>\n",
       "      <td>Lung</td>\n",
       "      <td>Stage III</td>\n",
       "      <td>62913.44</td>\n",
       "      <td>5.9</td>\n",
       "      <td>4.92</td>\n",
       "    </tr>\n",
       "    <tr>\n",
       "      <th>1</th>\n",
       "      <td>34</td>\n",
       "      <td>Male</td>\n",
       "      <td>China</td>\n",
       "      <td>1.3</td>\n",
       "      <td>4.5</td>\n",
       "      <td>3.7</td>\n",
       "      <td>3.9</td>\n",
       "      <td>6.3</td>\n",
       "      <td>Leukemia</td>\n",
       "      <td>Stage 0</td>\n",
       "      <td>12573.41</td>\n",
       "      <td>4.7</td>\n",
       "      <td>4.65</td>\n",
       "    </tr>\n",
       "    <tr>\n",
       "      <th>2</th>\n",
       "      <td>80</td>\n",
       "      <td>Male</td>\n",
       "      <td>Pakistan</td>\n",
       "      <td>7.4</td>\n",
       "      <td>7.9</td>\n",
       "      <td>2.4</td>\n",
       "      <td>4.7</td>\n",
       "      <td>0.1</td>\n",
       "      <td>Breast</td>\n",
       "      <td>Stage II</td>\n",
       "      <td>6984.33</td>\n",
       "      <td>7.1</td>\n",
       "      <td>5.84</td>\n",
       "    </tr>\n",
       "    <tr>\n",
       "      <th>3</th>\n",
       "      <td>40</td>\n",
       "      <td>Male</td>\n",
       "      <td>UK</td>\n",
       "      <td>1.7</td>\n",
       "      <td>2.9</td>\n",
       "      <td>4.8</td>\n",
       "      <td>3.5</td>\n",
       "      <td>2.7</td>\n",
       "      <td>Colon</td>\n",
       "      <td>Stage I</td>\n",
       "      <td>67446.25</td>\n",
       "      <td>1.6</td>\n",
       "      <td>3.12</td>\n",
       "    </tr>\n",
       "    <tr>\n",
       "      <th>4</th>\n",
       "      <td>43</td>\n",
       "      <td>Female</td>\n",
       "      <td>Brazil</td>\n",
       "      <td>5.1</td>\n",
       "      <td>2.8</td>\n",
       "      <td>2.3</td>\n",
       "      <td>6.7</td>\n",
       "      <td>0.5</td>\n",
       "      <td>Skin</td>\n",
       "      <td>Stage III</td>\n",
       "      <td>77977.12</td>\n",
       "      <td>2.9</td>\n",
       "      <td>3.62</td>\n",
       "    </tr>\n",
       "    <tr>\n",
       "      <th>...</th>\n",
       "      <td>...</td>\n",
       "      <td>...</td>\n",
       "      <td>...</td>\n",
       "      <td>...</td>\n",
       "      <td>...</td>\n",
       "      <td>...</td>\n",
       "      <td>...</td>\n",
       "      <td>...</td>\n",
       "      <td>...</td>\n",
       "      <td>...</td>\n",
       "      <td>...</td>\n",
       "      <td>...</td>\n",
       "      <td>...</td>\n",
       "    </tr>\n",
       "    <tr>\n",
       "      <th>49995</th>\n",
       "      <td>80</td>\n",
       "      <td>Male</td>\n",
       "      <td>Pakistan</td>\n",
       "      <td>2.3</td>\n",
       "      <td>7.5</td>\n",
       "      <td>2.8</td>\n",
       "      <td>3.8</td>\n",
       "      <td>2.9</td>\n",
       "      <td>Leukemia</td>\n",
       "      <td>Stage 0</td>\n",
       "      <td>71463.70</td>\n",
       "      <td>1.0</td>\n",
       "      <td>3.63</td>\n",
       "    </tr>\n",
       "    <tr>\n",
       "      <th>49996</th>\n",
       "      <td>40</td>\n",
       "      <td>Female</td>\n",
       "      <td>USA</td>\n",
       "      <td>6.4</td>\n",
       "      <td>3.5</td>\n",
       "      <td>2.9</td>\n",
       "      <td>9.0</td>\n",
       "      <td>9.8</td>\n",
       "      <td>Colon</td>\n",
       "      <td>Stage I</td>\n",
       "      <td>49619.66</td>\n",
       "      <td>0.4</td>\n",
       "      <td>6.03</td>\n",
       "    </tr>\n",
       "    <tr>\n",
       "      <th>49997</th>\n",
       "      <td>74</td>\n",
       "      <td>Male</td>\n",
       "      <td>Pakistan</td>\n",
       "      <td>6.2</td>\n",
       "      <td>1.6</td>\n",
       "      <td>8.7</td>\n",
       "      <td>4.7</td>\n",
       "      <td>4.0</td>\n",
       "      <td>Breast</td>\n",
       "      <td>Stage 0</td>\n",
       "      <td>5338.25</td>\n",
       "      <td>2.7</td>\n",
       "      <td>6.02</td>\n",
       "    </tr>\n",
       "    <tr>\n",
       "      <th>49998</th>\n",
       "      <td>21</td>\n",
       "      <td>Male</td>\n",
       "      <td>Brazil</td>\n",
       "      <td>4.0</td>\n",
       "      <td>6.5</td>\n",
       "      <td>7.6</td>\n",
       "      <td>8.6</td>\n",
       "      <td>8.1</td>\n",
       "      <td>Liver</td>\n",
       "      <td>Stage IV</td>\n",
       "      <td>45100.47</td>\n",
       "      <td>7.5</td>\n",
       "      <td>6.54</td>\n",
       "    </tr>\n",
       "    <tr>\n",
       "      <th>49999</th>\n",
       "      <td>22</td>\n",
       "      <td>Male</td>\n",
       "      <td>Pakistan</td>\n",
       "      <td>5.1</td>\n",
       "      <td>9.8</td>\n",
       "      <td>3.2</td>\n",
       "      <td>0.0</td>\n",
       "      <td>0.7</td>\n",
       "      <td>Liver</td>\n",
       "      <td>Stage 0</td>\n",
       "      <td>64023.82</td>\n",
       "      <td>7.4</td>\n",
       "      <td>3.76</td>\n",
       "    </tr>\n",
       "  </tbody>\n",
       "</table>\n",
       "<p>50000 rows × 13 columns</p>\n",
       "</div>"
      ],
      "text/plain": [
       "       Age  Gender Country_Region  Genetic_Risk  Air_Pollution  Alcohol_Use  \\\n",
       "0       71    Male             UK           6.4            2.8          9.5   \n",
       "1       34    Male          China           1.3            4.5          3.7   \n",
       "2       80    Male       Pakistan           7.4            7.9          2.4   \n",
       "3       40    Male             UK           1.7            2.9          4.8   \n",
       "4       43  Female         Brazil           5.1            2.8          2.3   \n",
       "...    ...     ...            ...           ...            ...          ...   \n",
       "49995   80    Male       Pakistan           2.3            7.5          2.8   \n",
       "49996   40  Female            USA           6.4            3.5          2.9   \n",
       "49997   74    Male       Pakistan           6.2            1.6          8.7   \n",
       "49998   21    Male         Brazil           4.0            6.5          7.6   \n",
       "49999   22    Male       Pakistan           5.1            9.8          3.2   \n",
       "\n",
       "       Smoking  Obesity_Level Cancer_Type Cancer_Stage  Treatment_Cost_USD  \\\n",
       "0          0.9            8.7        Lung    Stage III            62913.44   \n",
       "1          3.9            6.3    Leukemia      Stage 0            12573.41   \n",
       "2          4.7            0.1      Breast     Stage II             6984.33   \n",
       "3          3.5            2.7       Colon      Stage I            67446.25   \n",
       "4          6.7            0.5        Skin    Stage III            77977.12   \n",
       "...        ...            ...         ...          ...                 ...   \n",
       "49995      3.8            2.9    Leukemia      Stage 0            71463.70   \n",
       "49996      9.0            9.8       Colon      Stage I            49619.66   \n",
       "49997      4.7            4.0      Breast      Stage 0             5338.25   \n",
       "49998      8.6            8.1       Liver     Stage IV            45100.47   \n",
       "49999      0.0            0.7       Liver      Stage 0            64023.82   \n",
       "\n",
       "       Survival_Years  Target_Severity_Score  \n",
       "0                 5.9                   4.92  \n",
       "1                 4.7                   4.65  \n",
       "2                 7.1                   5.84  \n",
       "3                 1.6                   3.12  \n",
       "4                 2.9                   3.62  \n",
       "...               ...                    ...  \n",
       "49995             1.0                   3.63  \n",
       "49996             0.4                   6.03  \n",
       "49997             2.7                   6.02  \n",
       "49998             7.5                   6.54  \n",
       "49999             7.4                   3.76  \n",
       "\n",
       "[50000 rows x 13 columns]"
      ]
     },
     "execution_count": 33,
     "metadata": {},
     "output_type": "execute_result"
    }
   ],
   "source": [
    "cancer_df"
   ]
  },
  {
   "cell_type": "markdown",
   "id": "4c28cef2",
   "metadata": {},
   "source": [
    "## Train, val, test set selection"
   ]
  },
  {
   "cell_type": "code",
   "execution_count": 34,
   "id": "5d9c94b1",
   "metadata": {},
   "outputs": [
    {
     "name": "stdout",
     "output_type": "stream",
     "text": [
      "train_df.shape : (32000, 13)\n",
      "val_df.shape : (8000, 13)\n",
      "test_df.shape : (10000, 13)\n"
     ]
    }
   ],
   "source": [
    "from sklearn.model_selection import train_test_split\n",
    "train_val_df, test_df = train_test_split(cancer_df, test_size=0.2, random_state=42)\n",
    "train_df, val_df = train_test_split(train_val_df, test_size=0.2, random_state=42)\n",
    "print('train_df.shape :', train_df.shape)\n",
    "print('val_df.shape :', val_df.shape)\n",
    "print('test_df.shape :', test_df.shape)\n"
   ]
  },
  {
   "cell_type": "code",
   "execution_count": 71,
   "id": "3edef9cc",
   "metadata": {},
   "outputs": [
    {
     "data": {
      "text/plain": [
       "['Age',\n",
       " 'Gender',\n",
       " 'Country_Region',\n",
       " 'Genetic_Risk',\n",
       " 'Air_Pollution',\n",
       " 'Alcohol_Use',\n",
       " 'Smoking',\n",
       " 'Obesity_Level',\n",
       " 'Cancer_Stage',\n",
       " 'Treatment_Cost_USD',\n",
       " 'Survival_Years',\n",
       " 'Target_Severity_Score']"
      ]
     },
     "execution_count": 71,
     "metadata": {},
     "output_type": "execute_result"
    }
   ],
   "source": [
    "input_cols = list(cancer_df.columns)\n",
    "input_cols.remove('Cancer_Type')\n",
    "target_col = 'Cancer_Type'\n",
    "input_cols"
   ]
  },
  {
   "cell_type": "code",
   "execution_count": 91,
   "id": "e7560349",
   "metadata": {},
   "outputs": [
    {
     "name": "stdout",
     "output_type": "stream",
     "text": [
      "['Age', 'Genetic_Risk', 'Air_Pollution', 'Alcohol_Use', 'Smoking', 'Obesity_Level', 'Treatment_Cost_USD', 'Survival_Years', 'Target_Severity_Score']\n"
     ]
    }
   ],
   "source": [
    "train_inputs = train_df[input_cols].copy()\n",
    "train_targets = train_df[target_col].copy()\n",
    "\n",
    "val_inputs = val_df[input_cols].copy()\n",
    "val_targets = val_df[target_col].copy()\n",
    "\n",
    "test_inputs = test_df[input_cols].copy()\n",
    "test_targets = test_df[target_col].copy()\n",
    "\n",
    "numeric_cols = train_inputs.select_dtypes(include=np.number).columns.tolist()\n",
    "categorical_cols = train_inputs.select_dtypes('object').columns.tolist()\n",
    "\n",
    "print(numeric_cols)\n",
    "\n"
   ]
  },
  {
   "cell_type": "code",
   "execution_count": 92,
   "id": "6092c1aa",
   "metadata": {},
   "outputs": [
    {
     "data": {
      "application/vnd.plotly.v1+json": {
       "config": {
        "plotlyServerURL": "https://plot.ly"
       },
       "data": [
        {
         "bingroup": "x",
         "hovertemplate": "Gender=Male<br>Age=%{x}<br>count=%{y}<extra></extra>",
         "legendgroup": "Male",
         "marker": {
          "color": "#636efa",
          "pattern": {
           "shape": ""
          }
         },
         "name": "Male",
         "orientation": "v",
         "showlegend": true,
         "type": "histogram",
         "x": {
          "bdata": "RyJQKBYpFVMoNClETk8iUUYaKCFIF1I1UUNRO0grQBRSNjwaQz9UGC4cIkcqPiAzTi9VPRkvUVEULlEWLhw4Rk5NHxZOSRQVP1lOFk43ViY0HkwyGiMVHzNDKyxXVkNOKTFGGy9TK0FIMzQlTUErLiQcPS1MN0BSLFEpPU8bTxgxJFJKUSoUNRQjUFhWLUZMWDQqWB0mWBcjFTM2ND4fQRodKh9RIB9QJh8sTE06GDZNQSA7PS4wVEAyJkk6TRQ0QFAnTEQUFiNMNy4kIEIsVR1LMTRSTi40FEoZGDgUVEkqRlNFRzkkNRkqSywuJigYKERALUstSyEvLSElTFdHUzRIWVFRNxdGLSdCOBkYKj9PRU9TTzZGLEYaRjlMSjRXVSAiGBUuNy0nHlFPGDJBTBRSKEdMLTkrLEc0KUQnFCBLRDsmF0ozMxpUVkE4SSFKQxomFEJYVjgcMU47LSU9PCwZOx8VLTA7N0pYNDcnUS09Oh8mP04kTEpZHSQhGkNOOCxVPTUlM0FAITFXUTgsSEQ6S1JBFxYZJ1A2JCBWPTtOJS9AVhkmTk5AGjEgQSRPUzY4KVcfKVQpUzdHMEZLKE4mWE0iNSxPJEguUz8WQSIcOUNPKDM8Gx4kOzM0NDlBUDNFFxkpFk8sQEpKMzhLUkQrOE9GTR8WJSgiP1g5PE9ZVVQ3GBsUU0JEP0snFS0wFFlOJ0VMOks+RSo/KkBHRRsYG0JBNCZYUzwyICI0Nj8eVUNVLTgiVyggJi4wJRUaOiBLPUs3SRQ/KBw9LThFJVg2GiU9PCtXFlk8VxhNPxtYSiQbFikzITcqR1EtPj1AMUc2Jyw3LDMlTxkzPhUqNR4cKBckR1JSURohTSAtRz09UzxDHU8oLzVEJFgzPhRGKydNHhovU0Q3PDcfFSMeJDssMSgaMCAVRT8pUEsWJk0YPCAcSSE1SxcdKzgoQSQmMk8mKSsmQEpSTFkXQkIjRVM4GFkXK0xZPDEhSzMnIkNYOEVXUC8+WVU7OU4dUyZYSk8fFRYuFDNDWTM1Fy8uHBlVUTZCTR40IzUvWSdSFyw5UkFBOSE7ISlDFiZCHFM0IUhXUR5FKEItRykoJy8XVRlQHy5LIERBUT46RFEcPCQoRk46PB5AJlBQQFhBMUIlVVc3LzowLxYVOSNRRCwqK0lAM1ZWUjNMQiYwUxtURU4uTiI9MEIkVzhERhZBP1IrHiY4JEBCGEs8QSRHSjQuRjlOIEJWSR09PEsxGzcsIBhPNzYcQRcWNSRVVhsuSDoxJkhMLB1JRycrMkQ5RTwwL1QcLj9GOE0qHiRXQh84Q0I1PygvSVQoIERJHT9CSCA4NkkwPk9CTT1CNEpNGhpOFzAvHBgzL04sHUAeQkxCMiJQKEFRQSAbPFFOJBtOOC8dFFYnNlROVCkoJjsXGzwmL1ciOC5QKxc1UU85VzcgLC5MQiMpKD0zHiRHLFVMNTxZR1JCSlMlPjQ1FzAZRFRYGSYnGksjRkgYGE5RRSZCSTArGyRVTVgvPEQVKykmVh1DMC1ITikpGkEzGUM2Ly0mKjVFIzkmG0Y4S1BMGhY5FDkoVksoUEEzShg6HDo8PTAgMxklMTM3L0JCNCY7QlQURFA6LSQtRE1IVFEWMC0jSS8wPEExQ0xTTkpRF08xUURQTVE6TVM/ThwZJBY3PR5JI05OHUUqVlBAIBopKlkbFDhZQRkVG0kuJ1AyIigySk0mPixDSi9YRkU9OSEeKD9OSSlTKSFFJ0U7IDhVPic7I1E2HyRTMB5FHlNPUx5BT1FKSEscUjMcUk9JFzpSFik5UUwzFk5ERxc9J0krKkFQIxUkMSBMHDMfLlE+GUU4U0lEKC8ZSzg3TTNNFD1DFy4cLDUrLTZIP0NVFkQ5QSwoGFcoOx0YSk5OFTpJTUdKVFIoQiQkGSEiNk9YJlI2Jz9FVDNZOFdOMkBVMVhASxcePBhPJUJYQjEeQBo9SUxPFxUuHz4bWC9CMSFHRyhKMCxSNyklSSApTDM4Pz0mMk5PIyMeFxUmLRUxTzgpPDVVO1RGNysVVTAfJTVNKVlQSzcqWCNQQTMiUTsYWDBJIydUG0Y0Flg6JiBGHx4tPlNBUCw4QSAaLywwN0BGSDkpTBo0FxdQNis+L0JBQzopVU0ZJTQfLkklPjk4NFcpP0pASE4wFh02HzkbKxQdLTw3KiU+JVJBIFgnQlImNkg+S0pPJi85QEFKVCUoP0ZFQxknJBk5IVEsQCMqNUo1QBkoQzIXHC0iGBUgUFYeR0tGShUsVlNYI0o2SiFERj1SNTcsGSVKQS9QSycUUlcaPzRFOEMWWRs1LCEbSyMkTRVMVVMwM1k1SSUqGjtZREcwS1k5VCtKTykyJVZMP0dZOBQ7LVQaSFkpM0lNGUAtSkw5LTU8KjMZHShTUS9PKUNAUVckO00wJCU9JCEXJ0JHRBZVPSY0RFJJFCwjTTA+LS1AUkdXLTQtOyc7IykfGUhOWCEdHx89IB9STBUhKBpRK0YdOktDPUc9My0qTEc0FUZIHUdEVU03NDsqHysbTBgtLxUaIyo7IDwvM1QjMh9JSz00PjkiSSUsJUBFWEEqKUY+SkwiTUgqLyNAV1U9WEYbVERMRzs0NxlNSywvGFkWKEokFVJYMVdXHyQxKhwrFEJOJTMuJT81JTkYFzpTL1UyORpFHyQ1WT8zJFgoTlc7Vy4kNxVVPilIIDseNVVZPB8kOTg9SU5YQEJOU0YwTTo3Ui8+UhwVT1AyRFAtIkJKOVFBGxwiLTA4OTI3TS4UR1YVOFMrVz5FOhpENBRJWEYpN0UlKVVCMkMhTUYXH0AlMCJMIU1HGz9ATDEcFSw2ShxTMjUxWUogTCtIRykmLVFFOi0fLSkgOi1DVEUuPB8hRkNFHRwgUyYwFSkeMD1EMzJWSFYlLj8kO0EcHlUyOjhPFRgnLEZDNhhCSUgyOkEcKyUaF09KMCo0KjNJJlcjIx8oPixVUDlZSi1JMk5NK1JJSB5EJjIXOS8wHFJWOks+IFgXNk0+Vh8fVSIwGis1VB42K0gYUi1MF1hWGlA1Jk0cQywdO0omWEw2QR46NkE5ODs1RxxPKFgdVhQXMUcyS01TGkoyTy4iJyosMklWODQuKiQmGzk/Qx8ZNlFYIx1ZJyocTU5JUxs6MkkqSz8xJCVRTkRSVkhCGSNHFEQ4SlcgMhUiNSM/VVlQLVdNLCVUSCQYF0o6NEsbFiZVKUE0K1I/O1NZKhlFKTcePSBLKzJPIh0eVFAoVyknKys5Pk1JPS8wIS0US1ccOlhRTzhDNC8dPRxMSxlGITctLz0wOhdQHTUdLyohPVBTMk4VFBcWHFlVI0NBTDJQUFkkMTItQlVVSS8dIUA2NURJTSYbJCFROCc2Lj9DRx5DTSYdK1FRQh9RMSJBSz8wSUpQI0NUFjEnOCojIC5GOUYgOz40KzdRUh8sHlEhFE4qRSEUTStKFS5SHjxPP1JIPycyMVZXHD8rIylMWU1TNUcvJiI+Ky0wUCxZLS4WPEYbORgqGVgkFyUyFkohIhUuOBdOSygeWTc9Qyg0OSwtTkJUH1gsM0UkJ0VXPTRTRi4zQUc3STYmTVIvVFU5UFA+PVYxJklQRTQaMkgZH0lYTUwUKFY/HVcvRiRWJVMWVlAXIRZXPk9UUCYpITRYMk5HIFgqFzo0PUYrICg0MzocJ1ctQBcyHjMmIVdHJDQUPEoYRBs0JUwjOSlHMCMkSx88NBwwOkBJHSM8RBUaMVUjLR0yGBRWMCI8NzQYVxxPWVVQFClDSkZPHE4vRjNQVT1UNyUzTEMgLD9BQSAUJk80L0pMPD8lSzpQUiU2HlA/OUIUFiRJQD1VSj8zJTspLTYjJS42VDkiFC0fJ1YULiFYUFkxSiYaORYrOlcYSjE8U1IbPCgxHkcyNlUwQVAoHS4tUUI2M1JSFFdLTiMtVVI8PU83WRlSVCFXHUxFIz0pJiMqLEYcGFcpGVFZQzVZJk5XFFMfJB0kRTgwHhkgFFI1HUskUBo2IixOGRdVIFg4LRoyTh9SOidJSxw1QCYeIB8nO0kVPEBCFD8pMlYlTTgoWCFFUBckQDQ1PjBZTlMjRxk8VEwuRDIpPzsrUlg9IThHPE1GSSwzL1EuIUMhVBpKICJILiMnKUJAKyA3UC5XRhkpK0YeSzpYQygtGxcoIkQ+TFAhNSs5Ih8/IkQoIlI9GD4vLRZSWEIWFzJOQDgcJDIqMR0nFRRHTyk0OSsUHygjVTZIHUEvVRoyJj4vKTo7HxVWHUM0OCgyMT9TLxsqQSIVVkIVVixDQjEZSCFSRyZCTRgjVUU8O0AuPyc3Mzo5M0hLOTEgNSYzOEEtQVIwJU4gI00XHFI0SkxDMBsfPEpLIVA/ORkqH1I5RUdPKTtASkYYLzk4Vz1FSCwcOSlEVy8eMkZTRzg1WDQkTBRZHUYmRkxXGkUtJx9DPxxJNUlRUyNVQk0oKytMKik9WVRPJhs6OR1OJ08vLUouJVgrFVVEWUgaGCsWNRQXRxkuHyI3IVgdNCAzK1lJUUs3ST4eVjZCMigxIk4WUxpKQyQ3UUMXQVlWNygtVR8kGlc4HhQ9K0gbOUxZHEMUTEgjSE0bRD0sOSFIMy0fUkQcGi4XKkMyHUQgQEtEIDEsTkwqP0hHG08dLDIoNChXMUBYKhgaKx02RDooO0k4IkU/MkMgQj9MQ0M3P09CViVFMRgYNDtOIh4lMVdVGTFRHSAcVzorNS5UKEMgFjMhVyZVVRY9NitVGSgwGkJIKD80WS0qFyEnFDZWLTQeLh1FRiwePyFFGEwZPldSPVcfVUonOkwnRRQzQDE5FFRMLCYwTT8pR0wfFTgbTDlNNFhDO0Y6Q1AlLS8cUUskQ0w3NDQ6QCdJKkcrOU4VJzU6OiRCQkE2PTBZIVA4Mj9MF041MksoLRtPNSMgU0E+NkZKKzUlICNVJkA4QidHJCogKlEqNUFAJk47Ljw8FzIaRS4sSCM2H0NER1VZRkgiOzpXQjcgKEZGHkdCVTkqFkAnQk8/PzA/MjwrP0spIFlNLxRKLDRJH1VIJC8pIlVQHxxESEQzKCUsRRlNISw5MTQ0LyMoIiE2KE8/GCgrKzk/PEJXNk5AHjU+GS4lHzAcUiEWRkMwPj09RipXTERAOlhLQBk5U1ExOU85IiRMHxZSKhxKUTU0MkAcVSEbQTI0P1dGTE4cVDNJQkI4TC83UyUiQRUuN1RMLzxFOhpHQz4aWU5RG0AlT0MfSjckUSZCJx01UC47Vxw+TEYkIE9UJDEtSFNAJlQ4OBkiPU4oO0lIWToyVkcsJydXPCYoOCMhHCEiR0UVQkUYMBg3JlMpNSRLQD9ZISU5P0YmVVAxRiY9Rxc8Sk9FITI2TjccViIyLyw1UUovRzdNWRwoU0suWRgbHCI4TCYdUSxNKEVIFUxSHyk/OT04GCJIKD9VJzc2FiYhQVYbRlcwIExGT0ZNGTUWJ0tKNTIaIz4/JkMeQFdDIjtGIj0yKxhCL0kfJ0hDRSRKTSozHTBAVhkcOT4oOigxSjE3SkMgLlE5MydHUxo8FxUhUjM7JUciSDJQU04WJDYUUDUlLiMuHxxISRdTQkMtGzgwH05NSDJVKhY6IhodVytHFTBPUjhTGDUwOiFXM0NWTyI3HTBIMDElUzdJNzA1VDVGN01FV0ohShwoTRkUSiJRRxo6NjciF1kjNS5YPVFTMi8UURs7SyhARjdHFkwkRTs/OBwnIiohNVU4SFImF09EFEVDRDNUQlVXLjUYQy0rNE9TITMVQTAwKkpVOzkpTSU6GlRBG1JAIVAUVTMgMxcxI1ZNKk48VxpBNU8gVy06R0IoQ1ElTkM1UD1ES0oaJ0MWRzJVTkRGVVguLxZYGBpLU0VUIjtYFC0cHBUZND8iVlU6FkEzFlZHQUEtOSk2JT4cUTsaJBVIHBk2WB4lTyUhNTcUSUI6GkAZUUtRKVdMHVUdQBwYTVgkWRobL1UdNBpQICMYOU4bFzhWMDwYKUA7Mk0WRktRWVEkG085VTcsMBkUOlJWKEMpVB1CLRwZRhlWKyIuPFcaMRgbFT9UTkw5HCIoNlk1IhkULyc8WENOJj06WDdSNUQlGCtOND8ZKiAjFEs5IlFZLRo3UDA8VCJTFTcnI0pYLE9RI0pQPThSKhcYJT9XWEAxShktOB5UITkmM0g4HEcbIRYgMC00Fj1GJykuMEs3FFg+ODwbUEVAUzNHJTZGOjApPjBITFlQGSkpLiJRQCNTMkwWVjNVVVguGTRNO1lXNhhIR1hIJEkxKCdXJEZFWBoUFk1JMDJQVhhEGR0qJD9HV1YvJS5PIlciMkMaFikWLjIkIi8kSi9UIjoYS0cdUSY5IlUqJkJHJFNLPz0bKkgjOEEVRBQpFxYiKkdMISYrFzciFyA8Q1M4Mh4kF0cbFCI5PUhWPEMtJT5NRUI1RyEqQEsVK1dVSERQPSEWK1RKQihYMlQuHUciV0tGUyVMNiY/KUk5OVQsOFIxISAuHx0VJC8mSx8ZSBwkRUQkIkUcGzBBFkU5GCdNOUlXVVFRQCVDTT02RT1YTUQxTkgyJyVLQC9FVyVVLjhEJU4mJDwvNxU8QiBBKClRNj1RMyU/MycbKFQZVUNDUhooVS43QCguLS8dOiYmID0YKE04JiQuMywtGks5TUYjOxVDVDw8VlE5GyhLRR80RChPLRtJHEMjQzUVJkM4REMwME0uVz0aHCRNLxwtFTU6MDJYHj4qFU5CHFMbTTI4QUY2PUAxK1VQOBpHUyAvRjoiWDtFMyQrQUM0TCJVNR8cPjlWVTIvHUYzNyMoTjI8VCpPJE08NCAYOT8yGCRRNxZTJU4wVhVJFzIpNUMyLyw8U04UIFglRjwmPTRXNiUtUEMaGhY5U05WOxQcMhg5QTFRTBRBLD0wSVEpIktPGjtATjsoHDErMFckRR4fVBVXHSg3K0BQOVU2QiIXOStLMig1VUY+TEtKSEsaFz47MRo3N0RELT4+Ih9GIEw/FikuLlVJNzs6Ghc2LDsdREMaRjMpFDxAHCFYVkRFTUhMI0AyUSYrIEFDFFY0G0s1IyVCPlRSRElCSDNROTMnOxgxPDsnNjpXUipGKRoiH0kxMldGSUsmM0IfGCdZNUUVIk8qPCw4QU8mJkMjHjs4Vh4aUlQ1HDg8QEJDNR1FTVcwG1IkRkwXHhtMTjIqShpPIDIVNDkgHT4/WRlVL1RNQkcURlZSGi0/WTMYMCwwLDU1MEwbKBtKOyJQKkIkSUckFjg0RzE+I00yGSUgO0VXHyNISUsVSBonMVYWRyNWTilJPDZETygvNDAnFxdVH09XKjUkU0wbV1YoSCMvFyInKBkfSzs8ND5TLypJFj45SSlZKy5EKjQlMx5EFUoeFhlGI1MVQDRXL0g/ISU4LBslQ1klSy0zGFM2FlVTN1hXNhVQJBs5LThZPD0yMVVAQDlLOk03QCYUKBZTMi0hUzItJz8rPkgnG1lYSEYZNDojSCIcLUIdPi8mJ001HkEUSxRBWCwjWFhNQzAXKzclGTwsVVYjSjZOPStZTEwUMEM0RCg0S0hCLi40QSIuGigxGzc9RRwjIy9HQTlDVlUuM00ZPUpUIx05R0xJVRtSHE9RSFJMUUssHB85L0VWLyJZKUE0T1cYGUlQKhw8SUsVPBUmS1k2GExNN0U4T1dMKhclLFRUPhdDMh1RHBssVSszVjxKThQ+G1A+LC0bSkBFUy5ETFZGSj0rQ1kfKSEwHS4cG0xHUR8jV1JJLEk3OhdWMi5GJ1IWRDI8QzohUUBUMCBSMEE3G1Q0LxZAGjhANkoXVlQvPUk5OU9IO1c1KCcjWSo9GTgzJDgWKhYURFYyVTJBTSxQOk0WQ0Q1WTVGWBsnSjlULB00RVkeTlhSJVFLLk5RJxYxSktQT1lHS1cnSR0qKyBNPiEkVhtTSR8XLkYYGVc/Ij1NHzw9HBRVQkY5F0MYFRUXWTctLyVMOCIkUig9WCQaO0YzMjFTOFI/WEQXJ01NOlFFG1lKPig1GFdDVSNIUUdUKzFEFS0tOEg8LFhOS1cZGTAlKUssMyJNRR4UOjc8IjIUQEcfFUoiJCIZRk5GOS1DITokPSFUJUIyGyBKH0k2HTpJOkxMSzkUFhU5GTw8OllQPEtSKU4kOj9WQUk8PzFQFyw/IyMbHUwXUlYVKio0V1NBK1NUISwWMCJDMSZZNFJPGFEcMC4YPSJFFSBFHEBGMzk8HTU6WU9HTR06JVRPQE9OUE1ZHyRJPzYbLyJRPENYOzFUQ0Q4MSVES0JCFlUpJzlIMEAlRCkoMyMdFjkVLikqVB8iNhgxIR1NNUg2Px1DR0VRSjJIRyMXWVhCHyw+RCUuGSlOMxQbRz8/Qx4sUEE1GjY4UTs9JE9GNks1HicoOFkzLiYVOy4fJB1VNkYdGRUtWSpJIkxFNxUlOCgUTUUyUT85IVE7JCM+RTEdVRY5SRU+FjwbF0IkKUc9FUEiGj0xSRoVIR1FJUcyKkU5T1ZQThlLKlIUWFI4IBkzHhZPFE4pRTYVHBVXRCQnMz1QMzdBORwYPUEmJR9TOkoULEMmSx1BFkIiRRYXIzQcTDsjGzcWJEw6TT9BMCMxGDVPHhc8Tk8YQyVLRkwhHBcUJSVRGEBHICQ/IDRXI01KTUxSLlYpQyUeSk04IyYdQSY4NRU/LhohSCQ9R1kwTTQzUi1OSDIWFEBJUlc3RThAFEhWSRs3RxlFL0NZJBxOHSMZQhkgNkc0KEg9PUFNNFFYPCVGHxggLTkVSUszHUtHQjYaP1lZHhxOKT1HIBk7RR42LE0UQzM5FFUjTDQ3Ki4qKywsLjMeWCYfKhs9WFYsVU03PCkoK0o5GzAdRR8jFDs0PhlWKDhLIDRIPEUYFC0wUUMZThoYNEUgQEtVUSYqRC1AOlhXQSUfSUIUOE0wSSZJUy4uTB8gNSVGPk46HhUfMzQnNRtZGFY6GTlAKSQ9Jh0tGCRFQDBOOSRLNC5AQFkZL1YgFDs4HCAhPT08FB4aSUhATkklL0M9FkYVVxcfMzkrRyRPUj9DFkgcLBwiRxpATigvIRUfM1FKL1BIQj5XQDw0LEJWPVRKSSFLSExBViYgIzoWICU4SR8bPzZKJEoqHx5DThYbIlYyRRY2IigXRk0VLB01GSAaQlBUKik/TS1WTU5TURUZMDxGMVFFUU9JGBw3JzFYRzc/U1A6SUMuLlJCKC4jVSUtQjE9K1Y4FSg+SRRTIS1EQUNAIFAgMCcyGz0zHjVVPkY1PhpFGC9PQVQ6VB5NRhxBIDw4PxlVFjM8N1UaHU4oFj8sUR8VOEI4KjZEQzgYVS4rMCUXPVFNQjsqPUoYKClORz1IWSQ1VB9BM1AsI0dCJyxPOTchPiYuRS80IlBRUjA7HlEbRhc3KzxEHUMbGk0iGCEpWDYZSVVPFUJBPEgqHRw0LDc4JkhBSzI1MhpEMSA1SihMPVYaMDUyOzEYMjEVUzgqNUoXMz9GGzxTT0UbVVBNNRdOQ0kgIlIiMi9CHBkjN0AcWE1HWC5NQxQxGh4fVCU7IylQP0JSNlEcUTofGx0tHVFQUCA2SUY+WFAuLStKIydSVUMeMj9LN0YwMiQUSy80FSs+RzAwOBs5IjscWSkuNy4hJi03Kj4lGkg8JEM2JBRKIEIsVxpVH1EySUhVOiwVMCJRTSxDSlgjLBdPMlIbSDkVGhweGiU3JUo8GCFGPVhDIiweJUkhTiUsP1FURhVXVxQeF1AiTT02V0ccHjIyKRktGxhQP004RlYfIhdAMx0hUFUbTismFSNAQUUpPFcaFy1YKCM4T1AzJhg7HRcZNkwgNlVMHhseMTYrPClMSUs0IzYeKTRMQDAlQhZJMilAJDQuJiIqTjUqVhUpWR8pMSYtHicdKygbPBwwRBQuUzwhJx5VKysyPyhST1YiKVIyGSAzHEQ4MlIVQD8aNDEyUhlVHi1KGRZUMDc/RzoWFxtTJh8YKi9AVyZBNBZTF003KxRTUVchRDg0KTQXRDMjT09BSRxZRTgcT0osITc1RTg+TkYiHxpMKkcmTk5UVikpHEtANScYIjYZTTEqNlguIExPUkk2UBwmLE0vFy00F0FKOlhBNlgwMVdOLzpFWSpBHTM7N1IUSzhQP0pMIzIiN1chMRtJF08UKSlFOB0xKDUUQkdCRUA0Vy4vRUpGM0BLFzFPVD8tIyMxVj4zGTAXPjU0RVUqSlM2WEkVOUsdPD8VNzchPVkvRjA9WBw5UTU4PSEkJFkkQDlEMCg8F1g2TBgzPUopOTpPG1dQO1dAHE4uTxVSFT0wRyhJMiQvIFU+WFJZViIlGU8+NSJVQVUwUDxHQygmIDNKLVchPBY8QEMrJTA6RFcpPTUXQVcbODBDQiImMx5QN1NVHTwXISFIMDIbLUFQPCVGMU9IUyEqGh0/GCdMPSw8QUwYOjBAKCQaNzAnFDVOGVc8SVAnQSoyPiMxOzMnFFAXU1cvR0lEWFMoQz8tMkskKxU9PDMePU0oFS8iRS8rTVA9OCY3JRkfRFMVHS1MKigsL0VPUUdYNlAwRCwhSzNITR4VKVUhGk1LPkRSJ1EqOyw6WT8oPRc7LDc/QCxTUThWGxg8TyZXNClUJxVZGEEiKExFKRQgGScqKU5XFCYZKDVDNy5HFTI0RzlJNis6H0gjVkcoKzAZSyFHFB9ZLkgkIhckHz9EPkMnIiVPWCUyMyQjQCozIlBYKUUkGSkcM1lEMVQhS0RFTiBRNj4zFicoUkY6TDgURE1QIFM7VRQvKVhZQxYoRkZUQ0xQIzFWKzZFJBVJRBVZWC4qViUeOiZMNxgrSBo1HSA4FlkgKkdUIzMzIE0vNEVGOiJBICRWM1AtTFNHIEEUNkFVMTMmTEMmSxgrWUdOLVQYUE1ANxk5LDlNJzNNKTtBKCQrU0JMTlg0QkNWVFlOGEgZJUlXLlEcP0VMTU9COzsiOyVBKEYdVjA5Tk8vQSU/MCEaI1MfJU1DLlUmICkzMSMgPCc5SSg3UFYwVjErVC00OBRPRFcYODtEGhgYSUQyFjY1SxghKzs+OC5SUzMcMSJDSS8kISU1QFJKKVcVOEo6O09TSS9OHRcXI1QkHxYzJyMsRjsXKjBEGEtXIyA8RCUdQicjSh4iN0kuUTdKQ1VJFTgUVUgvPRw5RU8yU1AuQlU1PDE+HD85ThsZSEwZUhlIF1gZIR0gRhUuQBVMGTk7IhdIGlQ8STtNMiMnNkMrJDIeFksVFUxRFSJCQ1kqMhYbOEofJjhKHiA8RE09P0g5SElBH1Y+Ojg8JSw8FURIJiwfQxtJJygrNEVXLFgoKlgwUTUhTz1CRztSIkwdJCNGQS0mMUs9K0c+NRZXHjkWOSwgV1kcN04UHDNSQC0oKy45NVlINxgsODZJQRkUSz0tTx9QKjsdFyBUUhgaL04jNDYsQx08UTE7PFBCSyUqVEogMB8bL0RNGEEVO1gjSSUkPC1FIk8nRSlDVk81LTFPOTtUQCAZQjkXODc8RyxWF0wzRlI2GjM3PEQzQyYzLDQ3Iz9YOE8zQFg0TUwiQR5TOj0YRz9OLChTQRwWHDEdVy4bVUoyUD5YUkhQSEdWOxVYTSFSHyc6OUJSPzBPNkdGSxkqOTwiHj9OUSo0HRxGPDtCS0lAFUhVNC04KRZWHFhXKlRJS0UgLhtWG0xBFRlTSiEsFRUfF0wrMS8oHFc7FjMZLRVVFlU0Jh4sJzknHiNHRxwVVFZWUyAuVFZDSUdGME1YTTg9IykeWUEeUiZKPBQdWEFALhtETlc9My5OLyhXKzI9QxlRLVJSUVgfGjBKJU0jGDRVQDAzLlAhFTNNWCgqM0A0JVk/HD49SiUjKBgbIjkuQRcmQyxWLT89FlkURSUaMSQZOj1OOTIrGxoWIxY7VRpFRBY+TEc1OydEIzgpGSJBWT4kKVY8QSBGFTtSOUYcKz43RlkbPlImJTMfTSgfJiotRx06QzhSGkQzJjAuWDYmNkMkIlJDGjEZLSsdRUYjMx9AFT1BM0tESiQUVCs4NkgiPRciWVgdHxU4WFkyGD4mFjoYKVMoJlVOKlElOCFWJz49WFFDGT4dOjRORiI+S1lSJBhYFjkgO0c0OEs2VTdNTi0fIkkrHjdLWUwdJE1VPxw6MSVLGUk6Ty07SzosLCIdGh5DV0NAQkg3Pz09IBQ7QSlSUyEkOSAcLUMxM1geKiw4Fh4tUVYvKDoXGk0gQko9L0AzIDE2VhtAJ0oVNEM4TUUXMiEUTlBPOzEePitLRyI8OxgvJTgsLhpOF1IbPDwzGTotNhw5JlJVIyAaPzk/LDBZJTgfQSscQiI0GxkpIBQpKykfFx8oIBgqTjZDLlI7IFI7FlFCSj4vTxY2IBgpL0U4JxUlSxk9UjA1LSdQOz1ZWEFDOz0ZVSUsFFIwJjIgMVQeLB5PSVJDOSQ5GxxMVhgXPTYgOyZOJSsyTRxLHUxCJiZZWSVVNSlCNT8wQxpMRi5QQD9FFTVQMjRQK1BJGRo9VTYvOENBOxYqGUpWPjlQLhZSI1g4NChWVystP1lRPSE9PEVIJCQjOiwoV0RYIlBKPTZAKTckOT9TIB0sIy8zQC4tQVdPGT5BGEFOOjciKkdPJU0zQTdDNyk5VBYfJSZDLyZCRE8uIiAnHSNONC4xJEksPSBLRjQ7FhUxHVQpR0gdLjEwLEQ5ITEUMywaUVMWM0Q5FTU6V1BALhhZK0VYQzoYHk9HIlcYMScmMRk3NlI7OBgtS0lJJkdWUCAyUB8/J1hHUh0fWRtCLRpCMUUrSRtCQVI1LEgqWC5XWS4qUz8fODUzHlVHJFkrRkFOHSosKEhSLCAxJVEcLzdLTxQ5KxcoOTNMTSNPRk4tQjIeS0wyI0AtPxUiPkozLilTQkA8LlRJKBgYWFchVxswNVNXHTEkSDlFQBtUGEEVIClOWRZEHVM0JTAYS0cnIy1CMTotRDUWR0JJKlZJJ0g4ISsdPj06FDQoRDAWFjlXIj5SRFUcGiA3Iy8kIEcqKy4qNUo/IT88FRhCNioxFSwmMCkZGjcbMj4dJyNOVz5ISFI9HDYtFkpWP1dFHElNPh1TFy9VVjg+UjE+UDNUTy0/Mi0VIE0kOVhKMBdXRzo1MDwzQCRXFCYvOFFJFUYfWE5BTjspN0sXOixCOz49RRclN0ssQysyMEg2Qko5MCYcFjEXSS9ILFU8FDVXUTQtJD5FUjgrQFAmMzEyJD4ZSEdBPk45OjUdVEhDIy8jRjQlLT9WIBk4SFBQPio3J0ssTENGSS9YLVA1TS06IlA5HlMfFSVHMlNKUjsvUSxTWUgxKU1KQS1GGjVNIFUXOyMdNCEeNVVIVSg+Fxc2QzczIEkYHT9DQ1k0OSkuUidWUz0eMCc1IBsWFiJOTyokQykuV1kYTVk7WEcpLR8zRRscTEkmQT06V0w4RSAWTlQzVVNYMyAlKSIaGCdTLE1SWThRNDs8PVEVKD0dTztSTEY7WVMdHiUqPBwyL1ZDPUdHPSQUVisXLzk6SElKMk4lVho/TElZSzoULjM8MzxVHSxWSkopIkdZO0dTRDBWVjYgM0wdLEItNSohRzxPMUFIGTk2SkJYTlUtKhgtIBVAFBZZQhlQWTxTSis8MDIfODk0IBkbHCgUPxhVGy0pFhtRNT1JNkpEG1UuJx0wLytKNFceI0Q9PR1BRDoeFRdFMkNAR0c/N0gaPUxFPEIhIxVLRD0pNTE+V08dTT9MKkQrIFZQFSgcHU1LPEMkHzsUUBguQR5AUC44RB0cIjlOKDwsOkdUV0xTJx1NVlkUIRVFQ0pZVh05H0FEUj5POE1IL1BKOC8dICxVIS4iPkwVGCpAJUYqN0tYKhgiST0rUCEkV1UlSBxGSUVDNlYcSy0aFSo3KRorGEoeOx4XQD1WIz0qUyYfQytULzQyFzccOCdAWCgtRzk2NDQaVR9OJz9KRzgYFhstGFcwFhQZMUNXQj4jVkcyKRUpSxgVFxhQLVNFUUVJQFArQlcmQisjRFVESVAiOzErS1BQPRoyQk0pUj4sHEgoRSNVLTBBJBxVMTtRKzZEUFgeK0YmFkIkQFkoRB9UJDAVM01IQjQnRhtNLlYsOhgZVVhBKxdQHTxDIk48UCpAREJII1VYUy8+QSVJOxgYUDFSTxVJLSk9Tkg7URlYJBRGVDAfQy1LL1AfOCRLVhU/S0grLExYIx83M1UUGRgvWD8qPi08MiQZUxczLB4qUhVVVTlYLTxKRB8tQj4uMUkkMhVQK1AcFiYVPiM5JCxHIBcyRiY5PCwgO1AeRzcyUkoUIiwjVFkjPyQWKSVKWRYoNz9VP0M3GEIoTTwYGh88Ty9SFkpIUB8pUywqSyQeVjtLPSUsI1gqJyZYHTNSVSMeKj0aQz4hTTVZFxVDFFgpK0IuHTo4RkZRNxo3QlRYJEY4SCBZNiA0Jjo6NVgWNS8aSTU8MjpCGBcmJThCTy0mGUYhGxUlKENRRiMcIzIgQjoVO0NQNykaO0Y6LD4tHDFVVEkrRkRLHCkhOh9UT1IjGSdLGVlFK04sIEg4UjtQLFc9FSVDHDY8UUM+RiwsRzspIUVRPlQ9Ii9EOSdRKBlKF09HO041VFBBOTc6KyY7VC01ICkoGTZNFjomFy5RIztCUxlZWCtRMR40OCk0QUxOSFlYSjkgJ0AUPDkuGjM+JElJHllKHRhXVENORxkhSCxCNz0/PytXS1U4TU8iGEMoGCVNWBRSWSZMUypZLVJVGCYpMk5EIhpCQEIYTlBDMCQsNkVLHRcqSCVNOyc6TzouWRw5TkM7SR1AKVc1QRwpWThMHxpVUilJIRkbLBpTRygfSSEtIUFXPFdMH0BANUYcHSFNMRlKHCVGJjQ5REgrRCJGRD1YRk8hNS0zFRVWJzokWUEwGUAZKlkvJ0lHJTg2NjhPSx9FRSowSEdZQyBVT0dEMBUkI01TLUE+LEYlJC0hJCccNTcXFysZVjk7Uio9VUxSLRlFIUlMPB1NLzNYUhpSTDVIF0dGHR0qP1NHNU4YVTYWJkogVDkwJDhTFy0+Fho2SkpSMEAnIDJEJUY4SkRAODMeNiRJIjo0RRQbKzsrKSI6Nj8yVywgGjMrFDcuV1ksKCJKHkwZLE1XJEwyVTQrMyMyIRlYN05TTRU3ICYtQkwUSRs3HTE1ShdEWRhJLT8fLlgnPD9YUBceQ04kHkUkKiVOVz4oMT5OKjpKPS0lPDQhSi01IRlQVx8/TitSPCMUKU4VVUQvOlM8HVdYIBw8Pz0dFEkjQVInIFlMQDQYVFYXMUoxPzIjFiAwQxssR0caQhg/PVBSOR8pNxhGLVFOQTQ/PFknQC0sRh9VL0otIkoUSxZBJCMkTko6PS9ZSSRVUB40KkQnMVQbIU0zLyMpFD9COTw+UU9IPS0WWUVSHSFNVEAcRhs3TBpMICQwFSdRLD8qJDNTVBoZOFFTRSxNGE1PIj86Uz8VNhRBUiMoSyEsSkoaLlE9GxgbVlhNLk0UPidZRCktURodHhdXGVU3GkgYLh4oMzNUVjwqJUY2IFElICFIHRwZSjFSMzUyIicnWEcvGjhPLhwnQiYsV1guLBwbJSIzPkwUTFhYGzNJVRYgMB1UWDgVRTVHKldOP0M9LEE7RSkmFRpEM09HFFM4WUoqQyA+NCspIVRPU1c3VxogFjseVj44Q0M2MUZLJkceQUAdICZDFhZYPkE/TzkWI1RDGy1MTykWHToZLydBOj8uIzpGJi9TMkkyPC8jMhonVjkVKEIoNxg/QE0xOEJCQ0ZNHRkyWTFAK0McFUctLBQmTjJYMU4jNSgfTjgsPU8ZFDonN0coHD4ZIlNCJ087LylCLDsxL0wwRVBNORgVSzlGWS4aPUEaIRk2UCtZRyFOPxlMFRVBPFgdMTYkRxhBMDhONz04KyQUQSJRQEIWWSkwJ1k0RR9HUxkdVSMfIDUZWU4WWT5FLhY+O1UnTCAZSx0oSzYZMExQV1Q4UyBDT0VRQClIRD5UUC0gRU5YFRUeLz1RJy0WRzQsNDpTVRwvSEFNKj0oLE8YMUA1OSMjOU9OHSRVUjIjG0hTRjwcLzYvFFYtN1UoPDxWSFEVSEAzFT5PIFQdUSA4HTVNKyw2L0s8HVZEVSU9NFRAR1VRIhpGITVTLilBPzwqNDxMVztDIhoyITRDHzxKVTZLQUFWTENKOUgwSj8tGVElOURSWU0XTD8xUiFFVihGOSUZRUs/HUo8Gk8tUTJURSsiRCUwNypLS00yHkwhQTMVQD4zNiZXME83IR5DF0I6L0I2NTRYNRkgWBQYNyRNKTJYMx1KSlQkTlkeOz5PQTtAKD5CT05ANjIfQDNJIjxEOTslHkQeMhlALSgxGR1LWVFBOyY5RjoaLBQtGS0+JRlXPCYoISNFNR9GSE5KPUwrNVIsQjJHGCQ1SVBPTTUWLxweTDY8H0oaOh5TPRcWIR0yMkMVGTFKL0opTjoVQ1MWTyYnHxZQRk1MHCo3MiEsPyA0GT4vMVc6HEwuRTVDVR5HUzoUPTcVPFNNQyM1GzJMIVgVNxYwLyxVTTw+Fk1AJCgjGS83H1EyT1FNJxszQFYnHU0lPFQwWRQmThgYLBQvQlkbUzEXK1MgJz5EOCMXJD1HQyo0LEVKLyA+H0hIVkhMJEZATCY6KFcfGj4mHRUiHShKTVMVJlIoPR9LUS8bGhQdTVQnMBUyOVVCRTUXGDdOMkFEWVI4UhRKHEYjSFMmVzshUUA3ICRCVhdMOR8yR0UkWTUtIBhOOENLHEhVIB4cOSZMFRlQME1VSFk6WDtOGERIVzFSFkQaJTsbHi0hGjosMh0mNSU0GjZBQD8vPTIXFh1ZNhVVJjJAJTIlQyYtGjZXJx9IJTg4RT4zSDVYS1UdGU1OSCdSLSYlLhYjLxU/JypPOB4+RFAWFSo3MUUuNzoWGVArFTtFTE0yVBVCRhxTPx87SRQ9LEZSSU4bGD0fK0hIVD0qRDAnLE85UjovHyoiLjQVOFhNWEtZHDQuRiMzQiI4SzA3MUgfRR9ONVMlMj0WSiA7IDBLJjZIMikySjJDMUVRVzEZLkRHGFMbLhkWRUBRICNWSlQ2MBU3SkciQhVUSBROQiU0Ijc1RiM9PTFCFE1PI0IqJTdGMxdFMTAeJVInJCBWQislGCwgKB42Lz5NRlZUUjFWJ1EdK00rJhw/V09QOhg9IyZCLi88RC05Oxc1VFNLIEw4FVIrRSopPxpHREAcLTEXN0U9SzAoHUc8OE8sKT4pIFQiJhxTTDovUSZAVTQyQxRJMk5JVTodP1I8SykXKhsrTSlOOD9FKEI0VSMqHEpCHkw5LlkvKispUS02MEc/PFk+HRc5IUU3FxtTFx8kKS8oQShWSksbHxsnMjMgMB8VPSJUNzQrVlAtOSBOPjcUNDNNLSRYMBlANRosLjU4TUBUQEYpSk1IQCkfRiQ3RD8pJTAbUB8xSjIhPUQ4HRofNVQwLSpLMks9HCsUVlA7Nh4aPSgxFFg2PjYYMhlIPxdWUjItNiwvRBtNJysyJBlCTDYjGFYqHjw4Ti0yIkI+Fh8+UEQsFlcoNSU8KytNHE9CGyoVWE8qRDtRIjUdLhVKGDdGJEYcVlc1FlY4IyIxFCZCKkxNIUdTLDQhUS8wKjk+HTFVF001Fhc6PR5FLCFMKRolMkYxSDdHTzwaRkYbID4lJlMVRCk4TTJPIS5YJSsaKyYVNyVGIilBGjtQSRtBOjkoMScuRhk5Ty5SN0w8SCstQzwtQ1hZVlQpGVcgWE8UViAyKx4pRyEkLyc8N0U4FjRWITQcNyA2JkZUOUQvNDwaNzQYFkYfIypMKT0yRhsbMDpER0kkP0QnSidDVz8zUFg2QCcaK1ZITVhRRERMPEgtLzJCGhQwUSFWKThOPjQoWCQ2Tj8pSigbT0tLKVhYORcuMUcYIklKNkAqJkUeVi87UENFVC9TIFlJFxpTGDxBHShZG1BXJhlRKyMsFzZIRxU4MT9XICFUSRUfHxsfG0Y4OSQWGzYiIkBYUUknFklNRkMuKk8gVzsiQFIWOFJYRDo1HBg9J0YUQy9ZGC9OKz5VWDdRKTo/FS9MHB5AFUlYMBQiGVAoMx8aRlRPNRtARx1ZHjI4TVg1QyA6Iz1BGE0XT0hQFDsuIUooKyYrLSwqOTI/RChZMCI7VSdVVydZPlUvNhhPPDA6MTAuMFVQSjgqWDM3Ty4rVz8kTFdBWTlJGTUoHiI2RS9DVSpYKDguQi0tVUo2LR8YRyguLB0UMUoZSkQpPS9YSxgvVDslRFlDOldPOVEbOyJJHi85ODYZNE8rVUAZFFNQFEFPFU5XGkdAViUVFz1ERBo2Nx9KKkdIGkUsNzhHTyhBWDcjNVcwFz1OMzpBVi8YSDoyNUcZSlk8GlFWFDgZHCpFSxs3PThKLyIxMyM3LzUwT08WMxQrPjRDPkM/NBUdUjgiHS0qNUxXFDk9VjpOJzUyRSs1TTZUTD5WLUI1UUAvOEVKKExQKlREMBkrO1NBLlFSHjweLigtKFYwRjAkPRU4JjwjGCojTEY0K0c/MEU4FEoeMBYVFjJASSk1KD4gShc7RSocNz4vIjomVRYrFxxDFE5ZVSAmQjlDVlgYJyg8Vys8OS8eHxdESlUwSxkpOVExUikrFVY5VSkuQhpKGyZMKCcXLC0xLEZOSRwVJ0oWKENGQS5GGy4lVCdZJjouLFEgFCtDJyVTS0hFF1JEIFc6FDtSFE8cM1gqQVc9TFNYGD8rUSchSDY9P0Y6IR5CK0o/NyIgGxhRHkFYPTosLlIsOk0tNCkcOkNIQjUnNRsYJx1DJyo2LDk6IE5VGBs2TlQ5QVglTlAuTSdBJSIgHFUUPzZJFz03GFYpViYrFBgzGB5CVFdCHiMoPhhHHxQiJjdSFUtQKVEzQz0uVT9MSiIrPi8eRSQrI0A+TCcrPCMhQis9Pig3TBoZWSEYHkhIIyZOHy5XJh5AFyJXRyoUSxc8Mz0gNjgaFUQbQVMaIFYnUEwtUVEdN1hXITQgVyIkNElFPDZWOxk0PzsnJRhMND86WFlGUjVKJFE1PTEsV1E5QUUyQTY1MBQuRy1BOzgzKCEpRiFYTURLTFA+NTMpLyErJzNNHSJCKS1CTy0zOjYwRR8uHD9XHCwnWDg0QEtMKEk6MkM6IiZKRDoqNSMeMD0hNyw1VkA7MDUeJycWRU8bF09CLBgaG0YWICgpMxxYPj8/P1EmPE07TxRBORs5VBcWSB4ZQlcUPi8lGRQpPU9MGkZOPRVQQU4rRjxWMxUaNjNIWCxQQDMnGkAdLU4oQTodVzA/IRonUyZGOjUcTlQ8KjMsNEoWMU0lSzwsHENHNkUWTlYuJUEcHVUXQEYeSRdYKjMzSSZJSFZLUhcWJUI9KiEsFR5FGChYJVVDPRlYWCQrOyhSJElDJz5LKEo9HDxGLUAbRDgkTVdEQSQrSj8+GyoyTFRXRy5QMigVMSEjUzFSVzQ3Jz4uRhVOHD1ZSzNBSj1IOUApHjcqUkU+JRlTHBUsUlE5UVRDOUlFQiZUTz5BWEBUU0k7SBlKVSVIFzU0UlYcNjYsRxwYUkJAPjwkHkYqOygrJkAzFhYcKxpNNEshF1FMRxZZWRkuOUsnH0I9QzhVVkJHFjwcJCFJOi4mHzoiGkIdOUJHREVDWDZQHlZHLytUKDZNPRUqRC9KHCEcViUfOCwfRTQXHTYrLDBTTTwrQjcoSTQpKC81SE4/JR1EOkBINjo5M04eLksoKClKUEZLKykqGxksLEY2K0RJOUdZQD1HUjMkMUYrUiFNWS89QyBMTlQUMyQ3VTNKLVgtV04jFBkmJjogLhQUP0YmKhxOPRtAGidFN0ZXNE1EJUxBKzYUSxtTTC0pVjgiQVE+VUxVLyYgQCYyMSNZTEM7FkoUVjVQVR8jNh43RixZTDlROC1TJ0gXM00pP0YnFiMXGVM7ODVVTzceHUY9PBZCQEA3KkBVFyBZQi4rP00cVisYU0kqV0AeLElDPB4/GUQpJko8I05BOEIZFxgaQ0UXJhokQh1FPjhAFCMaOzBGFhtJTkRKRSg9FD1RTS4oV0lTNk0hWRdCN1A7WU1MOxVOIzRFQRgpJDAWJFY1G0BLNEFHK0MYL1RZNChOQjo+LhpEGTo4Gy4+NlBLGyYjVVE4GDM4QkQ8FUsrHyJQLzcXHz8mIFRZRz5LGyojSiFBQFlWSRwfSC9YTSRRKDRWGS0eTxUoJ08mUlEwM0NKRzw4SjdMQhkzPSJQIUo/Rjk/M04jVSgtVSBQIB9YUBsgQlgVME0jGkNFHUcbWEBROkgvSCkiIlRFRDtLFS05O0hGPidERldCWCg9WDZKUi4qHisyREYlIFEvQUVQLy49OzRPGkJHLio0Qj84IStVUlRVJFhMJTs6ST9BQ1A5Phc4LS5JMhVEFywxSVVHMxxJLyJOQ1AVVEAYHCgiVDgaRCIqMFlJTxsXHEAVI1Q0FihTTFE+QR0xHxpIKVI/PBg1SC4yJk1CFjAnO0YfPx0cMBZKIS8nOk0WFhxXN1YhIDsyNjdVMD4wPjAaRkJBGVJPISAeMz8WP1AoSDYtF0w3WRovOCI3QRgyL1QrMCshIik2QCkcUVMwJkMjKEZBHFNPU0dGNShKRyYiSDBDURpXKTAWOycbOhguQDYfPiZKF1kgMRdDIC8xGR9EOzJVRhs4USo+RDVEFiM0NiAhJiFFN1YpPT1SH1dRTkQnI0AVLVRMVSofVzEXNSVCOiY6S1kpTVlLRjpAHzImHxxWNjFBVDJCFDgfJ1MlNFEXMhodIDJNNyE/QUcWUUUhMBgYQFMaQjJGOkw2GjYpKTsvQVg5TUQ6UDtRMxwaPlc6OiY/Iy4gVRYVIEkgJihOShwhRz02RCgWMiRLGVQpUj0gICEUT0Q3Pjw/SEQ0LUguVUYuM1YyLEEvSylDURkhS1QvNj9XRz1QITUYRDxVTi4yPzwnFD87QCVBHFhQHiZTOT8pNkIvUC01SkcYLTY3FSgZKzAdRhwXKDE0F0AZRiVYSxs/Jic2Gi46KipCHDlILkZMOVlCTlBOGykvSSpBUiAdUB0pWBYdFztATDFIOlYkT0MdMy8XUCIwIE02OzlEVjA1HE8xO1gnJCAlPVBMSS4cFVZVKSYtGVImOBgiRTMaMjhXNxhUTT8iRyQ2NUooLidDMxVHTTU0JjgtK0koMEw2GjZVIyckQDI6PlVKIU87PTMpUExWTDslIVEtUVFMNxpUPDMhGR8pIUkZKhoxHCRMLTEgRhw1R0UYHBhCQFUqPjZWSyw9L0AqO0FOUzkeFRgwOzAeKE8vOCFDUkMlHVUiMR8sLT4fIFAjL0hWGUMsTEEXS1JMSyMyLyMcFVVEJkwmNjRWIiIqTz4jM0MeLUNBVlZYLSdBMihSWCcoFBo2NRQkLxY/TiklPCZEGSMiHlY5S1ZUN1ExQCZTNSspMVUwIT8vKyBKIi8XIlJHRTAVHxwvNzM0Rj4XMyVTM0oXMlYURx9QHkk1Jxs9RC4fTC07IE1QVkY6VSBXIz86Tx5IJzM8GhhAOSNYTD0WMS84RhQ5RyAzLDsuOkMfVkBYVxUyIlEVFBxPVEpUVFBYHjkoNydTRxcrTDM5GCNONhtMKhU7MDQkUj4sVjlNNUdWS1YlQzkpPUsfJk0eSyxAPScXSyccIFkjHldVU1AnK0UyPygvVzpXPBhXKTwdPFVPUy9DShUePTBPTzE5UU85LU9ZKUdCOlBZQEBBQTQ+SDxFRFc7RU9SFkE0VR0+JVVRUBoVQEY8FFAtPx0pQiwYNiJGLR1MHiYpRz8mLDUkLks6HElKSTxQTjMWRDUqLxdKQi5EV1AnLzEwUzxVRT0dJjBQN1AZKxwrSzY1GUQjIB4nPB9RWRkuGR0iQUY5IR9IMj1LUFY9RTUhMykfNCM7UVc7IlVERj00OkVSI0JUQ0BSFUZGJjc2FxYYNScvVhcpHx4pUC5CRhZJNSwtFTwYFClBQhY3Lh8sKUNTVkghMDkUKTgqKUklT09KIUYuV0s6UDgsLChEOxpVWSknTU45IRk7HDgfIhlHOEY4Ki9UFzkVPzNTFRgoMkEVUSg0UB1FQU0rWCcnJR5HPlhYITAZVzVMSjMVHxgXUycxJzcpGCtGWUQ0VjJWUyQ6PSg5QSsWICgUNzdWVjI5STtJGzNLOB0lUDRTOVhOGSEyTTwsSVAyJhYvQjdOIT4WPioZJ0tYI0o8QSlVLCtCPEpOQE4sRhY3QCguQypWHShMUCVKHzw5J1gVP1Q6VkQaOTgjQkdAVR5ETTA5PjY/QxgYQ1E+WBVLNkFRQTgYQUwbTCFDGj4cHFM2UhlXFjc5KlkuVkQpQS5BUzNITjAeITEyN0FKNRs+UUdOUks4HD4qUyohJB8zGhknSi4oFBQ5PFI2RzQsUEhTKDcUTlVNUyYvRVY1I0ElQ1BKFRY=",
          "dtype": "i1"
         },
         "xaxis": "x",
         "yaxis": "y"
        },
        {
         "hovertemplate": "Gender=Male<br>Age=%{x}<extra></extra>",
         "legendgroup": "Male",
         "marker": {
          "color": "#636efa"
         },
         "name": "Male",
         "notched": true,
         "showlegend": false,
         "type": "box",
         "x": {
          "bdata": "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",
          "dtype": "i1"
         },
         "xaxis": "x2",
         "yaxis": "y2"
        },
        {
         "bingroup": "x",
         "hovertemplate": "Gender=Female<br>Age=%{x}<br>count=%{y}<extra></extra>",
         "legendgroup": "Female",
         "marker": {
          "color": "#EF553B",
          "pattern": {
           "shape": ""
          }
         },
         "name": "Female",
         "orientation": "v",
         "showlegend": true,
         "type": "histogram",
         "x": {
          "bdata": "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",
          "dtype": "i1"
         },
         "xaxis": "x",
         "yaxis": "y"
        },
        {
         "hovertemplate": "Gender=Female<br>Age=%{x}<extra></extra>",
         "legendgroup": "Female",
         "marker": {
          "color": "#EF553B"
         },
         "name": "Female",
         "notched": true,
         "showlegend": false,
         "type": "box",
         "x": {
          "bdata": "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",
          "dtype": "i1"
         },
         "xaxis": "x2",
         "yaxis": "y2"
        },
        {
         "bingroup": "x",
         "hovertemplate": "Gender=Other<br>Age=%{x}<br>count=%{y}<extra></extra>",
         "legendgroup": "Other",
         "marker": {
          "color": "#00cc96",
          "pattern": {
           "shape": ""
          }
         },
         "name": "Other",
         "orientation": "v",
         "showlegend": true,
         "type": "histogram",
         "x": {
          "bdata": "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",
          "dtype": "i1"
         },
         "xaxis": "x",
         "yaxis": "y"
        },
        {
         "hovertemplate": "Gender=Other<br>Age=%{x}<extra></extra>",
         "legendgroup": "Other",
         "marker": {
          "color": "#00cc96"
         },
         "name": "Other",
         "notched": true,
         "showlegend": false,
         "type": "box",
         "x": {
          "bdata": "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",
          "dtype": "i1"
         },
         "xaxis": "x2",
         "yaxis": "y2"
        }
       ],
       "layout": {
        "bargap": 0.1,
        "barmode": "relative",
        "legend": {
         "title": {
          "text": "Gender"
         },
         "tracegroupgap": 0
        },
        "template": {
         "data": {
          "bar": [
           {
            "error_x": {
             "color": "#2a3f5f"
            },
            "error_y": {
             "color": "#2a3f5f"
            },
            "marker": {
             "line": {
              "color": "#E5ECF6",
              "width": 0.5
             },
             "pattern": {
              "fillmode": "overlay",
              "size": 10,
              "solidity": 0.2
             }
            },
            "type": "bar"
           }
          ],
          "barpolar": [
           {
            "marker": {
             "line": {
              "color": "#E5ECF6",
              "width": 0.5
             },
             "pattern": {
              "fillmode": "overlay",
              "size": 10,
              "solidity": 0.2
             }
            },
            "type": "barpolar"
           }
          ],
          "carpet": [
           {
            "aaxis": {
             "endlinecolor": "#2a3f5f",
             "gridcolor": "white",
             "linecolor": "white",
             "minorgridcolor": "white",
             "startlinecolor": "#2a3f5f"
            },
            "baxis": {
             "endlinecolor": "#2a3f5f",
             "gridcolor": "white",
             "linecolor": "white",
             "minorgridcolor": "white",
             "startlinecolor": "#2a3f5f"
            },
            "type": "carpet"
           }
          ],
          "choropleth": [
           {
            "colorbar": {
             "outlinewidth": 0,
             "ticks": ""
            },
            "type": "choropleth"
           }
          ],
          "contour": [
           {
            "colorbar": {
             "outlinewidth": 0,
             "ticks": ""
            },
            "colorscale": [
             [
              0,
              "#0d0887"
             ],
             [
              0.1111111111111111,
              "#46039f"
             ],
             [
              0.2222222222222222,
              "#7201a8"
             ],
             [
              0.3333333333333333,
              "#9c179e"
             ],
             [
              0.4444444444444444,
              "#bd3786"
             ],
             [
              0.5555555555555556,
              "#d8576b"
             ],
             [
              0.6666666666666666,
              "#ed7953"
             ],
             [
              0.7777777777777778,
              "#fb9f3a"
             ],
             [
              0.8888888888888888,
              "#fdca26"
             ],
             [
              1,
              "#f0f921"
             ]
            ],
            "type": "contour"
           }
          ],
          "contourcarpet": [
           {
            "colorbar": {
             "outlinewidth": 0,
             "ticks": ""
            },
            "type": "contourcarpet"
           }
          ],
          "heatmap": [
           {
            "colorbar": {
             "outlinewidth": 0,
             "ticks": ""
            },
            "colorscale": [
             [
              0,
              "#0d0887"
             ],
             [
              0.1111111111111111,
              "#46039f"
             ],
             [
              0.2222222222222222,
              "#7201a8"
             ],
             [
              0.3333333333333333,
              "#9c179e"
             ],
             [
              0.4444444444444444,
              "#bd3786"
             ],
             [
              0.5555555555555556,
              "#d8576b"
             ],
             [
              0.6666666666666666,
              "#ed7953"
             ],
             [
              0.7777777777777778,
              "#fb9f3a"
             ],
             [
              0.8888888888888888,
              "#fdca26"
             ],
             [
              1,
              "#f0f921"
             ]
            ],
            "type": "heatmap"
           }
          ],
          "histogram": [
           {
            "marker": {
             "pattern": {
              "fillmode": "overlay",
              "size": 10,
              "solidity": 0.2
             }
            },
            "type": "histogram"
           }
          ],
          "histogram2d": [
           {
            "colorbar": {
             "outlinewidth": 0,
             "ticks": ""
            },
            "colorscale": [
             [
              0,
              "#0d0887"
             ],
             [
              0.1111111111111111,
              "#46039f"
             ],
             [
              0.2222222222222222,
              "#7201a8"
             ],
             [
              0.3333333333333333,
              "#9c179e"
             ],
             [
              0.4444444444444444,
              "#bd3786"
             ],
             [
              0.5555555555555556,
              "#d8576b"
             ],
             [
              0.6666666666666666,
              "#ed7953"
             ],
             [
              0.7777777777777778,
              "#fb9f3a"
             ],
             [
              0.8888888888888888,
              "#fdca26"
             ],
             [
              1,
              "#f0f921"
             ]
            ],
            "type": "histogram2d"
           }
          ],
          "histogram2dcontour": [
           {
            "colorbar": {
             "outlinewidth": 0,
             "ticks": ""
            },
            "colorscale": [
             [
              0,
              "#0d0887"
             ],
             [
              0.1111111111111111,
              "#46039f"
             ],
             [
              0.2222222222222222,
              "#7201a8"
             ],
             [
              0.3333333333333333,
              "#9c179e"
             ],
             [
              0.4444444444444444,
              "#bd3786"
             ],
             [
              0.5555555555555556,
              "#d8576b"
             ],
             [
              0.6666666666666666,
              "#ed7953"
             ],
             [
              0.7777777777777778,
              "#fb9f3a"
             ],
             [
              0.8888888888888888,
              "#fdca26"
             ],
             [
              1,
              "#f0f921"
             ]
            ],
            "type": "histogram2dcontour"
           }
          ],
          "mesh3d": [
           {
            "colorbar": {
             "outlinewidth": 0,
             "ticks": ""
            },
            "type": "mesh3d"
           }
          ],
          "parcoords": [
           {
            "line": {
             "colorbar": {
              "outlinewidth": 0,
              "ticks": ""
             }
            },
            "type": "parcoords"
           }
          ],
          "pie": [
           {
            "automargin": true,
            "type": "pie"
           }
          ],
          "scatter": [
           {
            "fillpattern": {
             "fillmode": "overlay",
             "size": 10,
             "solidity": 0.2
            },
            "type": "scatter"
           }
          ],
          "scatter3d": [
           {
            "line": {
             "colorbar": {
              "outlinewidth": 0,
              "ticks": ""
             }
            },
            "marker": {
             "colorbar": {
              "outlinewidth": 0,
              "ticks": ""
             }
            },
            "type": "scatter3d"
           }
          ],
          "scattercarpet": [
           {
            "marker": {
             "colorbar": {
              "outlinewidth": 0,
              "ticks": ""
             }
            },
            "type": "scattercarpet"
           }
          ],
          "scattergeo": [
           {
            "marker": {
             "colorbar": {
              "outlinewidth": 0,
              "ticks": ""
             }
            },
            "type": "scattergeo"
           }
          ],
          "scattergl": [
           {
            "marker": {
             "colorbar": {
              "outlinewidth": 0,
              "ticks": ""
             }
            },
            "type": "scattergl"
           }
          ],
          "scattermap": [
           {
            "marker": {
             "colorbar": {
              "outlinewidth": 0,
              "ticks": ""
             }
            },
            "type": "scattermap"
           }
          ],
          "scattermapbox": [
           {
            "marker": {
             "colorbar": {
              "outlinewidth": 0,
              "ticks": ""
             }
            },
            "type": "scattermapbox"
           }
          ],
          "scatterpolar": [
           {
            "marker": {
             "colorbar": {
              "outlinewidth": 0,
              "ticks": ""
             }
            },
            "type": "scatterpolar"
           }
          ],
          "scatterpolargl": [
           {
            "marker": {
             "colorbar": {
              "outlinewidth": 0,
              "ticks": ""
             }
            },
            "type": "scatterpolargl"
           }
          ],
          "scatterternary": [
           {
            "marker": {
             "colorbar": {
              "outlinewidth": 0,
              "ticks": ""
             }
            },
            "type": "scatterternary"
           }
          ],
          "surface": [
           {
            "colorbar": {
             "outlinewidth": 0,
             "ticks": ""
            },
            "colorscale": [
             [
              0,
              "#0d0887"
             ],
             [
              0.1111111111111111,
              "#46039f"
             ],
             [
              0.2222222222222222,
              "#7201a8"
             ],
             [
              0.3333333333333333,
              "#9c179e"
             ],
             [
              0.4444444444444444,
              "#bd3786"
             ],
             [
              0.5555555555555556,
              "#d8576b"
             ],
             [
              0.6666666666666666,
              "#ed7953"
             ],
             [
              0.7777777777777778,
              "#fb9f3a"
             ],
             [
              0.8888888888888888,
              "#fdca26"
             ],
             [
              1,
              "#f0f921"
             ]
            ],
            "type": "surface"
           }
          ],
          "table": [
           {
            "cells": {
             "fill": {
              "color": "#EBF0F8"
             },
             "line": {
              "color": "white"
             }
            },
            "header": {
             "fill": {
              "color": "#C8D4E3"
             },
             "line": {
              "color": "white"
             }
            },
            "type": "table"
           }
          ]
         },
         "layout": {
          "annotationdefaults": {
           "arrowcolor": "#2a3f5f",
           "arrowhead": 0,
           "arrowwidth": 1
          },
          "autotypenumbers": "strict",
          "coloraxis": {
           "colorbar": {
            "outlinewidth": 0,
            "ticks": ""
           }
          },
          "colorscale": {
           "diverging": [
            [
             0,
             "#8e0152"
            ],
            [
             0.1,
             "#c51b7d"
            ],
            [
             0.2,
             "#de77ae"
            ],
            [
             0.3,
             "#f1b6da"
            ],
            [
             0.4,
             "#fde0ef"
            ],
            [
             0.5,
             "#f7f7f7"
            ],
            [
             0.6,
             "#e6f5d0"
            ],
            [
             0.7,
             "#b8e186"
            ],
            [
             0.8,
             "#7fbc41"
            ],
            [
             0.9,
             "#4d9221"
            ],
            [
             1,
             "#276419"
            ]
           ],
           "sequential": [
            [
             0,
             "#0d0887"
            ],
            [
             0.1111111111111111,
             "#46039f"
            ],
            [
             0.2222222222222222,
             "#7201a8"
            ],
            [
             0.3333333333333333,
             "#9c179e"
            ],
            [
             0.4444444444444444,
             "#bd3786"
            ],
            [
             0.5555555555555556,
             "#d8576b"
            ],
            [
             0.6666666666666666,
             "#ed7953"
            ],
            [
             0.7777777777777778,
             "#fb9f3a"
            ],
            [
             0.8888888888888888,
             "#fdca26"
            ],
            [
             1,
             "#f0f921"
            ]
           ],
           "sequentialminus": [
            [
             0,
             "#0d0887"
            ],
            [
             0.1111111111111111,
             "#46039f"
            ],
            [
             0.2222222222222222,
             "#7201a8"
            ],
            [
             0.3333333333333333,
             "#9c179e"
            ],
            [
             0.4444444444444444,
             "#bd3786"
            ],
            [
             0.5555555555555556,
             "#d8576b"
            ],
            [
             0.6666666666666666,
             "#ed7953"
            ],
            [
             0.7777777777777778,
             "#fb9f3a"
            ],
            [
             0.8888888888888888,
             "#fdca26"
            ],
            [
             1,
             "#f0f921"
            ]
           ]
          },
          "colorway": [
           "#636efa",
           "#EF553B",
           "#00cc96",
           "#ab63fa",
           "#FFA15A",
           "#19d3f3",
           "#FF6692",
           "#B6E880",
           "#FF97FF",
           "#FECB52"
          ],
          "font": {
           "color": "#2a3f5f"
          },
          "geo": {
           "bgcolor": "white",
           "lakecolor": "white",
           "landcolor": "#E5ECF6",
           "showlakes": true,
           "showland": true,
           "subunitcolor": "white"
          },
          "hoverlabel": {
           "align": "left"
          },
          "hovermode": "closest",
          "mapbox": {
           "style": "light"
          },
          "paper_bgcolor": "white",
          "plot_bgcolor": "#E5ECF6",
          "polar": {
           "angularaxis": {
            "gridcolor": "white",
            "linecolor": "white",
            "ticks": ""
           },
           "bgcolor": "#E5ECF6",
           "radialaxis": {
            "gridcolor": "white",
            "linecolor": "white",
            "ticks": ""
           }
          },
          "scene": {
           "xaxis": {
            "backgroundcolor": "#E5ECF6",
            "gridcolor": "white",
            "gridwidth": 2,
            "linecolor": "white",
            "showbackground": true,
            "ticks": "",
            "zerolinecolor": "white"
           },
           "yaxis": {
            "backgroundcolor": "#E5ECF6",
            "gridcolor": "white",
            "gridwidth": 2,
            "linecolor": "white",
            "showbackground": true,
            "ticks": "",
            "zerolinecolor": "white"
           },
           "zaxis": {
            "backgroundcolor": "#E5ECF6",
            "gridcolor": "white",
            "gridwidth": 2,
            "linecolor": "white",
            "showbackground": true,
            "ticks": "",
            "zerolinecolor": "white"
           }
          },
          "shapedefaults": {
           "line": {
            "color": "#2a3f5f"
           }
          },
          "ternary": {
           "aaxis": {
            "gridcolor": "white",
            "linecolor": "white",
            "ticks": ""
           },
           "baxis": {
            "gridcolor": "white",
            "linecolor": "white",
            "ticks": ""
           },
           "bgcolor": "#E5ECF6",
           "caxis": {
            "gridcolor": "white",
            "linecolor": "white",
            "ticks": ""
           }
          },
          "title": {
           "x": 0.05
          },
          "xaxis": {
           "automargin": true,
           "gridcolor": "white",
           "linecolor": "white",
           "ticks": "",
           "title": {
            "standoff": 15
           },
           "zerolinecolor": "white",
           "zerolinewidth": 2
          },
          "yaxis": {
           "automargin": true,
           "gridcolor": "white",
           "linecolor": "white",
           "ticks": "",
           "title": {
            "standoff": 15
           },
           "zerolinecolor": "white",
           "zerolinewidth": 2
          }
         }
        },
        "title": {
         "text": "Age"
        },
        "xaxis": {
         "anchor": "y",
         "domain": [
          0,
          1
         ],
         "title": {
          "text": "Age"
         }
        },
        "xaxis2": {
         "anchor": "y2",
         "domain": [
          0,
          1
         ],
         "matches": "x",
         "showgrid": true,
         "showticklabels": false
        },
        "yaxis": {
         "anchor": "x",
         "domain": [
          0,
          0.7326
         ],
         "title": {
          "text": "count"
         }
        },
        "yaxis2": {
         "anchor": "x2",
         "domain": [
          0.7426,
          1
         ],
         "matches": "y2",
         "showgrid": false,
         "showline": false,
         "showticklabels": false,
         "ticks": ""
        }
       }
      }
     },
     "metadata": {},
     "output_type": "display_data"
    }
   ],
   "source": [
    "fig = px.histogram(cancer_df, x ='Age',marginal='box', title='Age', color='Gender' )\n",
    "fig.update_layout(bargap=0.1)\n",
    "fig.show()"
   ]
  },
  {
   "cell_type": "code",
   "execution_count": 93,
   "id": "cada9326",
   "metadata": {},
   "outputs": [],
   "source": [
    "from sklearn.impute import SimpleImputer\n",
    "imputer = SimpleImputer(strategy='mean').fit(cancer_df[numeric_cols])\n",
    "\n",
    "train_inputs[numeric_cols] = imputer.transform(train_inputs[numeric_cols])\n",
    "val_inputs[numeric_cols] = imputer.transform(val_inputs[numeric_cols])\n",
    "test_inputs[numeric_cols] = imputer.transform(test_inputs[numeric_cols])\n"
   ]
  },
  {
   "cell_type": "markdown",
   "id": "3f470027",
   "metadata": {},
   "source": [
    "## Scaling numeric features"
   ]
  },
  {
   "cell_type": "code",
   "execution_count": 94,
   "id": "04a9fb36",
   "metadata": {},
   "outputs": [
    {
     "data": {
      "text/html": [
       "<div>\n",
       "<style scoped>\n",
       "    .dataframe tbody tr th:only-of-type {\n",
       "        vertical-align: middle;\n",
       "    }\n",
       "\n",
       "    .dataframe tbody tr th {\n",
       "        vertical-align: top;\n",
       "    }\n",
       "\n",
       "    .dataframe thead th {\n",
       "        text-align: right;\n",
       "    }\n",
       "</style>\n",
       "<table border=\"1\" class=\"dataframe\">\n",
       "  <thead>\n",
       "    <tr style=\"text-align: right;\">\n",
       "      <th></th>\n",
       "      <th>Age</th>\n",
       "      <th>Genetic_Risk</th>\n",
       "      <th>Air_Pollution</th>\n",
       "      <th>Alcohol_Use</th>\n",
       "      <th>Smoking</th>\n",
       "      <th>Obesity_Level</th>\n",
       "      <th>Treatment_Cost_USD</th>\n",
       "      <th>Survival_Years</th>\n",
       "      <th>Target_Severity_Score</th>\n",
       "    </tr>\n",
       "  </thead>\n",
       "  <tbody>\n",
       "    <tr>\n",
       "      <th>min</th>\n",
       "      <td>0.0</td>\n",
       "      <td>0.0</td>\n",
       "      <td>0.0</td>\n",
       "      <td>0.0</td>\n",
       "      <td>0.0</td>\n",
       "      <td>0.0</td>\n",
       "      <td>0.000060</td>\n",
       "      <td>0.0</td>\n",
       "      <td>0.006053</td>\n",
       "    </tr>\n",
       "    <tr>\n",
       "      <th>max</th>\n",
       "      <td>1.0</td>\n",
       "      <td>1.0</td>\n",
       "      <td>1.0</td>\n",
       "      <td>1.0</td>\n",
       "      <td>1.0</td>\n",
       "      <td>1.0</td>\n",
       "      <td>0.999984</td>\n",
       "      <td>1.0</td>\n",
       "      <td>0.947942</td>\n",
       "    </tr>\n",
       "  </tbody>\n",
       "</table>\n",
       "</div>"
      ],
      "text/plain": [
       "     Age  Genetic_Risk  Air_Pollution  Alcohol_Use  Smoking  Obesity_Level  \\\n",
       "min  0.0           0.0            0.0          0.0      0.0            0.0   \n",
       "max  1.0           1.0            1.0          1.0      1.0            1.0   \n",
       "\n",
       "     Treatment_Cost_USD  Survival_Years  Target_Severity_Score  \n",
       "min            0.000060             0.0               0.006053  \n",
       "max            0.999984             1.0               0.947942  "
      ]
     },
     "execution_count": 94,
     "metadata": {},
     "output_type": "execute_result"
    }
   ],
   "source": [
    "from sklearn.preprocessing import MinMaxScaler\n",
    "scaler = MinMaxScaler().fit(cancer_df[numeric_cols])\n",
    "train_inputs[numeric_cols] = scaler.transform(train_inputs[numeric_cols])\n",
    "val_inputs[numeric_cols] = scaler.transform(val_inputs[numeric_cols])\n",
    "test_inputs[numeric_cols] = scaler.transform(test_inputs[numeric_cols])\n",
    "val_inputs.describe().loc[['min', 'max']]\n"
   ]
  },
  {
   "cell_type": "markdown",
   "id": "81aef884",
   "metadata": {},
   "source": [
    "## Encoding"
   ]
  },
  {
   "cell_type": "code",
   "execution_count": 95,
   "id": "46e8879b",
   "metadata": {},
   "outputs": [],
   "source": [
    "from sklearn.preprocessing import OneHotEncoder\n",
    "encoder = OneHotEncoder(sparse_output=False,handle_unknown='ignore').fit(train_inputs[categorical_cols])\n",
    "encoded_cols = list(encoder.get_feature_names_out(categorical_cols))\n",
    "\n"
   ]
  },
  {
   "cell_type": "code",
   "execution_count": 96,
   "id": "a87d0aa5",
   "metadata": {},
   "outputs": [],
   "source": [
    "train_inputs[encoded_cols] = encoder.transform(train_inputs[categorical_cols])\n",
    "val_inputs[encoded_cols] = encoder.transform(val_inputs[categorical_cols])\n",
    "test_inputs[encoded_cols] = encoder.transform(test_inputs[categorical_cols])\n"
   ]
  },
  {
   "cell_type": "code",
   "execution_count": 97,
   "id": "37b8176e",
   "metadata": {},
   "outputs": [],
   "source": [
    "X_train = train_inputs[numeric_cols + encoded_cols]\n",
    "X_val = val_inputs[numeric_cols + encoded_cols]\n",
    "X_test = test_inputs[numeric_cols + encoded_cols]\n"
   ]
  },
  {
   "cell_type": "markdown",
   "id": "7c70b2b4",
   "metadata": {},
   "source": [
    "## Training and Visualizing DECISION TREES"
   ]
  },
  {
   "cell_type": "code",
   "execution_count": 80,
   "id": "cc74656a",
   "metadata": {},
   "outputs": [
    {
     "data": {
      "text/html": [
       "<style>#sk-container-id-2 {\n",
       "  /* Definition of color scheme common for light and dark mode */\n",
       "  --sklearn-color-text: #000;\n",
       "  --sklearn-color-text-muted: #666;\n",
       "  --sklearn-color-line: gray;\n",
       "  /* Definition of color scheme for unfitted estimators */\n",
       "  --sklearn-color-unfitted-level-0: #fff5e6;\n",
       "  --sklearn-color-unfitted-level-1: #f6e4d2;\n",
       "  --sklearn-color-unfitted-level-2: #ffe0b3;\n",
       "  --sklearn-color-unfitted-level-3: chocolate;\n",
       "  /* Definition of color scheme for fitted estimators */\n",
       "  --sklearn-color-fitted-level-0: #f0f8ff;\n",
       "  --sklearn-color-fitted-level-1: #d4ebff;\n",
       "  --sklearn-color-fitted-level-2: #b3dbfd;\n",
       "  --sklearn-color-fitted-level-3: cornflowerblue;\n",
       "\n",
       "  /* Specific color for light theme */\n",
       "  --sklearn-color-text-on-default-background: var(--sg-text-color, var(--theme-code-foreground, var(--jp-content-font-color1, black)));\n",
       "  --sklearn-color-background: var(--sg-background-color, var(--theme-background, var(--jp-layout-color0, white)));\n",
       "  --sklearn-color-border-box: var(--sg-text-color, var(--theme-code-foreground, var(--jp-content-font-color1, black)));\n",
       "  --sklearn-color-icon: #696969;\n",
       "\n",
       "  @media (prefers-color-scheme: dark) {\n",
       "    /* Redefinition of color scheme for dark theme */\n",
       "    --sklearn-color-text-on-default-background: var(--sg-text-color, var(--theme-code-foreground, var(--jp-content-font-color1, white)));\n",
       "    --sklearn-color-background: var(--sg-background-color, var(--theme-background, var(--jp-layout-color0, #111)));\n",
       "    --sklearn-color-border-box: var(--sg-text-color, var(--theme-code-foreground, var(--jp-content-font-color1, white)));\n",
       "    --sklearn-color-icon: #878787;\n",
       "  }\n",
       "}\n",
       "\n",
       "#sk-container-id-2 {\n",
       "  color: var(--sklearn-color-text);\n",
       "}\n",
       "\n",
       "#sk-container-id-2 pre {\n",
       "  padding: 0;\n",
       "}\n",
       "\n",
       "#sk-container-id-2 input.sk-hidden--visually {\n",
       "  border: 0;\n",
       "  clip: rect(1px 1px 1px 1px);\n",
       "  clip: rect(1px, 1px, 1px, 1px);\n",
       "  height: 1px;\n",
       "  margin: -1px;\n",
       "  overflow: hidden;\n",
       "  padding: 0;\n",
       "  position: absolute;\n",
       "  width: 1px;\n",
       "}\n",
       "\n",
       "#sk-container-id-2 div.sk-dashed-wrapped {\n",
       "  border: 1px dashed var(--sklearn-color-line);\n",
       "  margin: 0 0.4em 0.5em 0.4em;\n",
       "  box-sizing: border-box;\n",
       "  padding-bottom: 0.4em;\n",
       "  background-color: var(--sklearn-color-background);\n",
       "}\n",
       "\n",
       "#sk-container-id-2 div.sk-container {\n",
       "  /* jupyter's `normalize.less` sets `[hidden] { display: none; }`\n",
       "     but bootstrap.min.css set `[hidden] { display: none !important; }`\n",
       "     so we also need the `!important` here to be able to override the\n",
       "     default hidden behavior on the sphinx rendered scikit-learn.org.\n",
       "     See: https://github.com/scikit-learn/scikit-learn/issues/21755 */\n",
       "  display: inline-block !important;\n",
       "  position: relative;\n",
       "}\n",
       "\n",
       "#sk-container-id-2 div.sk-text-repr-fallback {\n",
       "  display: none;\n",
       "}\n",
       "\n",
       "div.sk-parallel-item,\n",
       "div.sk-serial,\n",
       "div.sk-item {\n",
       "  /* draw centered vertical line to link estimators */\n",
       "  background-image: linear-gradient(var(--sklearn-color-text-on-default-background), var(--sklearn-color-text-on-default-background));\n",
       "  background-size: 2px 100%;\n",
       "  background-repeat: no-repeat;\n",
       "  background-position: center center;\n",
       "}\n",
       "\n",
       "/* Parallel-specific style estimator block */\n",
       "\n",
       "#sk-container-id-2 div.sk-parallel-item::after {\n",
       "  content: \"\";\n",
       "  width: 100%;\n",
       "  border-bottom: 2px solid var(--sklearn-color-text-on-default-background);\n",
       "  flex-grow: 1;\n",
       "}\n",
       "\n",
       "#sk-container-id-2 div.sk-parallel {\n",
       "  display: flex;\n",
       "  align-items: stretch;\n",
       "  justify-content: center;\n",
       "  background-color: var(--sklearn-color-background);\n",
       "  position: relative;\n",
       "}\n",
       "\n",
       "#sk-container-id-2 div.sk-parallel-item {\n",
       "  display: flex;\n",
       "  flex-direction: column;\n",
       "}\n",
       "\n",
       "#sk-container-id-2 div.sk-parallel-item:first-child::after {\n",
       "  align-self: flex-end;\n",
       "  width: 50%;\n",
       "}\n",
       "\n",
       "#sk-container-id-2 div.sk-parallel-item:last-child::after {\n",
       "  align-self: flex-start;\n",
       "  width: 50%;\n",
       "}\n",
       "\n",
       "#sk-container-id-2 div.sk-parallel-item:only-child::after {\n",
       "  width: 0;\n",
       "}\n",
       "\n",
       "/* Serial-specific style estimator block */\n",
       "\n",
       "#sk-container-id-2 div.sk-serial {\n",
       "  display: flex;\n",
       "  flex-direction: column;\n",
       "  align-items: center;\n",
       "  background-color: var(--sklearn-color-background);\n",
       "  padding-right: 1em;\n",
       "  padding-left: 1em;\n",
       "}\n",
       "\n",
       "\n",
       "/* Toggleable style: style used for estimator/Pipeline/ColumnTransformer box that is\n",
       "clickable and can be expanded/collapsed.\n",
       "- Pipeline and ColumnTransformer use this feature and define the default style\n",
       "- Estimators will overwrite some part of the style using the `sk-estimator` class\n",
       "*/\n",
       "\n",
       "/* Pipeline and ColumnTransformer style (default) */\n",
       "\n",
       "#sk-container-id-2 div.sk-toggleable {\n",
       "  /* Default theme specific background. It is overwritten whether we have a\n",
       "  specific estimator or a Pipeline/ColumnTransformer */\n",
       "  background-color: var(--sklearn-color-background);\n",
       "}\n",
       "\n",
       "/* Toggleable label */\n",
       "#sk-container-id-2 label.sk-toggleable__label {\n",
       "  cursor: pointer;\n",
       "  display: flex;\n",
       "  width: 100%;\n",
       "  margin-bottom: 0;\n",
       "  padding: 0.5em;\n",
       "  box-sizing: border-box;\n",
       "  text-align: center;\n",
       "  align-items: start;\n",
       "  justify-content: space-between;\n",
       "  gap: 0.5em;\n",
       "}\n",
       "\n",
       "#sk-container-id-2 label.sk-toggleable__label .caption {\n",
       "  font-size: 0.6rem;\n",
       "  font-weight: lighter;\n",
       "  color: var(--sklearn-color-text-muted);\n",
       "}\n",
       "\n",
       "#sk-container-id-2 label.sk-toggleable__label-arrow:before {\n",
       "  /* Arrow on the left of the label */\n",
       "  content: \"▸\";\n",
       "  float: left;\n",
       "  margin-right: 0.25em;\n",
       "  color: var(--sklearn-color-icon);\n",
       "}\n",
       "\n",
       "#sk-container-id-2 label.sk-toggleable__label-arrow:hover:before {\n",
       "  color: var(--sklearn-color-text);\n",
       "}\n",
       "\n",
       "/* Toggleable content - dropdown */\n",
       "\n",
       "#sk-container-id-2 div.sk-toggleable__content {\n",
       "  max-height: 0;\n",
       "  max-width: 0;\n",
       "  overflow: hidden;\n",
       "  text-align: left;\n",
       "  /* unfitted */\n",
       "  background-color: var(--sklearn-color-unfitted-level-0);\n",
       "}\n",
       "\n",
       "#sk-container-id-2 div.sk-toggleable__content.fitted {\n",
       "  /* fitted */\n",
       "  background-color: var(--sklearn-color-fitted-level-0);\n",
       "}\n",
       "\n",
       "#sk-container-id-2 div.sk-toggleable__content pre {\n",
       "  margin: 0.2em;\n",
       "  border-radius: 0.25em;\n",
       "  color: var(--sklearn-color-text);\n",
       "  /* unfitted */\n",
       "  background-color: var(--sklearn-color-unfitted-level-0);\n",
       "}\n",
       "\n",
       "#sk-container-id-2 div.sk-toggleable__content.fitted pre {\n",
       "  /* unfitted */\n",
       "  background-color: var(--sklearn-color-fitted-level-0);\n",
       "}\n",
       "\n",
       "#sk-container-id-2 input.sk-toggleable__control:checked~div.sk-toggleable__content {\n",
       "  /* Expand drop-down */\n",
       "  max-height: 200px;\n",
       "  max-width: 100%;\n",
       "  overflow: auto;\n",
       "}\n",
       "\n",
       "#sk-container-id-2 input.sk-toggleable__control:checked~label.sk-toggleable__label-arrow:before {\n",
       "  content: \"▾\";\n",
       "}\n",
       "\n",
       "/* Pipeline/ColumnTransformer-specific style */\n",
       "\n",
       "#sk-container-id-2 div.sk-label input.sk-toggleable__control:checked~label.sk-toggleable__label {\n",
       "  color: var(--sklearn-color-text);\n",
       "  background-color: var(--sklearn-color-unfitted-level-2);\n",
       "}\n",
       "\n",
       "#sk-container-id-2 div.sk-label.fitted input.sk-toggleable__control:checked~label.sk-toggleable__label {\n",
       "  background-color: var(--sklearn-color-fitted-level-2);\n",
       "}\n",
       "\n",
       "/* Estimator-specific style */\n",
       "\n",
       "/* Colorize estimator box */\n",
       "#sk-container-id-2 div.sk-estimator input.sk-toggleable__control:checked~label.sk-toggleable__label {\n",
       "  /* unfitted */\n",
       "  background-color: var(--sklearn-color-unfitted-level-2);\n",
       "}\n",
       "\n",
       "#sk-container-id-2 div.sk-estimator.fitted input.sk-toggleable__control:checked~label.sk-toggleable__label {\n",
       "  /* fitted */\n",
       "  background-color: var(--sklearn-color-fitted-level-2);\n",
       "}\n",
       "\n",
       "#sk-container-id-2 div.sk-label label.sk-toggleable__label,\n",
       "#sk-container-id-2 div.sk-label label {\n",
       "  /* The background is the default theme color */\n",
       "  color: var(--sklearn-color-text-on-default-background);\n",
       "}\n",
       "\n",
       "/* On hover, darken the color of the background */\n",
       "#sk-container-id-2 div.sk-label:hover label.sk-toggleable__label {\n",
       "  color: var(--sklearn-color-text);\n",
       "  background-color: var(--sklearn-color-unfitted-level-2);\n",
       "}\n",
       "\n",
       "/* Label box, darken color on hover, fitted */\n",
       "#sk-container-id-2 div.sk-label.fitted:hover label.sk-toggleable__label.fitted {\n",
       "  color: var(--sklearn-color-text);\n",
       "  background-color: var(--sklearn-color-fitted-level-2);\n",
       "}\n",
       "\n",
       "/* Estimator label */\n",
       "\n",
       "#sk-container-id-2 div.sk-label label {\n",
       "  font-family: monospace;\n",
       "  font-weight: bold;\n",
       "  display: inline-block;\n",
       "  line-height: 1.2em;\n",
       "}\n",
       "\n",
       "#sk-container-id-2 div.sk-label-container {\n",
       "  text-align: center;\n",
       "}\n",
       "\n",
       "/* Estimator-specific */\n",
       "#sk-container-id-2 div.sk-estimator {\n",
       "  font-family: monospace;\n",
       "  border: 1px dotted var(--sklearn-color-border-box);\n",
       "  border-radius: 0.25em;\n",
       "  box-sizing: border-box;\n",
       "  margin-bottom: 0.5em;\n",
       "  /* unfitted */\n",
       "  background-color: var(--sklearn-color-unfitted-level-0);\n",
       "}\n",
       "\n",
       "#sk-container-id-2 div.sk-estimator.fitted {\n",
       "  /* fitted */\n",
       "  background-color: var(--sklearn-color-fitted-level-0);\n",
       "}\n",
       "\n",
       "/* on hover */\n",
       "#sk-container-id-2 div.sk-estimator:hover {\n",
       "  /* unfitted */\n",
       "  background-color: var(--sklearn-color-unfitted-level-2);\n",
       "}\n",
       "\n",
       "#sk-container-id-2 div.sk-estimator.fitted:hover {\n",
       "  /* fitted */\n",
       "  background-color: var(--sklearn-color-fitted-level-2);\n",
       "}\n",
       "\n",
       "/* Specification for estimator info (e.g. \"i\" and \"?\") */\n",
       "\n",
       "/* Common style for \"i\" and \"?\" */\n",
       "\n",
       ".sk-estimator-doc-link,\n",
       "a:link.sk-estimator-doc-link,\n",
       "a:visited.sk-estimator-doc-link {\n",
       "  float: right;\n",
       "  font-size: smaller;\n",
       "  line-height: 1em;\n",
       "  font-family: monospace;\n",
       "  background-color: var(--sklearn-color-background);\n",
       "  border-radius: 1em;\n",
       "  height: 1em;\n",
       "  width: 1em;\n",
       "  text-decoration: none !important;\n",
       "  margin-left: 0.5em;\n",
       "  text-align: center;\n",
       "  /* unfitted */\n",
       "  border: var(--sklearn-color-unfitted-level-1) 1pt solid;\n",
       "  color: var(--sklearn-color-unfitted-level-1);\n",
       "}\n",
       "\n",
       ".sk-estimator-doc-link.fitted,\n",
       "a:link.sk-estimator-doc-link.fitted,\n",
       "a:visited.sk-estimator-doc-link.fitted {\n",
       "  /* fitted */\n",
       "  border: var(--sklearn-color-fitted-level-1) 1pt solid;\n",
       "  color: var(--sklearn-color-fitted-level-1);\n",
       "}\n",
       "\n",
       "/* On hover */\n",
       "div.sk-estimator:hover .sk-estimator-doc-link:hover,\n",
       ".sk-estimator-doc-link:hover,\n",
       "div.sk-label-container:hover .sk-estimator-doc-link:hover,\n",
       ".sk-estimator-doc-link:hover {\n",
       "  /* unfitted */\n",
       "  background-color: var(--sklearn-color-unfitted-level-3);\n",
       "  color: var(--sklearn-color-background);\n",
       "  text-decoration: none;\n",
       "}\n",
       "\n",
       "div.sk-estimator.fitted:hover .sk-estimator-doc-link.fitted:hover,\n",
       ".sk-estimator-doc-link.fitted:hover,\n",
       "div.sk-label-container:hover .sk-estimator-doc-link.fitted:hover,\n",
       ".sk-estimator-doc-link.fitted:hover {\n",
       "  /* fitted */\n",
       "  background-color: var(--sklearn-color-fitted-level-3);\n",
       "  color: var(--sklearn-color-background);\n",
       "  text-decoration: none;\n",
       "}\n",
       "\n",
       "/* Span, style for the box shown on hovering the info icon */\n",
       ".sk-estimator-doc-link span {\n",
       "  display: none;\n",
       "  z-index: 9999;\n",
       "  position: relative;\n",
       "  font-weight: normal;\n",
       "  right: .2ex;\n",
       "  padding: .5ex;\n",
       "  margin: .5ex;\n",
       "  width: min-content;\n",
       "  min-width: 20ex;\n",
       "  max-width: 50ex;\n",
       "  color: var(--sklearn-color-text);\n",
       "  box-shadow: 2pt 2pt 4pt #999;\n",
       "  /* unfitted */\n",
       "  background: var(--sklearn-color-unfitted-level-0);\n",
       "  border: .5pt solid var(--sklearn-color-unfitted-level-3);\n",
       "}\n",
       "\n",
       ".sk-estimator-doc-link.fitted span {\n",
       "  /* fitted */\n",
       "  background: var(--sklearn-color-fitted-level-0);\n",
       "  border: var(--sklearn-color-fitted-level-3);\n",
       "}\n",
       "\n",
       ".sk-estimator-doc-link:hover span {\n",
       "  display: block;\n",
       "}\n",
       "\n",
       "/* \"?\"-specific style due to the `<a>` HTML tag */\n",
       "\n",
       "#sk-container-id-2 a.estimator_doc_link {\n",
       "  float: right;\n",
       "  font-size: 1rem;\n",
       "  line-height: 1em;\n",
       "  font-family: monospace;\n",
       "  background-color: var(--sklearn-color-background);\n",
       "  border-radius: 1rem;\n",
       "  height: 1rem;\n",
       "  width: 1rem;\n",
       "  text-decoration: none;\n",
       "  /* unfitted */\n",
       "  color: var(--sklearn-color-unfitted-level-1);\n",
       "  border: var(--sklearn-color-unfitted-level-1) 1pt solid;\n",
       "}\n",
       "\n",
       "#sk-container-id-2 a.estimator_doc_link.fitted {\n",
       "  /* fitted */\n",
       "  border: var(--sklearn-color-fitted-level-1) 1pt solid;\n",
       "  color: var(--sklearn-color-fitted-level-1);\n",
       "}\n",
       "\n",
       "/* On hover */\n",
       "#sk-container-id-2 a.estimator_doc_link:hover {\n",
       "  /* unfitted */\n",
       "  background-color: var(--sklearn-color-unfitted-level-3);\n",
       "  color: var(--sklearn-color-background);\n",
       "  text-decoration: none;\n",
       "}\n",
       "\n",
       "#sk-container-id-2 a.estimator_doc_link.fitted:hover {\n",
       "  /* fitted */\n",
       "  background-color: var(--sklearn-color-fitted-level-3);\n",
       "}\n",
       "</style><div id=\"sk-container-id-2\" class=\"sk-top-container\"><div class=\"sk-text-repr-fallback\"><pre>DecisionTreeClassifier(random_state=42)</pre><b>In a Jupyter environment, please rerun this cell to show the HTML representation or trust the notebook. <br />On GitHub, the HTML representation is unable to render, please try loading this page with nbviewer.org.</b></div><div class=\"sk-container\" hidden><div class=\"sk-item\"><div class=\"sk-estimator fitted sk-toggleable\"><input class=\"sk-toggleable__control sk-hidden--visually\" id=\"sk-estimator-id-2\" type=\"checkbox\" checked><label for=\"sk-estimator-id-2\" class=\"sk-toggleable__label fitted sk-toggleable__label-arrow\"><div><div>DecisionTreeClassifier</div></div><div><a class=\"sk-estimator-doc-link fitted\" rel=\"noreferrer\" target=\"_blank\" href=\"https://scikit-learn.org/1.6/modules/generated/sklearn.tree.DecisionTreeClassifier.html\">?<span>Documentation for DecisionTreeClassifier</span></a><span class=\"sk-estimator-doc-link fitted\">i<span>Fitted</span></span></div></label><div class=\"sk-toggleable__content fitted\"><pre>DecisionTreeClassifier(random_state=42)</pre></div> </div></div></div></div>"
      ],
      "text/plain": [
       "DecisionTreeClassifier(random_state=42)"
      ]
     },
     "execution_count": 80,
     "metadata": {},
     "output_type": "execute_result"
    }
   ],
   "source": [
    "from sklearn.tree import DecisionTreeClassifier\n",
    "model = DecisionTreeClassifier(random_state=42)\n",
    "model.fit(X_train, train_targets)"
   ]
  },
  {
   "cell_type": "code",
   "execution_count": 81,
   "id": "d8f8dd9e",
   "metadata": {},
   "outputs": [
    {
     "data": {
      "text/plain": [
       "array(['Breast', 'Cervical', 'Skin', ..., 'Lung', 'Prostate', 'Breast'],\n",
       "      shape=(32000,), dtype=object)"
      ]
     },
     "execution_count": 81,
     "metadata": {},
     "output_type": "execute_result"
    }
   ],
   "source": [
    "from sklearn.metrics import accuracy_score, confusion_matrix\n",
    "train_preds = model.predict(X_train)\n",
    "train_preds"
   ]
  },
  {
   "cell_type": "code",
   "execution_count": 82,
   "id": "01249b15",
   "metadata": {},
   "outputs": [
    {
     "data": {
      "text/plain": [
       "array([[1., 0., 0., ..., 0., 0., 0.],\n",
       "       [0., 1., 0., ..., 0., 0., 0.],\n",
       "       [0., 0., 0., ..., 0., 0., 1.],\n",
       "       ...,\n",
       "       [0., 0., 0., ..., 1., 0., 0.],\n",
       "       [0., 0., 0., ..., 0., 1., 0.],\n",
       "       [1., 0., 0., ..., 0., 0., 0.]], shape=(32000, 8))"
      ]
     },
     "execution_count": 82,
     "metadata": {},
     "output_type": "execute_result"
    }
   ],
   "source": [
    "train_probs = model.predict_proba(X_train)\n",
    "train_probs"
   ]
  },
  {
   "cell_type": "code",
   "execution_count": 83,
   "id": "649eb8bf",
   "metadata": {},
   "outputs": [
    {
     "data": {
      "text/plain": [
       "1.0"
      ]
     },
     "execution_count": 83,
     "metadata": {},
     "output_type": "execute_result"
    }
   ],
   "source": [
    "accuracy_score(train_targets, train_preds)"
   ]
  },
  {
   "cell_type": "code",
   "execution_count": 99,
   "id": "d1a64fde",
   "metadata": {},
   "outputs": [
    {
     "data": {
      "text/plain": [
       "0.12625"
      ]
     },
     "execution_count": 99,
     "metadata": {},
     "output_type": "execute_result"
    }
   ],
   "source": [
    "model.score(X_val, val_targets)"
   ]
  },
  {
   "cell_type": "code",
   "execution_count": 100,
   "id": "6d262894",
   "metadata": {},
   "outputs": [
    {
     "data": {
      "text/plain": [
       "0.1263"
      ]
     },
     "execution_count": 100,
     "metadata": {},
     "output_type": "execute_result"
    }
   ],
   "source": [
    "model.score(X_test, test_targets)"
   ]
  },
  {
   "cell_type": "code",
   "execution_count": 103,
   "id": "44d41b40",
   "metadata": {},
   "outputs": [
    {
     "data": {
      "text/plain": [
       "Cancer_Type\n",
       "Colon       0.129750\n",
       "Cervical    0.125625\n",
       "Liver       0.125250\n",
       "Skin        0.124500\n",
       "Leukemia    0.123875\n",
       "Lung        0.123750\n",
       "Prostate    0.123750\n",
       "Breast      0.123500\n",
       "Name: count, dtype: float64"
      ]
     },
     "execution_count": 103,
     "metadata": {},
     "output_type": "execute_result"
    }
   ],
   "source": [
    "val_targets.value_counts()/ len(val_targets)"
   ]
  },
  {
   "cell_type": "code",
   "execution_count": 105,
   "id": "9e8a3340",
   "metadata": {},
   "outputs": [
    {
     "data": {
      "text/plain": [
       "[Text(0.5, 0.8333333333333334, 'Smoking <= 0.195\\ngini = 0.875\\nsamples = 32000\\nvalue = [3939.0, 3986.0, 4055.0, 4042.0, 3988.0, 3939.0, 4049.0\\n4002.0]'),\n",
       " Text(0.25, 0.5, 'Treatment_Cost_USD <= 0.143\\ngini = 0.875\\nsamples = 6229\\nvalue = [754.0, 768.0, 808.0, 789.0, 707.0, 818.0, 833.0, 752.0]'),\n",
       " Text(0.375, 0.6666666666666667, 'True  '),\n",
       " Text(0.125, 0.16666666666666666, '\\n  (...)  \\n'),\n",
       " Text(0.375, 0.16666666666666666, '\\n  (...)  \\n'),\n",
       " Text(0.75, 0.5, 'Alcohol_Use <= 0.985\\ngini = 0.875\\nsamples = 25771\\nvalue = [3185.0, 3218.0, 3247.0, 3253.0, 3281.0, 3121.0, 3216.0\\n3250.0]'),\n",
       " Text(0.625, 0.6666666666666667, '  False'),\n",
       " Text(0.625, 0.16666666666666666, '\\n  (...)  \\n'),\n",
       " Text(0.875, 0.16666666666666666, '\\n  (...)  \\n')]"
      ]
     },
     "execution_count": 105,
     "metadata": {},
     "output_type": "execute_result"
    },
    {
     "data": {
      "image/png": "[encoded data removed]",
      "text/plain": [
       "<Figure size 8000x2000 with 1 Axes>"
      ]
     },
     "metadata": {
      "needs_background": "light"
     },
     "output_type": "display_data"
    }
   ],
   "source": [
    "from sklearn.tree import plot_tree, export_text \n",
    "plt.figure(figsize=(80,20))\n",
    "plot_tree(model, feature_names=X_train.columns, max_depth=1,filled=True)"
   ]
  },
  {
   "cell_type": "code",
   "execution_count": 106,
   "id": "d3f7f30d",
   "metadata": {},
   "outputs": [
    {
     "data": {
      "text/plain": [
       "53"
      ]
     },
     "execution_count": 106,
     "metadata": {},
     "output_type": "execute_result"
    }
   ],
   "source": [
    "model.tree_.max_depth\n"
   ]
  },
  {
   "cell_type": "code",
   "execution_count": 107,
   "id": "bf2909e7",
   "metadata": {},
   "outputs": [
    {
     "name": "stdout",
     "output_type": "stream",
     "text": [
      "|--- Smoking <= 0.20\n",
      "|   |--- Treatment_Cost_USD <= 0.14\n",
      "|   |   |--- Obesity_Level <= 0.93\n",
      "|   |   |   |--- Survival_Years <= 0.09\n",
      "|   |   |   |   |--- Treatment_Cost_USD <= 0.13\n",
      "|   |   |   |   |   |--- Gender_Other <= 0.50\n",
      "|   |   |   |   |   |   |--- Air_Pollution <= 0.38\n",
      "|   |   |   |   |   |   |   |--- Treatment_Cost_USD <= 0.04\n",
      "|   |   |   |   |   |   |   |   |--- Smoking <= 0.13\n",
      "|   |   |   |   |   |   |   |   |   |--- class: Skin\n",
      "|   |   |   |   |   |   |   |   |--- Smoking >  0.13\n",
      "|   |   |   |   |   |   |   |   |   |--- class: Prostate\n",
      "|   |   |   |   |   |   |   |--- Treatment_Cost_USD >  0.04\n",
      "|   |   |   |   |   |   |   |   |--- Obesity_Level <= 0.21\n",
      "|   |   |   |   |   |   |   |   |   |--- Age <= 0.46\n",
      "|   |   |   |   |   |   |   |   |   |   |--- class: Breast\n",
      "|   |   |   |   |   |   |   |   |   |--- Age >  0.46\n",
      "|   |   |   |   |   |   |   |   |   |   |--- class: Liver\n",
      "|   |   |   |   |   |   |   |   |--- Obesity_Level >  0.21\n",
      "|   |   |   |   |   |   |   |   |   |--- Genetic_Risk <= 0.69\n",
      "|   |   |   |   |   |   |   |   |   |   |--- class: Colon\n",
      "|   |   |   |   |   |   |   |   |   |--- Genetic_Risk >  0.69\n",
      "|   |   |   |   |   |   |   |   |   |   |--- Country_Region_USA <= 0.50\n",
      "|   |   |   |   |   |   |   |   |   |   |   |--- class: Prostate\n",
      "|   |   |   |   |   |   |   |   |   |   |--- Country_Region_USA >  0.50\n",
      "|   |   |   |   |   |   |   |   |   |   |   |--- class: Liver\n",
      "|   |   |   |   |   |   |--- Air_Pollution >  0.38\n",
      "|   |   |   |   |   |   |   |--- Cancer_Stage_Stage 0 <= 0.50\n",
      "|   |   |   |   |   |   |   |   |--- Smoking <= 0.07\n",
      "|   |   |   |   |   |   |   |   |   |--- Survival_Years <= 0.07\n",
      "|   |   |   |   |   |   |   |   |   |   |--- Target_Severity_Score <= 0.60\n",
      "|   |   |   |   |   |   |   |   |   |   |   |--- class: Cervical\n",
      "|   |   |   |   |   |   |   |   |   |   |--- Target_Severity_Score >  0.60\n",
      "|   |   |   |   |   |   |   |   |   |   |   |--- class: Leukemia\n",
      "|   |   |   |   |   |   |   |   |   |--- Survival_Years >  0.07\n",
      "|   |   |   |   |   |   |   |   |   |   |--- class: Skin\n",
      "|   |   |   |   |   |   |   |   |--- Smoking >  0.07\n",
      "|   |   |   |   |   |   |   |   |   |--- Alcohol_Use <= 0.66\n",
      "|   |   |   |   |   |   |   |   |   |   |--- class: Prostate\n",
      "|   |   |   |   |   |   |   |   |   |--- Alcohol_Use >  0.66\n",
      "|   |   |   |   |   |   |   |   |   |   |--- Smoking <= 0.12\n",
      "|   |   |   |   |   |   |   |   |   |   |   |--- truncated branch of depth 2\n",
      "|   |   |   |   |   |   |   |   |   |   |--- Smoking >  0.12\n",
      "|   |   |   |   |   |   |   |   |   |   |   |--- class: Cervical\n",
      "|   |   |   |   |   |   |   |--- Cancer_Stage_Stage 0 >  0.50\n",
      "|   |   |   |   |   |   |   |   |--- Genetic_Risk <= 0.82\n",
      "|   |   |   |   |   |   |   |   |   |--- class: Skin\n",
      "|   |   |   |   |   |   |   |   |--- Genetic_Risk >  0.82\n",
      "|   |   |   |   |   |   |   |   |   |--- Treatment_Cost_USD <= 0.05\n",
      "|   |   |   |   |   |   |   |   |   |   |--- class: Lung\n",
      "|   |   |   |   |   |   |   |   |   |--- Treatment_Cost_USD >  0.05\n",
      "|   |   |   |   |   |   |   |   |   |   |--- Genetic_Risk <= 0.91\n",
      "|   |   |   |   |   |   |   |   |   |   |   |--- class: Colon\n",
      "|   |   |   |   |   |   |   |   |   |   |--- Genetic_Risk >  0.91\n",
      "|   |   |   |   |   |   |   |   |   |   |   |--- class: Leukemia\n",
      "|   |   |   |   |   |--- Gender_Other >  0.50\n",
      "|   |   |   |   |   |   |--- Smoking <= 0.18\n",
      "|   |   |   |   |   |   |   |--- Genetic_Risk <= 0.38\n",
      "|   |   |   |   |   |   |   |   |--- Obesity_Level <= 0.44\n",
      "|   |   |   |   |   |   |   |   |   |--- class: Cervical\n",
      "|   |   |   |   |   |   |   |   |--- Obesity_Level >  0.44\n",
      "|   |   |   |   |   |   |   |   |   |--- class: Leukemia\n",
      "|   |   |   |   |   |   |   |--- Genetic_Risk >  0.38\n",
      "|   |   |   |   |   |   |   |   |--- Air_Pollution <= 0.23\n",
      "|   |   |   |   |   |   |   |   |   |--- class: Breast\n",
      "|   |   |   |   |   |   |   |   |--- Air_Pollution >  0.23\n",
      "|   |   |   |   |   |   |   |   |   |--- Treatment_Cost_USD <= 0.06\n",
      "|   |   |   |   |   |   |   |   |   |   |--- Genetic_Risk <= 0.75\n",
      "|   |   |   |   |   |   |   |   |   |   |   |--- class: Colon\n",
      "|   |   |   |   |   |   |   |   |   |   |--- Genetic_Risk >  0.75\n",
      "|   |   |   |   |   |   |   |   |   |   |   |--- truncated branch of depth 3\n",
      "|   |   |   |   |   |   |   |   |   |--- Treatment_Cost_USD >  0.06\n",
      "|   |   |   |   |   |   |   |   |   |   |--- Genetic_Risk <= 0.62\n",
      "|   |   |   |   |   |   |   |   |   |   |   |--- class: Lung\n",
      "|   |   |   |   |   |   |   |   |   |   |--- Genetic_Risk >  0.62\n",
      "|   |   |   |   |   |   |   |   |   |   |   |--- truncated branch of depth 2\n",
      "|   |   |   |   |   |   |--- Smoking >  0.18\n",
      "|   |   |   |   |   |   |   |--- Survival_Years <= 0.06\n",
      "|   |   |   |   |   |   |   |   |--- class: Breast\n",
      "|   |   |   |   |   |   |   |--- Survival_Years >  0.06\n",
      "|   |   |   |   |   |   |   |   |--- class: Skin\n",
      "|   |   |   |   |--- Treatment_Cost_USD >  0.13\n",
      "|   |   |   |   |   |--- Country_Region_Pakistan <= 0.50\n",
      "|   |   |   |   |   |   |--- class: Colon\n",
      "|   |   |   |   |   |--- Country_Region_Pakistan >  0.50\n",
      "|   |   |   |   |   |   |--- class: P\n"
     ]
    }
   ],
   "source": [
    "tree_text = export_text(model, max_depth=10, feature_names=list(X_train.columns))\n",
    "print(tree_text[:5000])"
   ]
  },
  {
   "cell_type": "code",
   "execution_count": 108,
   "id": "5e947901",
   "metadata": {},
   "outputs": [
    {
     "data": {
      "text/plain": [
       "array([0.08558793, 0.08773877, 0.08450103, 0.08772482, 0.07903564,\n",
       "       0.08963498, 0.10347147, 0.09588017, 0.09069845, 0.01522032,\n",
       "       0.0159586 , 0.01560918, 0.00941867, 0.00781652, 0.00811132,\n",
       "       0.00892204, 0.00908791, 0.00903994, 0.00843803, 0.00967245,\n",
       "       0.0079295 , 0.00855477, 0.01363527, 0.0120641 , 0.0123847 ,\n",
       "       0.0118149 , 0.01204853])"
      ]
     },
     "execution_count": 108,
     "metadata": {},
     "output_type": "execute_result"
    }
   ],
   "source": [
    "model.feature_importances_"
   ]
  },
  {
   "cell_type": "code",
   "execution_count": 109,
   "id": "8fc0e1cb",
   "metadata": {},
   "outputs": [
    {
     "data": {
      "text/html": [
       "<div>\n",
       "<style scoped>\n",
       "    .dataframe tbody tr th:only-of-type {\n",
       "        vertical-align: middle;\n",
       "    }\n",
       "\n",
       "    .dataframe tbody tr th {\n",
       "        vertical-align: top;\n",
       "    }\n",
       "\n",
       "    .dataframe thead th {\n",
       "        text-align: right;\n",
       "    }\n",
       "</style>\n",
       "<table border=\"1\" class=\"dataframe\">\n",
       "  <thead>\n",
       "    <tr style=\"text-align: right;\">\n",
       "      <th></th>\n",
       "      <th>feature</th>\n",
       "      <th>importance</th>\n",
       "    </tr>\n",
       "  </thead>\n",
       "  <tbody>\n",
       "    <tr>\n",
       "      <th>6</th>\n",
       "      <td>Treatment_Cost_USD</td>\n",
       "      <td>0.103471</td>\n",
       "    </tr>\n",
       "    <tr>\n",
       "      <th>7</th>\n",
       "      <td>Survival_Years</td>\n",
       "      <td>0.095880</td>\n",
       "    </tr>\n",
       "    <tr>\n",
       "      <th>8</th>\n",
       "      <td>Target_Severity_Score</td>\n",
       "      <td>0.090698</td>\n",
       "    </tr>\n",
       "    <tr>\n",
       "      <th>5</th>\n",
       "      <td>Obesity_Level</td>\n",
       "      <td>0.089635</td>\n",
       "    </tr>\n",
       "    <tr>\n",
       "      <th>1</th>\n",
       "      <td>Genetic_Risk</td>\n",
       "      <td>0.087739</td>\n",
       "    </tr>\n",
       "    <tr>\n",
       "      <th>3</th>\n",
       "      <td>Alcohol_Use</td>\n",
       "      <td>0.087725</td>\n",
       "    </tr>\n",
       "    <tr>\n",
       "      <th>0</th>\n",
       "      <td>Age</td>\n",
       "      <td>0.085588</td>\n",
       "    </tr>\n",
       "    <tr>\n",
       "      <th>2</th>\n",
       "      <td>Air_Pollution</td>\n",
       "      <td>0.084501</td>\n",
       "    </tr>\n",
       "    <tr>\n",
       "      <th>4</th>\n",
       "      <td>Smoking</td>\n",
       "      <td>0.079036</td>\n",
       "    </tr>\n",
       "    <tr>\n",
       "      <th>10</th>\n",
       "      <td>Gender_Male</td>\n",
       "      <td>0.015959</td>\n",
       "    </tr>\n",
       "  </tbody>\n",
       "</table>\n",
       "</div>"
      ],
      "text/plain": [
       "                  feature  importance\n",
       "6      Treatment_Cost_USD    0.103471\n",
       "7          Survival_Years    0.095880\n",
       "8   Target_Severity_Score    0.090698\n",
       "5           Obesity_Level    0.089635\n",
       "1            Genetic_Risk    0.087739\n",
       "3             Alcohol_Use    0.087725\n",
       "0                     Age    0.085588\n",
       "2           Air_Pollution    0.084501\n",
       "4                 Smoking    0.079036\n",
       "10            Gender_Male    0.015959"
      ]
     },
     "execution_count": 109,
     "metadata": {},
     "output_type": "execute_result"
    }
   ],
   "source": [
    "importance_df = pd.DataFrame({\n",
    "    'feature': X_train.columns,\n",
    "    'importance': model.feature_importances_\n",
    "}).sort_values('importance', ascending=False)\n",
    "importance_df.head(10)"
   ]
  },
  {
   "cell_type": "code",
   "execution_count": 110,
   "id": "be8526af",
   "metadata": {},
   "outputs": [
    {
     "data": {
      "image/png": "[encoded data removed]",
      "text/plain": [
       "<Figure size 1000x600 with 1 Axes>"
      ]
     },
     "metadata": {
      "needs_background": "light"
     },
     "output_type": "display_data"
    }
   ],
   "source": [
    "plt.title('Feature Importance')\n",
    "sns.barplot(data=importance_df.head(10), x='importance', y='feature');"
   ]
  },
  {
   "cell_type": "markdown",
   "id": "b251d8ad",
   "metadata": {},
   "source": [
    "## Hyperparameter Tuning, Overfitting"
   ]
  },
  {
   "cell_type": "code",
   "execution_count": 111,
   "id": "f343850c",
   "metadata": {},
   "outputs": [
    {
     "name": "stdout",
     "output_type": "stream",
     "text": [
      "\u001b[31mInit signature:\u001b[39m\n",
      "DecisionTreeClassifier(\n",
      "    *,\n",
      "    criterion=\u001b[33m'gini'\u001b[39m,\n",
      "    splitter=\u001b[33m'best'\u001b[39m,\n",
      "    max_depth=\u001b[38;5;28;01mNone\u001b[39;00m,\n",
      "    min_samples_split=\u001b[32m2\u001b[39m,\n",
      "    min_samples_leaf=\u001b[32m1\u001b[39m,\n",
      "    min_weight_fraction_leaf=\u001b[32m0.0\u001b[39m,\n",
      "    max_features=\u001b[38;5;28;01mNone\u001b[39;00m,\n",
      "    random_state=\u001b[38;5;28;01mNone\u001b[39;00m,\n",
      "    max_leaf_nodes=\u001b[38;5;28;01mNone\u001b[39;00m,\n",
      "    min_impurity_decrease=\u001b[32m0.0\u001b[39m,\n",
      "    class_weight=\u001b[38;5;28;01mNone\u001b[39;00m,\n",
      "    ccp_alpha=\u001b[32m0.0\u001b[39m,\n",
      "    monotonic_cst=\u001b[38;5;28;01mNone\u001b[39;00m,\n",
      ")\n",
      "\u001b[31mDocstring:\u001b[39m     \n",
      "A decision tree classifier.\n",
      "\n",
      "Read more in the :ref:`User Guide <tree>`.\n",
      "\n",
      "Parameters\n",
      "----------\n",
      "criterion : {\"gini\", \"entropy\", \"log_loss\"}, default=\"gini\"\n",
      "    The function to measure the quality of a split. Supported criteria are\n",
      "    \"gini\" for the Gini impurity and \"log_loss\" and \"entropy\" both for the\n",
      "    Shannon information gain, see :ref:`tree_mathematical_formulation`.\n",
      "\n",
      "splitter : {\"best\", \"random\"}, default=\"best\"\n",
      "    The strategy used to choose the split at each node. Supported\n",
      "    strategies are \"best\" to choose the best split and \"random\" to choose\n",
      "    the best random split.\n",
      "\n",
      "max_depth : int, default=None\n",
      "    The maximum depth of the tree. If None, then nodes are expanded until\n",
      "    all leaves are pure or until all leaves contain less than\n",
      "    min_samples_split samples.\n",
      "\n",
      "min_samples_split : int or float, default=2\n",
      "    The minimum number of samples required to split an internal node:\n",
      "\n",
      "    - If int, then consider `min_samples_split` as the minimum number.\n",
      "    - If float, then `min_samples_split` is a fraction and\n",
      "      `ceil(min_samples_split * n_samples)` are the minimum\n",
      "      number of samples for each split.\n",
      "\n",
      "    .. versionchanged:: 0.18\n",
      "       Added float values for fractions.\n",
      "\n",
      "min_samples_leaf : int or float, default=1\n",
      "    The minimum number of samples required to be at a leaf node.\n",
      "    A split point at any depth will only be considered if it leaves at\n",
      "    least ``min_samples_leaf`` training samples in each of the left and\n",
      "    right branches.  This may have the effect of smoothing the model,\n",
      "    especially in regression.\n",
      "\n",
      "    - If int, then consider `min_samples_leaf` as the minimum number.\n",
      "    - If float, then `min_samples_leaf` is a fraction and\n",
      "      `ceil(min_samples_leaf * n_samples)` are the minimum\n",
      "      number of samples for each node.\n",
      "\n",
      "    .. versionchanged:: 0.18\n",
      "       Added float values for fractions.\n",
      "\n",
      "min_weight_fraction_leaf : float, default=0.0\n",
      "    The minimum weighted fraction of the sum total of weights (of all\n",
      "    the input samples) required to be at a leaf node. Samples have\n",
      "    equal weight when sample_weight is not provided.\n",
      "\n",
      "max_features : int, float or {\"sqrt\", \"log2\"}, default=None\n",
      "    The number of features to consider when looking for the best split:\n",
      "\n",
      "    - If int, then consider `max_features` features at each split.\n",
      "    - If float, then `max_features` is a fraction and\n",
      "      `max(1, int(max_features * n_features_in_))` features are considered at\n",
      "      each split.\n",
      "    - If \"sqrt\", then `max_features=sqrt(n_features)`.\n",
      "    - If \"log2\", then `max_features=log2(n_features)`.\n",
      "    - If None, then `max_features=n_features`.\n",
      "\n",
      "    .. note::\n",
      "\n",
      "        The search for a split does not stop until at least one\n",
      "        valid partition of the node samples is found, even if it requires to\n",
      "        effectively inspect more than ``max_features`` features.\n",
      "\n",
      "random_state : int, RandomState instance or None, default=None\n",
      "    Controls the randomness of the estimator. The features are always\n",
      "    randomly permuted at each split, even if ``splitter`` is set to\n",
      "    ``\"best\"``. When ``max_features < n_features``, the algorithm will\n",
      "    select ``max_features`` at random at each split before finding the best\n",
      "    split among them. But the best found split may vary across different\n",
      "    runs, even if ``max_features=n_features``. That is the case, if the\n",
      "    improvement of the criterion is identical for several splits and one\n",
      "    split has to be selected at random. To obtain a deterministic behaviour\n",
      "    during fitting, ``random_state`` has to be fixed to an integer.\n",
      "    See :term:`Glossary <random_state>` for details.\n",
      "\n",
      "max_leaf_nodes : int, default=None\n",
      "    Grow a tree with ``max_leaf_nodes`` in best-first fashion.\n",
      "    Best nodes are defined as relative reduction in impurity.\n",
      "    If None then unlimited number of leaf nodes.\n",
      "\n",
      "min_impurity_decrease : float, default=0.0\n",
      "    A node will be split if this split induces a decrease of the impurity\n",
      "    greater than or equal to this value.\n",
      "\n",
      "    The weighted impurity decrease equation is the following::\n",
      "\n",
      "        N_t / N * (impurity - N_t_R / N_t * right_impurity\n",
      "                            - N_t_L / N_t * left_impurity)\n",
      "\n",
      "    where ``N`` is the total number of samples, ``N_t`` is the number of\n",
      "    samples at the current node, ``N_t_L`` is the number of samples in the\n",
      "    left child, and ``N_t_R`` is the number of samples in the right child.\n",
      "\n",
      "    ``N``, ``N_t``, ``N_t_R`` and ``N_t_L`` all refer to the weighted sum,\n",
      "    if ``sample_weight`` is passed.\n",
      "\n",
      "    .. versionadded:: 0.19\n",
      "\n",
      "class_weight : dict, list of dict or \"balanced\", default=None\n",
      "    Weights associated with classes in the form ``{class_label: weight}``.\n",
      "    If None, all classes are supposed to have weight one. For\n",
      "    multi-output problems, a list of dicts can be provided in the same\n",
      "    order as the columns of y.\n",
      "\n",
      "    Note that for multioutput (including multilabel) weights should be\n",
      "    defined for each class of every column in its own dict. For example,\n",
      "    for four-class multilabel classification weights should be\n",
      "    [{0: 1, 1: 1}, {0: 1, 1: 5}, {0: 1, 1: 1}, {0: 1, 1: 1}] instead of\n",
      "    [{1:1}, {2:5}, {3:1}, {4:1}].\n",
      "\n",
      "    The \"balanced\" mode uses the values of y to automatically adjust\n",
      "    weights inversely proportional to class frequencies in the input data\n",
      "    as ``n_samples / (n_classes * np.bincount(y))``\n",
      "\n",
      "    For multi-output, the weights of each column of y will be multiplied.\n",
      "\n",
      "    Note that these weights will be multiplied with sample_weight (passed\n",
      "    through the fit method) if sample_weight is specified.\n",
      "\n",
      "ccp_alpha : non-negative float, default=0.0\n",
      "    Complexity parameter used for Minimal Cost-Complexity Pruning. The\n",
      "    subtree with the largest cost complexity that is smaller than\n",
      "    ``ccp_alpha`` will be chosen. By default, no pruning is performed. See\n",
      "    :ref:`minimal_cost_complexity_pruning` for details. See\n",
      "    :ref:`sphx_glr_auto_examples_tree_plot_cost_complexity_pruning.py`\n",
      "    for an example of such pruning.\n",
      "\n",
      "    .. versionadded:: 0.22\n",
      "\n",
      "monotonic_cst : array-like of int of shape (n_features), default=None\n",
      "    Indicates the monotonicity constraint to enforce on each feature.\n",
      "      - 1: monotonic increase\n",
      "      - 0: no constraint\n",
      "      - -1: monotonic decrease\n",
      "\n",
      "    If monotonic_cst is None, no constraints are applied.\n",
      "\n",
      "    Monotonicity constraints are not supported for:\n",
      "      - multiclass classifications (i.e. when `n_classes > 2`),\n",
      "      - multioutput classifications (i.e. when `n_outputs_ > 1`),\n",
      "      - classifications trained on data with missing values.\n",
      "\n",
      "    The constraints hold over the probability of the positive class.\n",
      "\n",
      "    Read more in the :ref:`User Guide <monotonic_cst_gbdt>`.\n",
      "\n",
      "    .. versionadded:: 1.4\n",
      "\n",
      "Attributes\n",
      "----------\n",
      "classes_ : ndarray of shape (n_classes,) or list of ndarray\n",
      "    The classes labels (single output problem),\n",
      "    or a list of arrays of class labels (multi-output problem).\n",
      "\n",
      "feature_importances_ : ndarray of shape (n_features,)\n",
      "    The impurity-based feature importances.\n",
      "    The higher, the more important the feature.\n",
      "    The importance of a feature is computed as the (normalized)\n",
      "    total reduction of the criterion brought by that feature.  It is also\n",
      "    known as the Gini importance [4]_.\n",
      "\n",
      "    Warning: impurity-based feature importances can be misleading for\n",
      "    high cardinality features (many unique values). See\n",
      "    :func:`sklearn.inspection.permutation_importance` as an alternative.\n",
      "\n",
      "max_features_ : int\n",
      "    The inferred value of max_features.\n",
      "\n",
      "n_classes_ : int or list of int\n",
      "    The number of classes (for single output problems),\n",
      "    or a list containing the number of classes for each\n",
      "    output (for multi-output problems).\n",
      "\n",
      "n_features_in_ : int\n",
      "    Number of features seen during :term:`fit`.\n",
      "\n",
      "    .. versionadded:: 0.24\n",
      "\n",
      "feature_names_in_ : ndarray of shape (`n_features_in_`,)\n",
      "    Names of features seen during :term:`fit`. Defined only when `X`\n",
      "    has feature names that are all strings.\n",
      "\n",
      "    .. versionadded:: 1.0\n",
      "\n",
      "n_outputs_ : int\n",
      "    The number of outputs when ``fit`` is performed.\n",
      "\n",
      "tree_ : Tree instance\n",
      "    The underlying Tree object. Please refer to\n",
      "    ``help(sklearn.tree._tree.Tree)`` for attributes of Tree object and\n",
      "    :ref:`sphx_glr_auto_examples_tree_plot_unveil_tree_structure.py`\n",
      "    for basic usage of these attributes.\n",
      "\n",
      "See Also\n",
      "--------\n",
      "DecisionTreeRegressor : A decision tree regressor.\n",
      "\n",
      "Notes\n",
      "-----\n",
      "The default values for the parameters controlling the size of the trees\n",
      "(e.g. ``max_depth``, ``min_samples_leaf``, etc.) lead to fully grown and\n",
      "unpruned trees which can potentially be very large on some data sets. To\n",
      "reduce memory consumption, the complexity and size of the trees should be\n",
      "controlled by setting those parameter values.\n",
      "\n",
      "The :meth:`predict` method operates using the :func:`numpy.argmax`\n",
      "function on the outputs of :meth:`predict_proba`. This means that in\n",
      "case the highest predicted probabilities are tied, the classifier will\n",
      "predict the tied class with the lowest index in :term:`classes_`.\n",
      "\n",
      "References\n",
      "----------\n",
      "\n",
      ".. [1] https://en.wikipedia.org/wiki/Decision_tree_learning\n",
      "\n",
      ".. [2] L. Breiman, J. Friedman, R. Olshen, and C. Stone, \"Classification\n",
      "       and Regression Trees\", Wadsworth, Belmont, CA, 1984.\n",
      "\n",
      ".. [3] T. Hastie, R. Tibshirani and J. Friedman. \"Elements of Statistical\n",
      "       Learning\", Springer, 2009.\n",
      "\n",
      ".. [4] L. Breiman, and A. Cutler, \"Random Forests\",\n",
      "       https://www.stat.berkeley.edu/~breiman/RandomForests/cc_home.htm\n",
      "\n",
      "Examples\n",
      "--------\n",
      ">>> from sklearn.datasets import load_iris\n",
      ">>> from sklearn.model_selection import cross_val_score\n",
      ">>> from sklearn.tree import DecisionTreeClassifier\n",
      ">>> clf = DecisionTreeClassifier(random_state=0)\n",
      ">>> iris = load_iris()\n",
      ">>> cross_val_score(clf, iris.data, iris.target, cv=10)\n",
      "...                             # doctest: +SKIP\n",
      "...\n",
      "array([ 1.     ,  0.93...,  0.86...,  0.93...,  0.93...,\n",
      "        0.93...,  0.93...,  1.     ,  0.93...,  1.      ])\n",
      "\u001b[31mFile:\u001b[39m           c:\\users\\user\\appdata\\local\\programs\\python\\python313\\lib\\site-packages\\sklearn\\tree\\_classes.py\n",
      "\u001b[31mType:\u001b[39m           ABCMeta\n",
      "\u001b[31mSubclasses:\u001b[39m     ExtraTreeClassifier"
     ]
    }
   ],
   "source": [
    "?DecisionTreeClassifier"
   ]
  },
  {
   "cell_type": "code",
   "execution_count": 189,
   "id": "1f5b0017",
   "metadata": {},
   "outputs": [
    {
     "data": {
      "text/html": [
       "<style>#sk-container-id-38 {\n",
       "  /* Definition of color scheme common for light and dark mode */\n",
       "  --sklearn-color-text: #000;\n",
       "  --sklearn-color-text-muted: #666;\n",
       "  --sklearn-color-line: gray;\n",
       "  /* Definition of color scheme for unfitted estimators */\n",
       "  --sklearn-color-unfitted-level-0: #fff5e6;\n",
       "  --sklearn-color-unfitted-level-1: #f6e4d2;\n",
       "  --sklearn-color-unfitted-level-2: #ffe0b3;\n",
       "  --sklearn-color-unfitted-level-3: chocolate;\n",
       "  /* Definition of color scheme for fitted estimators */\n",
       "  --sklearn-color-fitted-level-0: #f0f8ff;\n",
       "  --sklearn-color-fitted-level-1: #d4ebff;\n",
       "  --sklearn-color-fitted-level-2: #b3dbfd;\n",
       "  --sklearn-color-fitted-level-3: cornflowerblue;\n",
       "\n",
       "  /* Specific color for light theme */\n",
       "  --sklearn-color-text-on-default-background: var(--sg-text-color, var(--theme-code-foreground, var(--jp-content-font-color1, black)));\n",
       "  --sklearn-color-background: var(--sg-background-color, var(--theme-background, var(--jp-layout-color0, white)));\n",
       "  --sklearn-color-border-box: var(--sg-text-color, var(--theme-code-foreground, var(--jp-content-font-color1, black)));\n",
       "  --sklearn-color-icon: #696969;\n",
       "\n",
       "  @media (prefers-color-scheme: dark) {\n",
       "    /* Redefinition of color scheme for dark theme */\n",
       "    --sklearn-color-text-on-default-background: var(--sg-text-color, var(--theme-code-foreground, var(--jp-content-font-color1, white)));\n",
       "    --sklearn-color-background: var(--sg-background-color, var(--theme-background, var(--jp-layout-color0, #111)));\n",
       "    --sklearn-color-border-box: var(--sg-text-color, var(--theme-code-foreground, var(--jp-content-font-color1, white)));\n",
       "    --sklearn-color-icon: #878787;\n",
       "  }\n",
       "}\n",
       "\n",
       "#sk-container-id-38 {\n",
       "  color: var(--sklearn-color-text);\n",
       "}\n",
       "\n",
       "#sk-container-id-38 pre {\n",
       "  padding: 0;\n",
       "}\n",
       "\n",
       "#sk-container-id-38 input.sk-hidden--visually {\n",
       "  border: 0;\n",
       "  clip: rect(1px 1px 1px 1px);\n",
       "  clip: rect(1px, 1px, 1px, 1px);\n",
       "  height: 1px;\n",
       "  margin: -1px;\n",
       "  overflow: hidden;\n",
       "  padding: 0;\n",
       "  position: absolute;\n",
       "  width: 1px;\n",
       "}\n",
       "\n",
       "#sk-container-id-38 div.sk-dashed-wrapped {\n",
       "  border: 1px dashed var(--sklearn-color-line);\n",
       "  margin: 0 0.4em 0.5em 0.4em;\n",
       "  box-sizing: border-box;\n",
       "  padding-bottom: 0.4em;\n",
       "  background-color: var(--sklearn-color-background);\n",
       "}\n",
       "\n",
       "#sk-container-id-38 div.sk-container {\n",
       "  /* jupyter's `normalize.less` sets `[hidden] { display: none; }`\n",
       "     but bootstrap.min.css set `[hidden] { display: none !important; }`\n",
       "     so we also need the `!important` here to be able to override the\n",
       "     default hidden behavior on the sphinx rendered scikit-learn.org.\n",
       "     See: https://github.com/scikit-learn/scikit-learn/issues/21755 */\n",
       "  display: inline-block !important;\n",
       "  position: relative;\n",
       "}\n",
       "\n",
       "#sk-container-id-38 div.sk-text-repr-fallback {\n",
       "  display: none;\n",
       "}\n",
       "\n",
       "div.sk-parallel-item,\n",
       "div.sk-serial,\n",
       "div.sk-item {\n",
       "  /* draw centered vertical line to link estimators */\n",
       "  background-image: linear-gradient(var(--sklearn-color-text-on-default-background), var(--sklearn-color-text-on-default-background));\n",
       "  background-size: 2px 100%;\n",
       "  background-repeat: no-repeat;\n",
       "  background-position: center center;\n",
       "}\n",
       "\n",
       "/* Parallel-specific style estimator block */\n",
       "\n",
       "#sk-container-id-38 div.sk-parallel-item::after {\n",
       "  content: \"\";\n",
       "  width: 100%;\n",
       "  border-bottom: 2px solid var(--sklearn-color-text-on-default-background);\n",
       "  flex-grow: 1;\n",
       "}\n",
       "\n",
       "#sk-container-id-38 div.sk-parallel {\n",
       "  display: flex;\n",
       "  align-items: stretch;\n",
       "  justify-content: center;\n",
       "  background-color: var(--sklearn-color-background);\n",
       "  position: relative;\n",
       "}\n",
       "\n",
       "#sk-container-id-38 div.sk-parallel-item {\n",
       "  display: flex;\n",
       "  flex-direction: column;\n",
       "}\n",
       "\n",
       "#sk-container-id-38 div.sk-parallel-item:first-child::after {\n",
       "  align-self: flex-end;\n",
       "  width: 50%;\n",
       "}\n",
       "\n",
       "#sk-container-id-38 div.sk-parallel-item:last-child::after {\n",
       "  align-self: flex-start;\n",
       "  width: 50%;\n",
       "}\n",
       "\n",
       "#sk-container-id-38 div.sk-parallel-item:only-child::after {\n",
       "  width: 0;\n",
       "}\n",
       "\n",
       "/* Serial-specific style estimator block */\n",
       "\n",
       "#sk-container-id-38 div.sk-serial {\n",
       "  display: flex;\n",
       "  flex-direction: column;\n",
       "  align-items: center;\n",
       "  background-color: var(--sklearn-color-background);\n",
       "  padding-right: 1em;\n",
       "  padding-left: 1em;\n",
       "}\n",
       "\n",
       "\n",
       "/* Toggleable style: style used for estimator/Pipeline/ColumnTransformer box that is\n",
       "clickable and can be expanded/collapsed.\n",
       "- Pipeline and ColumnTransformer use this feature and define the default style\n",
       "- Estimators will overwrite some part of the style using the `sk-estimator` class\n",
       "*/\n",
       "\n",
       "/* Pipeline and ColumnTransformer style (default) */\n",
       "\n",
       "#sk-container-id-38 div.sk-toggleable {\n",
       "  /* Default theme specific background. It is overwritten whether we have a\n",
       "  specific estimator or a Pipeline/ColumnTransformer */\n",
       "  background-color: var(--sklearn-color-background);\n",
       "}\n",
       "\n",
       "/* Toggleable label */\n",
       "#sk-container-id-38 label.sk-toggleable__label {\n",
       "  cursor: pointer;\n",
       "  display: flex;\n",
       "  width: 100%;\n",
       "  margin-bottom: 0;\n",
       "  padding: 0.5em;\n",
       "  box-sizing: border-box;\n",
       "  text-align: center;\n",
       "  align-items: start;\n",
       "  justify-content: space-between;\n",
       "  gap: 0.5em;\n",
       "}\n",
       "\n",
       "#sk-container-id-38 label.sk-toggleable__label .caption {\n",
       "  font-size: 0.6rem;\n",
       "  font-weight: lighter;\n",
       "  color: var(--sklearn-color-text-muted);\n",
       "}\n",
       "\n",
       "#sk-container-id-38 label.sk-toggleable__label-arrow:before {\n",
       "  /* Arrow on the left of the label */\n",
       "  content: \"▸\";\n",
       "  float: left;\n",
       "  margin-right: 0.25em;\n",
       "  color: var(--sklearn-color-icon);\n",
       "}\n",
       "\n",
       "#sk-container-id-38 label.sk-toggleable__label-arrow:hover:before {\n",
       "  color: var(--sklearn-color-text);\n",
       "}\n",
       "\n",
       "/* Toggleable content - dropdown */\n",
       "\n",
       "#sk-container-id-38 div.sk-toggleable__content {\n",
       "  max-height: 0;\n",
       "  max-width: 0;\n",
       "  overflow: hidden;\n",
       "  text-align: left;\n",
       "  /* unfitted */\n",
       "  background-color: var(--sklearn-color-unfitted-level-0);\n",
       "}\n",
       "\n",
       "#sk-container-id-38 div.sk-toggleable__content.fitted {\n",
       "  /* fitted */\n",
       "  background-color: var(--sklearn-color-fitted-level-0);\n",
       "}\n",
       "\n",
       "#sk-container-id-38 div.sk-toggleable__content pre {\n",
       "  margin: 0.2em;\n",
       "  border-radius: 0.25em;\n",
       "  color: var(--sklearn-color-text);\n",
       "  /* unfitted */\n",
       "  background-color: var(--sklearn-color-unfitted-level-0);\n",
       "}\n",
       "\n",
       "#sk-container-id-38 div.sk-toggleable__content.fitted pre {\n",
       "  /* unfitted */\n",
       "  background-color: var(--sklearn-color-fitted-level-0);\n",
       "}\n",
       "\n",
       "#sk-container-id-38 input.sk-toggleable__control:checked~div.sk-toggleable__content {\n",
       "  /* Expand drop-down */\n",
       "  max-height: 200px;\n",
       "  max-width: 100%;\n",
       "  overflow: auto;\n",
       "}\n",
       "\n",
       "#sk-container-id-38 input.sk-toggleable__control:checked~label.sk-toggleable__label-arrow:before {\n",
       "  content: \"▾\";\n",
       "}\n",
       "\n",
       "/* Pipeline/ColumnTransformer-specific style */\n",
       "\n",
       "#sk-container-id-38 div.sk-label input.sk-toggleable__control:checked~label.sk-toggleable__label {\n",
       "  color: var(--sklearn-color-text);\n",
       "  background-color: var(--sklearn-color-unfitted-level-2);\n",
       "}\n",
       "\n",
       "#sk-container-id-38 div.sk-label.fitted input.sk-toggleable__control:checked~label.sk-toggleable__label {\n",
       "  background-color: var(--sklearn-color-fitted-level-2);\n",
       "}\n",
       "\n",
       "/* Estimator-specific style */\n",
       "\n",
       "/* Colorize estimator box */\n",
       "#sk-container-id-38 div.sk-estimator input.sk-toggleable__control:checked~label.sk-toggleable__label {\n",
       "  /* unfitted */\n",
       "  background-color: var(--sklearn-color-unfitted-level-2);\n",
       "}\n",
       "\n",
       "#sk-container-id-38 div.sk-estimator.fitted input.sk-toggleable__control:checked~label.sk-toggleable__label {\n",
       "  /* fitted */\n",
       "  background-color: var(--sklearn-color-fitted-level-2);\n",
       "}\n",
       "\n",
       "#sk-container-id-38 div.sk-label label.sk-toggleable__label,\n",
       "#sk-container-id-38 div.sk-label label {\n",
       "  /* The background is the default theme color */\n",
       "  color: var(--sklearn-color-text-on-default-background);\n",
       "}\n",
       "\n",
       "/* On hover, darken the color of the background */\n",
       "#sk-container-id-38 div.sk-label:hover label.sk-toggleable__label {\n",
       "  color: var(--sklearn-color-text);\n",
       "  background-color: var(--sklearn-color-unfitted-level-2);\n",
       "}\n",
       "\n",
       "/* Label box, darken color on hover, fitted */\n",
       "#sk-container-id-38 div.sk-label.fitted:hover label.sk-toggleable__label.fitted {\n",
       "  color: var(--sklearn-color-text);\n",
       "  background-color: var(--sklearn-color-fitted-level-2);\n",
       "}\n",
       "\n",
       "/* Estimator label */\n",
       "\n",
       "#sk-container-id-38 div.sk-label label {\n",
       "  font-family: monospace;\n",
       "  font-weight: bold;\n",
       "  display: inline-block;\n",
       "  line-height: 1.2em;\n",
       "}\n",
       "\n",
       "#sk-container-id-38 div.sk-label-container {\n",
       "  text-align: center;\n",
       "}\n",
       "\n",
       "/* Estimator-specific */\n",
       "#sk-container-id-38 div.sk-estimator {\n",
       "  font-family: monospace;\n",
       "  border: 1px dotted var(--sklearn-color-border-box);\n",
       "  border-radius: 0.25em;\n",
       "  box-sizing: border-box;\n",
       "  margin-bottom: 0.5em;\n",
       "  /* unfitted */\n",
       "  background-color: var(--sklearn-color-unfitted-level-0);\n",
       "}\n",
       "\n",
       "#sk-container-id-38 div.sk-estimator.fitted {\n",
       "  /* fitted */\n",
       "  background-color: var(--sklearn-color-fitted-level-0);\n",
       "}\n",
       "\n",
       "/* on hover */\n",
       "#sk-container-id-38 div.sk-estimator:hover {\n",
       "  /* unfitted */\n",
       "  background-color: var(--sklearn-color-unfitted-level-2);\n",
       "}\n",
       "\n",
       "#sk-container-id-38 div.sk-estimator.fitted:hover {\n",
       "  /* fitted */\n",
       "  background-color: var(--sklearn-color-fitted-level-2);\n",
       "}\n",
       "\n",
       "/* Specification for estimator info (e.g. \"i\" and \"?\") */\n",
       "\n",
       "/* Common style for \"i\" and \"?\" */\n",
       "\n",
       ".sk-estimator-doc-link,\n",
       "a:link.sk-estimator-doc-link,\n",
       "a:visited.sk-estimator-doc-link {\n",
       "  float: right;\n",
       "  font-size: smaller;\n",
       "  line-height: 1em;\n",
       "  font-family: monospace;\n",
       "  background-color: var(--sklearn-color-background);\n",
       "  border-radius: 1em;\n",
       "  height: 1em;\n",
       "  width: 1em;\n",
       "  text-decoration: none !important;\n",
       "  margin-left: 0.5em;\n",
       "  text-align: center;\n",
       "  /* unfitted */\n",
       "  border: var(--sklearn-color-unfitted-level-1) 1pt solid;\n",
       "  color: var(--sklearn-color-unfitted-level-1);\n",
       "}\n",
       "\n",
       ".sk-estimator-doc-link.fitted,\n",
       "a:link.sk-estimator-doc-link.fitted,\n",
       "a:visited.sk-estimator-doc-link.fitted {\n",
       "  /* fitted */\n",
       "  border: var(--sklearn-color-fitted-level-1) 1pt solid;\n",
       "  color: var(--sklearn-color-fitted-level-1);\n",
       "}\n",
       "\n",
       "/* On hover */\n",
       "div.sk-estimator:hover .sk-estimator-doc-link:hover,\n",
       ".sk-estimator-doc-link:hover,\n",
       "div.sk-label-container:hover .sk-estimator-doc-link:hover,\n",
       ".sk-estimator-doc-link:hover {\n",
       "  /* unfitted */\n",
       "  background-color: var(--sklearn-color-unfitted-level-3);\n",
       "  color: var(--sklearn-color-background);\n",
       "  text-decoration: none;\n",
       "}\n",
       "\n",
       "div.sk-estimator.fitted:hover .sk-estimator-doc-link.fitted:hover,\n",
       ".sk-estimator-doc-link.fitted:hover,\n",
       "div.sk-label-container:hover .sk-estimator-doc-link.fitted:hover,\n",
       ".sk-estimator-doc-link.fitted:hover {\n",
       "  /* fitted */\n",
       "  background-color: var(--sklearn-color-fitted-level-3);\n",
       "  color: var(--sklearn-color-background);\n",
       "  text-decoration: none;\n",
       "}\n",
       "\n",
       "/* Span, style for the box shown on hovering the info icon */\n",
       ".sk-estimator-doc-link span {\n",
       "  display: none;\n",
       "  z-index: 9999;\n",
       "  position: relative;\n",
       "  font-weight: normal;\n",
       "  right: .2ex;\n",
       "  padding: .5ex;\n",
       "  margin: .5ex;\n",
       "  width: min-content;\n",
       "  min-width: 20ex;\n",
       "  max-width: 50ex;\n",
       "  color: var(--sklearn-color-text);\n",
       "  box-shadow: 2pt 2pt 4pt #999;\n",
       "  /* unfitted */\n",
       "  background: var(--sklearn-color-unfitted-level-0);\n",
       "  border: .5pt solid var(--sklearn-color-unfitted-level-3);\n",
       "}\n",
       "\n",
       ".sk-estimator-doc-link.fitted span {\n",
       "  /* fitted */\n",
       "  background: var(--sklearn-color-fitted-level-0);\n",
       "  border: var(--sklearn-color-fitted-level-3);\n",
       "}\n",
       "\n",
       ".sk-estimator-doc-link:hover span {\n",
       "  display: block;\n",
       "}\n",
       "\n",
       "/* \"?\"-specific style due to the `<a>` HTML tag */\n",
       "\n",
       "#sk-container-id-38 a.estimator_doc_link {\n",
       "  float: right;\n",
       "  font-size: 1rem;\n",
       "  line-height: 1em;\n",
       "  font-family: monospace;\n",
       "  background-color: var(--sklearn-color-background);\n",
       "  border-radius: 1rem;\n",
       "  height: 1rem;\n",
       "  width: 1rem;\n",
       "  text-decoration: none;\n",
       "  /* unfitted */\n",
       "  color: var(--sklearn-color-unfitted-level-1);\n",
       "  border: var(--sklearn-color-unfitted-level-1) 1pt solid;\n",
       "}\n",
       "\n",
       "#sk-container-id-38 a.estimator_doc_link.fitted {\n",
       "  /* fitted */\n",
       "  border: var(--sklearn-color-fitted-level-1) 1pt solid;\n",
       "  color: var(--sklearn-color-fitted-level-1);\n",
       "}\n",
       "\n",
       "/* On hover */\n",
       "#sk-container-id-38 a.estimator_doc_link:hover {\n",
       "  /* unfitted */\n",
       "  background-color: var(--sklearn-color-unfitted-level-3);\n",
       "  color: var(--sklearn-color-background);\n",
       "  text-decoration: none;\n",
       "}\n",
       "\n",
       "#sk-container-id-38 a.estimator_doc_link.fitted:hover {\n",
       "  /* fitted */\n",
       "  background-color: var(--sklearn-color-fitted-level-3);\n",
       "}\n",
       "</style><div id=\"sk-container-id-38\" class=\"sk-top-container\"><div class=\"sk-text-repr-fallback\"><pre>DecisionTreeClassifier(max_depth=20, max_leaf_nodes=512, random_state=42)</pre><b>In a Jupyter environment, please rerun this cell to show the HTML representation or trust the notebook. <br />On GitHub, the HTML representation is unable to render, please try loading this page with nbviewer.org.</b></div><div class=\"sk-container\" hidden><div class=\"sk-item\"><div class=\"sk-estimator fitted sk-toggleable\"><input class=\"sk-toggleable__control sk-hidden--visually\" id=\"sk-estimator-id-38\" type=\"checkbox\" checked><label for=\"sk-estimator-id-38\" class=\"sk-toggleable__label fitted sk-toggleable__label-arrow\"><div><div>DecisionTreeClassifier</div></div><div><a class=\"sk-estimator-doc-link fitted\" rel=\"noreferrer\" target=\"_blank\" href=\"https://scikit-learn.org/1.6/modules/generated/sklearn.tree.DecisionTreeClassifier.html\">?<span>Documentation for DecisionTreeClassifier</span></a><span class=\"sk-estimator-doc-link fitted\">i<span>Fitted</span></span></div></label><div class=\"sk-toggleable__content fitted\"><pre>DecisionTreeClassifier(max_depth=20, max_leaf_nodes=512, random_state=42)</pre></div> </div></div></div></div>"
      ],
      "text/plain": [
       "DecisionTreeClassifier(max_depth=20, max_leaf_nodes=512, random_state=42)"
      ]
     },
     "execution_count": 189,
     "metadata": {},
     "output_type": "execute_result"
    }
   ],
   "source": [
    "model = DecisionTreeClassifier(max_depth=20, max_leaf_nodes=2**9, random_state=42)\n",
    "model.fit(X_train, train_targets)"
   ]
  },
  {
   "cell_type": "code",
   "execution_count": 190,
   "id": "0d4049ed",
   "metadata": {},
   "outputs": [
    {
     "data": {
      "text/plain": [
       "0.131875"
      ]
     },
     "execution_count": 190,
     "metadata": {},
     "output_type": "execute_result"
    }
   ],
   "source": [
    "model.score(X_val, val_targets)"
   ]
  },
  {
   "cell_type": "code",
   "execution_count": 192,
   "id": "b31259ac",
   "metadata": {},
   "outputs": [
    {
     "data": {
      "text/plain": [
       "0.1274"
      ]
     },
     "execution_count": 192,
     "metadata": {},
     "output_type": "execute_result"
    }
   ],
   "source": [
    "model.score(X_test,test_targets)"
   ]
  },
  {
   "cell_type": "markdown",
   "id": "c7a5dfa5",
   "metadata": {},
   "source": [
    "## Training Random Forest"
   ]
  },
  {
   "cell_type": "code",
   "execution_count": 197,
   "id": "15c23786",
   "metadata": {},
   "outputs": [],
   "source": [
    "from sklearn.ensemble import RandomForestClassifier\n",
    "model = RandomForestClassifier(n_estimators=100, random_state=42)"
   ]
  },
  {
   "cell_type": "code",
   "execution_count": 198,
   "id": "2571aabb",
   "metadata": {},
   "outputs": [
    {
     "name": "stdout",
     "output_type": "stream",
     "text": [
      "CPU times: total: 25.7 s\n",
      "Wall time: 3min 2s\n"
     ]
    },
    {
     "data": {
      "text/html": [
       "<style>#sk-container-id-40 {\n",
       "  /* Definition of color scheme common for light and dark mode */\n",
       "  --sklearn-color-text: #000;\n",
       "  --sklearn-color-text-muted: #666;\n",
       "  --sklearn-color-line: gray;\n",
       "  /* Definition of color scheme for unfitted estimators */\n",
       "  --sklearn-color-unfitted-level-0: #fff5e6;\n",
       "  --sklearn-color-unfitted-level-1: #f6e4d2;\n",
       "  --sklearn-color-unfitted-level-2: #ffe0b3;\n",
       "  --sklearn-color-unfitted-level-3: chocolate;\n",
       "  /* Definition of color scheme for fitted estimators */\n",
       "  --sklearn-color-fitted-level-0: #f0f8ff;\n",
       "  --sklearn-color-fitted-level-1: #d4ebff;\n",
       "  --sklearn-color-fitted-level-2: #b3dbfd;\n",
       "  --sklearn-color-fitted-level-3: cornflowerblue;\n",
       "\n",
       "  /* Specific color for light theme */\n",
       "  --sklearn-color-text-on-default-background: var(--sg-text-color, var(--theme-code-foreground, var(--jp-content-font-color1, black)));\n",
       "  --sklearn-color-background: var(--sg-background-color, var(--theme-background, var(--jp-layout-color0, white)));\n",
       "  --sklearn-color-border-box: var(--sg-text-color, var(--theme-code-foreground, var(--jp-content-font-color1, black)));\n",
       "  --sklearn-color-icon: #696969;\n",
       "\n",
       "  @media (prefers-color-scheme: dark) {\n",
       "    /* Redefinition of color scheme for dark theme */\n",
       "    --sklearn-color-text-on-default-background: var(--sg-text-color, var(--theme-code-foreground, var(--jp-content-font-color1, white)));\n",
       "    --sklearn-color-background: var(--sg-background-color, var(--theme-background, var(--jp-layout-color0, #111)));\n",
       "    --sklearn-color-border-box: var(--sg-text-color, var(--theme-code-foreground, var(--jp-content-font-color1, white)));\n",
       "    --sklearn-color-icon: #878787;\n",
       "  }\n",
       "}\n",
       "\n",
       "#sk-container-id-40 {\n",
       "  color: var(--sklearn-color-text);\n",
       "}\n",
       "\n",
       "#sk-container-id-40 pre {\n",
       "  padding: 0;\n",
       "}\n",
       "\n",
       "#sk-container-id-40 input.sk-hidden--visually {\n",
       "  border: 0;\n",
       "  clip: rect(1px 1px 1px 1px);\n",
       "  clip: rect(1px, 1px, 1px, 1px);\n",
       "  height: 1px;\n",
       "  margin: -1px;\n",
       "  overflow: hidden;\n",
       "  padding: 0;\n",
       "  position: absolute;\n",
       "  width: 1px;\n",
       "}\n",
       "\n",
       "#sk-container-id-40 div.sk-dashed-wrapped {\n",
       "  border: 1px dashed var(--sklearn-color-line);\n",
       "  margin: 0 0.4em 0.5em 0.4em;\n",
       "  box-sizing: border-box;\n",
       "  padding-bottom: 0.4em;\n",
       "  background-color: var(--sklearn-color-background);\n",
       "}\n",
       "\n",
       "#sk-container-id-40 div.sk-container {\n",
       "  /* jupyter's `normalize.less` sets `[hidden] { display: none; }`\n",
       "     but bootstrap.min.css set `[hidden] { display: none !important; }`\n",
       "     so we also need the `!important` here to be able to override the\n",
       "     default hidden behavior on the sphinx rendered scikit-learn.org.\n",
       "     See: https://github.com/scikit-learn/scikit-learn/issues/21755 */\n",
       "  display: inline-block !important;\n",
       "  position: relative;\n",
       "}\n",
       "\n",
       "#sk-container-id-40 div.sk-text-repr-fallback {\n",
       "  display: none;\n",
       "}\n",
       "\n",
       "div.sk-parallel-item,\n",
       "div.sk-serial,\n",
       "div.sk-item {\n",
       "  /* draw centered vertical line to link estimators */\n",
       "  background-image: linear-gradient(var(--sklearn-color-text-on-default-background), var(--sklearn-color-text-on-default-background));\n",
       "  background-size: 2px 100%;\n",
       "  background-repeat: no-repeat;\n",
       "  background-position: center center;\n",
       "}\n",
       "\n",
       "/* Parallel-specific style estimator block */\n",
       "\n",
       "#sk-container-id-40 div.sk-parallel-item::after {\n",
       "  content: \"\";\n",
       "  width: 100%;\n",
       "  border-bottom: 2px solid var(--sklearn-color-text-on-default-background);\n",
       "  flex-grow: 1;\n",
       "}\n",
       "\n",
       "#sk-container-id-40 div.sk-parallel {\n",
       "  display: flex;\n",
       "  align-items: stretch;\n",
       "  justify-content: center;\n",
       "  background-color: var(--sklearn-color-background);\n",
       "  position: relative;\n",
       "}\n",
       "\n",
       "#sk-container-id-40 div.sk-parallel-item {\n",
       "  display: flex;\n",
       "  flex-direction: column;\n",
       "}\n",
       "\n",
       "#sk-container-id-40 div.sk-parallel-item:first-child::after {\n",
       "  align-self: flex-end;\n",
       "  width: 50%;\n",
       "}\n",
       "\n",
       "#sk-container-id-40 div.sk-parallel-item:last-child::after {\n",
       "  align-self: flex-start;\n",
       "  width: 50%;\n",
       "}\n",
       "\n",
       "#sk-container-id-40 div.sk-parallel-item:only-child::after {\n",
       "  width: 0;\n",
       "}\n",
       "\n",
       "/* Serial-specific style estimator block */\n",
       "\n",
       "#sk-container-id-40 div.sk-serial {\n",
       "  display: flex;\n",
       "  flex-direction: column;\n",
       "  align-items: center;\n",
       "  background-color: var(--sklearn-color-background);\n",
       "  padding-right: 1em;\n",
       "  padding-left: 1em;\n",
       "}\n",
       "\n",
       "\n",
       "/* Toggleable style: style used for estimator/Pipeline/ColumnTransformer box that is\n",
       "clickable and can be expanded/collapsed.\n",
       "- Pipeline and ColumnTransformer use this feature and define the default style\n",
       "- Estimators will overwrite some part of the style using the `sk-estimator` class\n",
       "*/\n",
       "\n",
       "/* Pipeline and ColumnTransformer style (default) */\n",
       "\n",
       "#sk-container-id-40 div.sk-toggleable {\n",
       "  /* Default theme specific background. It is overwritten whether we have a\n",
       "  specific estimator or a Pipeline/ColumnTransformer */\n",
       "  background-color: var(--sklearn-color-background);\n",
       "}\n",
       "\n",
       "/* Toggleable label */\n",
       "#sk-container-id-40 label.sk-toggleable__label {\n",
       "  cursor: pointer;\n",
       "  display: flex;\n",
       "  width: 100%;\n",
       "  margin-bottom: 0;\n",
       "  padding: 0.5em;\n",
       "  box-sizing: border-box;\n",
       "  text-align: center;\n",
       "  align-items: start;\n",
       "  justify-content: space-between;\n",
       "  gap: 0.5em;\n",
       "}\n",
       "\n",
       "#sk-container-id-40 label.sk-toggleable__label .caption {\n",
       "  font-size: 0.6rem;\n",
       "  font-weight: lighter;\n",
       "  color: var(--sklearn-color-text-muted);\n",
       "}\n",
       "\n",
       "#sk-container-id-40 label.sk-toggleable__label-arrow:before {\n",
       "  /* Arrow on the left of the label */\n",
       "  content: \"▸\";\n",
       "  float: left;\n",
       "  margin-right: 0.25em;\n",
       "  color: var(--sklearn-color-icon);\n",
       "}\n",
       "\n",
       "#sk-container-id-40 label.sk-toggleable__label-arrow:hover:before {\n",
       "  color: var(--sklearn-color-text);\n",
       "}\n",
       "\n",
       "/* Toggleable content - dropdown */\n",
       "\n",
       "#sk-container-id-40 div.sk-toggleable__content {\n",
       "  max-height: 0;\n",
       "  max-width: 0;\n",
       "  overflow: hidden;\n",
       "  text-align: left;\n",
       "  /* unfitted */\n",
       "  background-color: var(--sklearn-color-unfitted-level-0);\n",
       "}\n",
       "\n",
       "#sk-container-id-40 div.sk-toggleable__content.fitted {\n",
       "  /* fitted */\n",
       "  background-color: var(--sklearn-color-fitted-level-0);\n",
       "}\n",
       "\n",
       "#sk-container-id-40 div.sk-toggleable__content pre {\n",
       "  margin: 0.2em;\n",
       "  border-radius: 0.25em;\n",
       "  color: var(--sklearn-color-text);\n",
       "  /* unfitted */\n",
       "  background-color: var(--sklearn-color-unfitted-level-0);\n",
       "}\n",
       "\n",
       "#sk-container-id-40 div.sk-toggleable__content.fitted pre {\n",
       "  /* unfitted */\n",
       "  background-color: var(--sklearn-color-fitted-level-0);\n",
       "}\n",
       "\n",
       "#sk-container-id-40 input.sk-toggleable__control:checked~div.sk-toggleable__content {\n",
       "  /* Expand drop-down */\n",
       "  max-height: 200px;\n",
       "  max-width: 100%;\n",
       "  overflow: auto;\n",
       "}\n",
       "\n",
       "#sk-container-id-40 input.sk-toggleable__control:checked~label.sk-toggleable__label-arrow:before {\n",
       "  content: \"▾\";\n",
       "}\n",
       "\n",
       "/* Pipeline/ColumnTransformer-specific style */\n",
       "\n",
       "#sk-container-id-40 div.sk-label input.sk-toggleable__control:checked~label.sk-toggleable__label {\n",
       "  color: var(--sklearn-color-text);\n",
       "  background-color: var(--sklearn-color-unfitted-level-2);\n",
       "}\n",
       "\n",
       "#sk-container-id-40 div.sk-label.fitted input.sk-toggleable__control:checked~label.sk-toggleable__label {\n",
       "  background-color: var(--sklearn-color-fitted-level-2);\n",
       "}\n",
       "\n",
       "/* Estimator-specific style */\n",
       "\n",
       "/* Colorize estimator box */\n",
       "#sk-container-id-40 div.sk-estimator input.sk-toggleable__control:checked~label.sk-toggleable__label {\n",
       "  /* unfitted */\n",
       "  background-color: var(--sklearn-color-unfitted-level-2);\n",
       "}\n",
       "\n",
       "#sk-container-id-40 div.sk-estimator.fitted input.sk-toggleable__control:checked~label.sk-toggleable__label {\n",
       "  /* fitted */\n",
       "  background-color: var(--sklearn-color-fitted-level-2);\n",
       "}\n",
       "\n",
       "#sk-container-id-40 div.sk-label label.sk-toggleable__label,\n",
       "#sk-container-id-40 div.sk-label label {\n",
       "  /* The background is the default theme color */\n",
       "  color: var(--sklearn-color-text-on-default-background);\n",
       "}\n",
       "\n",
       "/* On hover, darken the color of the background */\n",
       "#sk-container-id-40 div.sk-label:hover label.sk-toggleable__label {\n",
       "  color: var(--sklearn-color-text);\n",
       "  background-color: var(--sklearn-color-unfitted-level-2);\n",
       "}\n",
       "\n",
       "/* Label box, darken color on hover, fitted */\n",
       "#sk-container-id-40 div.sk-label.fitted:hover label.sk-toggleable__label.fitted {\n",
       "  color: var(--sklearn-color-text);\n",
       "  background-color: var(--sklearn-color-fitted-level-2);\n",
       "}\n",
       "\n",
       "/* Estimator label */\n",
       "\n",
       "#sk-container-id-40 div.sk-label label {\n",
       "  font-family: monospace;\n",
       "  font-weight: bold;\n",
       "  display: inline-block;\n",
       "  line-height: 1.2em;\n",
       "}\n",
       "\n",
       "#sk-container-id-40 div.sk-label-container {\n",
       "  text-align: center;\n",
       "}\n",
       "\n",
       "/* Estimator-specific */\n",
       "#sk-container-id-40 div.sk-estimator {\n",
       "  font-family: monospace;\n",
       "  border: 1px dotted var(--sklearn-color-border-box);\n",
       "  border-radius: 0.25em;\n",
       "  box-sizing: border-box;\n",
       "  margin-bottom: 0.5em;\n",
       "  /* unfitted */\n",
       "  background-color: var(--sklearn-color-unfitted-level-0);\n",
       "}\n",
       "\n",
       "#sk-container-id-40 div.sk-estimator.fitted {\n",
       "  /* fitted */\n",
       "  background-color: var(--sklearn-color-fitted-level-0);\n",
       "}\n",
       "\n",
       "/* on hover */\n",
       "#sk-container-id-40 div.sk-estimator:hover {\n",
       "  /* unfitted */\n",
       "  background-color: var(--sklearn-color-unfitted-level-2);\n",
       "}\n",
       "\n",
       "#sk-container-id-40 div.sk-estimator.fitted:hover {\n",
       "  /* fitted */\n",
       "  background-color: var(--sklearn-color-fitted-level-2);\n",
       "}\n",
       "\n",
       "/* Specification for estimator info (e.g. \"i\" and \"?\") */\n",
       "\n",
       "/* Common style for \"i\" and \"?\" */\n",
       "\n",
       ".sk-estimator-doc-link,\n",
       "a:link.sk-estimator-doc-link,\n",
       "a:visited.sk-estimator-doc-link {\n",
       "  float: right;\n",
       "  font-size: smaller;\n",
       "  line-height: 1em;\n",
       "  font-family: monospace;\n",
       "  background-color: var(--sklearn-color-background);\n",
       "  border-radius: 1em;\n",
       "  height: 1em;\n",
       "  width: 1em;\n",
       "  text-decoration: none !important;\n",
       "  margin-left: 0.5em;\n",
       "  text-align: center;\n",
       "  /* unfitted */\n",
       "  border: var(--sklearn-color-unfitted-level-1) 1pt solid;\n",
       "  color: var(--sklearn-color-unfitted-level-1);\n",
       "}\n",
       "\n",
       ".sk-estimator-doc-link.fitted,\n",
       "a:link.sk-estimator-doc-link.fitted,\n",
       "a:visited.sk-estimator-doc-link.fitted {\n",
       "  /* fitted */\n",
       "  border: var(--sklearn-color-fitted-level-1) 1pt solid;\n",
       "  color: var(--sklearn-color-fitted-level-1);\n",
       "}\n",
       "\n",
       "/* On hover */\n",
       "div.sk-estimator:hover .sk-estimator-doc-link:hover,\n",
       ".sk-estimator-doc-link:hover,\n",
       "div.sk-label-container:hover .sk-estimator-doc-link:hover,\n",
       ".sk-estimator-doc-link:hover {\n",
       "  /* unfitted */\n",
       "  background-color: var(--sklearn-color-unfitted-level-3);\n",
       "  color: var(--sklearn-color-background);\n",
       "  text-decoration: none;\n",
       "}\n",
       "\n",
       "div.sk-estimator.fitted:hover .sk-estimator-doc-link.fitted:hover,\n",
       ".sk-estimator-doc-link.fitted:hover,\n",
       "div.sk-label-container:hover .sk-estimator-doc-link.fitted:hover,\n",
       ".sk-estimator-doc-link.fitted:hover {\n",
       "  /* fitted */\n",
       "  background-color: var(--sklearn-color-fitted-level-3);\n",
       "  color: var(--sklearn-color-background);\n",
       "  text-decoration: none;\n",
       "}\n",
       "\n",
       "/* Span, style for the box shown on hovering the info icon */\n",
       ".sk-estimator-doc-link span {\n",
       "  display: none;\n",
       "  z-index: 9999;\n",
       "  position: relative;\n",
       "  font-weight: normal;\n",
       "  right: .2ex;\n",
       "  padding: .5ex;\n",
       "  margin: .5ex;\n",
       "  width: min-content;\n",
       "  min-width: 20ex;\n",
       "  max-width: 50ex;\n",
       "  color: var(--sklearn-color-text);\n",
       "  box-shadow: 2pt 2pt 4pt #999;\n",
       "  /* unfitted */\n",
       "  background: var(--sklearn-color-unfitted-level-0);\n",
       "  border: .5pt solid var(--sklearn-color-unfitted-level-3);\n",
       "}\n",
       "\n",
       ".sk-estimator-doc-link.fitted span {\n",
       "  /* fitted */\n",
       "  background: var(--sklearn-color-fitted-level-0);\n",
       "  border: var(--sklearn-color-fitted-level-3);\n",
       "}\n",
       "\n",
       ".sk-estimator-doc-link:hover span {\n",
       "  display: block;\n",
       "}\n",
       "\n",
       "/* \"?\"-specific style due to the `<a>` HTML tag */\n",
       "\n",
       "#sk-container-id-40 a.estimator_doc_link {\n",
       "  float: right;\n",
       "  font-size: 1rem;\n",
       "  line-height: 1em;\n",
       "  font-family: monospace;\n",
       "  background-color: var(--sklearn-color-background);\n",
       "  border-radius: 1rem;\n",
       "  height: 1rem;\n",
       "  width: 1rem;\n",
       "  text-decoration: none;\n",
       "  /* unfitted */\n",
       "  color: var(--sklearn-color-unfitted-level-1);\n",
       "  border: var(--sklearn-color-unfitted-level-1) 1pt solid;\n",
       "}\n",
       "\n",
       "#sk-container-id-40 a.estimator_doc_link.fitted {\n",
       "  /* fitted */\n",
       "  border: var(--sklearn-color-fitted-level-1) 1pt solid;\n",
       "  color: var(--sklearn-color-fitted-level-1);\n",
       "}\n",
       "\n",
       "/* On hover */\n",
       "#sk-container-id-40 a.estimator_doc_link:hover {\n",
       "  /* unfitted */\n",
       "  background-color: var(--sklearn-color-unfitted-level-3);\n",
       "  color: var(--sklearn-color-background);\n",
       "  text-decoration: none;\n",
       "}\n",
       "\n",
       "#sk-container-id-40 a.estimator_doc_link.fitted:hover {\n",
       "  /* fitted */\n",
       "  background-color: var(--sklearn-color-fitted-level-3);\n",
       "}\n",
       "</style><div id=\"sk-container-id-40\" class=\"sk-top-container\"><div class=\"sk-text-repr-fallback\"><pre>RandomForestClassifier(random_state=42)</pre><b>In a Jupyter environment, please rerun this cell to show the HTML representation or trust the notebook. <br />On GitHub, the HTML representation is unable to render, please try loading this page with nbviewer.org.</b></div><div class=\"sk-container\" hidden><div class=\"sk-item\"><div class=\"sk-estimator fitted sk-toggleable\"><input class=\"sk-toggleable__control sk-hidden--visually\" id=\"sk-estimator-id-40\" type=\"checkbox\" checked><label for=\"sk-estimator-id-40\" class=\"sk-toggleable__label fitted sk-toggleable__label-arrow\"><div><div>RandomForestClassifier</div></div><div><a class=\"sk-estimator-doc-link fitted\" rel=\"noreferrer\" target=\"_blank\" href=\"https://scikit-learn.org/1.6/modules/generated/sklearn.ensemble.RandomForestClassifier.html\">?<span>Documentation for RandomForestClassifier</span></a><span class=\"sk-estimator-doc-link fitted\">i<span>Fitted</span></span></div></label><div class=\"sk-toggleable__content fitted\"><pre>RandomForestClassifier(random_state=42)</pre></div> </div></div></div></div>"
      ],
      "text/plain": [
       "RandomForestClassifier(random_state=42)"
      ]
     },
     "execution_count": 198,
     "metadata": {},
     "output_type": "execute_result"
    }
   ],
   "source": [
    "%%time\n",
    "model.fit(X_train, train_targets)"
   ]
  },
  {
   "cell_type": "code",
   "execution_count": 199,
   "id": "3326590a",
   "metadata": {},
   "outputs": [
    {
     "data": {
      "text/plain": [
       "1.0"
      ]
     },
     "execution_count": 199,
     "metadata": {},
     "output_type": "execute_result"
    }
   ],
   "source": [
    "model.score(X_train, train_targets)"
   ]
  },
  {
   "cell_type": "code",
   "execution_count": 200,
   "id": "3c31a21b",
   "metadata": {},
   "outputs": [
    {
     "data": {
      "text/plain": [
       "0.123125"
      ]
     },
     "execution_count": 200,
     "metadata": {},
     "output_type": "execute_result"
    }
   ],
   "source": [
    "model.score(X_val, val_targets)"
   ]
  },
  {
   "cell_type": "code",
   "execution_count": 201,
   "id": "2b823a1a",
   "metadata": {},
   "outputs": [
    {
     "data": {
      "text/plain": [
       "array([[0.65, 0.06, 0.05, ..., 0.04, 0.05, 0.03],\n",
       "       [0.07, 0.71, 0.02, ..., 0.06, 0.07, 0.02],\n",
       "       [0.09, 0.04, 0.02, ..., 0.03, 0.03, 0.72],\n",
       "       ...,\n",
       "       [0.05, 0.01, 0.02, ..., 0.71, 0.05, 0.07],\n",
       "       [0.02, 0.04, 0.05, ..., 0.03, 0.65, 0.12],\n",
       "       [0.66, 0.03, 0.06, ..., 0.04, 0.04, 0.07]], shape=(32000, 8))"
      ]
     },
     "execution_count": 201,
     "metadata": {},
     "output_type": "execute_result"
    }
   ],
   "source": [
    "train_probs = model.predict_proba(X_train)\n",
    "train_probs"
   ]
  },
  {
   "cell_type": "code",
   "execution_count": null,
   "id": "9aed8ad4",
   "metadata": {},
   "outputs": [],
   "source": []
  },
  {
   "cell_type": "code",
   "execution_count": null,
   "id": "95a4679b",
   "metadata": {},
   "outputs": [],
   "source": []
  },
  {
   "cell_type": "code",
   "execution_count": null,
   "id": "fd71c503",
   "metadata": {},
   "outputs": [],
   "source": []
  },
  {
   "cell_type": "code",
   "execution_count": null,
   "id": "346e98ba",
   "metadata": {},
   "outputs": [],
   "source": []
  },
  {
   "cell_type": "code",
   "execution_count": null,
   "id": "13c89ecb",
   "metadata": {},
   "outputs": [],
   "source": []
  },
  {
   "cell_type": "code",
   "execution_count": null,
   "id": "a6e38765",
   "metadata": {},
   "outputs": [],
   "source": []
  },
  {
   "cell_type": "code",
   "execution_count": null,
   "id": "e733d373",
   "metadata": {},
   "outputs": [],
   "source": []
  }
 ],
 "metadata": {
  "kernelspec": {
   "display_name": "Python 3",
   "language": "python",
   "name": "python3"
  },
  "language_info": {
   "codemirror_mode": {
    "name": "ipython",
    "version": 3
   },
   "file_extension": ".py",
   "mimetype": "text/x-python",
   "name": "python",
   "nbconvert_exporter": "python",
   "pygments_lexer": "ipython3",
   "version": "3.13.2"
  }
 },
 "nbformat": 4,
 "nbformat_minor": 5
}
