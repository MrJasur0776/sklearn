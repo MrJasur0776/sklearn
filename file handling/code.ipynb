{
 "cells": [
  {
   "cell_type": "code",
   "execution_count": null,
   "id": "888a43f5",
   "metadata": {},
   "outputs": [
    {
     "name": "stdout",
     "output_type": "stream",
     "text": [
      "['Name', ' Math', ' Physics', ' Chemistry\\n']\n",
      "['John', '78', '85', '90\\n']\n",
      "['Alice', '92', '88', '84\\n']\n",
      "['Bob', '60', '72', '68']\n"
     ]
    },
    {
     "ename": "FileNotFoundError",
     "evalue": "[Errno 2] No such file or directory: './file handling'",
     "output_type": "error",
     "traceback": [
      "\u001b[31m---------------------------------------------------------------------------\u001b[39m",
      "\u001b[31mFileNotFoundError\u001b[39m                         Traceback (most recent call last)",
      "\u001b[36mCell\u001b[39m\u001b[36m \u001b[39m\u001b[32mIn[7]\u001b[39m\u001b[32m, line 13\u001b[39m\n\u001b[32m     10\u001b[39m     \u001b[38;5;28mprint\u001b[39m(word)\n\u001b[32m     11\u001b[39m file.close()\n\u001b[32m---> \u001b[39m\u001b[32m13\u001b[39m \u001b[43mos\u001b[49m\u001b[43m.\u001b[49m\u001b[43mlistdir\u001b[49m\u001b[43m(\u001b[49m\u001b[33;43m'\u001b[39;49m\u001b[33;43m./file handling\u001b[39;49m\u001b[33;43m'\u001b[39;49m\u001b[43m)\u001b[49m\n",
      "\u001b[31mFileNotFoundError\u001b[39m: [Errno 2] No such file or directory: './file handling'"
     ]
    }
   ],
   "source": [
    "file = open('student_marks.txt', 'r')\n",
    "\"\"\"for line in file:\n",
    "    print(line)\n",
    "content = file.read()\n",
    "file.write('\\nJohn Doe, 85')\n",
    "print(content)\"\"\"\n",
    "content = file.readlines()\n",
    "for line in content:\n",
    "    word = line.split(',')\n",
    "    print(word)\n",
    "file.close()\n",
    "\n",
    "\n",
    "\n",
    "\n",
    "\n",
    "\n",
    "\n"
   ]
  },
  {
   "cell_type": "code",
   "execution_count": 8,
   "id": "6685f146",
   "metadata": {},
   "outputs": [],
   "source": [
    "from PIL import Image\n",
    "img = Image.open('rising.jpg')\n",
    "img.show()"
   ]
  },
  {
   "cell_type": "code",
   "execution_count": 2,
   "id": "74fadeb8",
   "metadata": {},
   "outputs": [
    {
     "name": "stdout",
     "output_type": "stream",
     "text": [
      "{'name': 'John', 'math': 78, 'physics': 85, 'chemistry': 90, 'average': 84.33}\n",
      "{'name': 'Alice', 'math': 92, 'physics': 88, 'chemistry': 84, 'average': 88.0}\n",
      "{'name': 'Bob', 'math': 60, 'physics': 72, 'chemistry': 68, 'average': 66.67}\n"
     ]
    }
   ],
   "source": [
    "students = []\n",
    "file = open('student_marks.txt', 'r')\n",
    "next(file)\n",
    "\n",
    "for line in file:\n",
    "    line = line.strip()\n",
    "    list_lines = line.split(',')\n",
    "    name = list_lines[0]\n",
    "    marks = list(map(int, list_lines[1:]))  \n",
    "    average = round(sum(marks) / len(marks), 2)\n",
    "    students.append({\n",
    "            \"name\": name,\n",
    "            \"math\": marks[0],\n",
    "            \"physics\": marks[1],\n",
    "            \"chemistry\": marks[2],\n",
    "            \"average\": average\n",
    "        })\n",
    "\n",
    "file.close()\n",
    "for student in students:\n",
    "    print(student)\n",
    "\n"
   ]
  },
  {
   "cell_type": "code",
   "execution_count": 3,
   "id": "3de9b97d",
   "metadata": {},
   "outputs": [],
   "source": [
    "averages = open('student_averages.txt', 'w')\n",
    "for student in students:\n",
    "        line = f\"{student['name']},{student['math']},{student['physics']},{student['chemistry']},{student['average']:.2f}\\n\"\n",
    "        averages.write(line)\n",
    "averages.close()"
   ]
  },
  {
   "cell_type": "code",
   "execution_count": 5,
   "id": "c1ec42d1",
   "metadata": {},
   "outputs": [
    {
     "name": "stdout",
     "output_type": "stream",
     "text": [
      "The file does not exist\n"
     ]
    }
   ],
   "source": [
    "import os\n",
    "if os.path.exists(\"start.txt\"):\n",
    " os.remove(\"start.txt\")\n",
    "else:\n",
    " print(\"The file does not exist\")"
   ]
  },
  {
   "cell_type": "code",
   "execution_count": null,
   "id": "cc3f9a13",
   "metadata": {},
   "outputs": [
    {
     "name": "stdout",
     "output_type": "stream",
     "text": [
      "['student_marks.txt', 'code.ipynb']\n",
      "True\n"
     ]
    }
   ],
   "source": [
    "import os\n",
    "print(os.listdir())\n",
    "print(os.path.isfile('code.ipynb'))"
   ]
  },
  {
   "cell_type": "code",
   "execution_count": null,
   "id": "d4cf5e19",
   "metadata": {},
   "outputs": [],
   "source": [
    "prac = open('marks', 'w')\n",
    "prac.write('hello world')\n",
    "prac.close()\n"
   ]
  },
  {
   "cell_type": "code",
   "execution_count": 9,
   "id": "d8be61f1",
   "metadata": {},
   "outputs": [],
   "source": [
    "os.mkdir('dir_fd=')"
   ]
  },
  {
   "cell_type": "code",
   "execution_count": 10,
   "id": "25bdd95b",
   "metadata": {},
   "outputs": [
    {
     "name": "stdout",
     "output_type": "stream",
     "text": [
      "Collecting python-docx\n",
      "  Downloading python_docx-1.1.2-py3-none-any.whl.metadata (2.0 kB)\n",
      "Collecting lxml>=3.1.0 (from python-docx)\n",
      "  Downloading lxml-5.4.0-cp312-cp312-manylinux_2_28_x86_64.whl.metadata (3.5 kB)\n",
      "Requirement already satisfied: typing-extensions>=4.9.0 in /home/jasur_hbai/Documents/scikit learn/.venv/lib/python3.12/site-packages (from python-docx) (4.13.2)\n",
      "Downloading python_docx-1.1.2-py3-none-any.whl (244 kB)\n",
      "Downloading lxml-5.4.0-cp312-cp312-manylinux_2_28_x86_64.whl (5.0 MB)\n",
      "\u001b[2K   \u001b[90m━━━━━━━━━━━━━━━━━━━━━━━━━━━━━━━━━━━━━━━━\u001b[0m \u001b[32m5.0/5.0 MB\u001b[0m \u001b[31m5.6 MB/s\u001b[0m eta \u001b[36m0:00:00\u001b[0ma \u001b[36m0:00:01\u001b[0m\n",
      "\u001b[?25hInstalling collected packages: lxml, python-docx\n",
      "\u001b[2K   \u001b[90m━━━━━━━━━━━━━━━━━━━━━━━━━━━━━━━━━━━━━━━━\u001b[0m \u001b[32m2/2\u001b[0m [python-docx]\u001b[0m [python-docx]\n",
      "\u001b[1A\u001b[2KSuccessfully installed lxml-5.4.0 python-docx-1.1.2\n",
      "Note: you may need to restart the kernel to use updated packages.\n"
     ]
    }
   ],
   "source": [
    "pip install python-docx"
   ]
  },
  {
   "cell_type": "code",
   "execution_count": 12,
   "id": "42a58682",
   "metadata": {},
   "outputs": [],
   "source": [
    "from docx import Document\n",
    "# Create a new Word document\n",
    "doc = Document()\n",
    "doc.add_paragraph(\"Hello, this is the first paragraph in the .docx file.\")\n",
    "doc.add_paragraph(\"This library allows more than just plain text; you can add headings, images, and tables too.\")\n",
    "# Save the document\n",
    "doc.save(\"example.docx\")"
   ]
  },
  {
   "cell_type": "code",
   "execution_count": null,
   "id": "701481dd",
   "metadata": {},
   "outputs": [],
   "source": []
  },
  {
   "cell_type": "code",
   "execution_count": null,
   "id": "ce67c42a",
   "metadata": {},
   "outputs": [],
   "source": []
  },
  {
   "cell_type": "code",
   "execution_count": null,
   "id": "8bf818b0",
   "metadata": {},
   "outputs": [],
   "source": []
  }
 ],
 "metadata": {
  "kernelspec": {
   "display_name": ".venv",
   "language": "python",
   "name": "python3"
  },
  "language_info": {
   "codemirror_mode": {
    "name": "ipython",
    "version": 3
   },
   "file_extension": ".py",
   "mimetype": "text/x-python",
   "name": "python",
   "nbconvert_exporter": "python",
   "pygments_lexer": "ipython3",
   "version": "3.12.3"
  }
 },
 "nbformat": 4,
 "nbformat_minor": 5
}
