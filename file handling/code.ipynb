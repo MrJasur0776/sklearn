{
 "cells": [
  {
   "cell_type": "code",
   "execution_count": null,
   "id": "888a43f5",
   "metadata": {},
   "outputs": [
    {
     "name": "stdout",
     "output_type": "stream",
     "text": [
      "['John', '78', '85', '90\\n']\n",
      "['Alice', '92', '88', '84\\n']\n",
      "['Bob', '60', '72', '68\\n']\n",
      "['John Doe', ' 85']\n"
     ]
    }
   ],
   "source": [
    "file = open('student_marks.txt', 'r')\n",
    "\"\"\"for line in file:\n",
    "    print(line)\n",
    "content = file.read()\n",
    "file.write('\\nJohn Doe, 85')\n",
    "print(content)\"\"\"\n",
    "content = file.readlines()\n",
    "for line in content:\n",
    "    word = line.split(',')\n",
    "    print(word)\n",
    "file.close()\n",
    "\n",
    "\n",
    "\n"
   ]
  },
  {
   "cell_type": "code",
   "execution_count": 29,
   "id": "74fadeb8",
   "metadata": {},
   "outputs": [
    {
     "name": "stdout",
     "output_type": "stream",
     "text": [
      "{'name': 'John', 'math': 78, 'physics': 85, 'chemistry': 90, 'average': 84.33}\n",
      "{'name': 'Alice', 'math': 92, 'physics': 88, 'chemistry': 84, 'average': 88.0}\n",
      "{'name': 'Bob', 'math': 60, 'physics': 72, 'chemistry': 68, 'average': 66.67}\n"
     ]
    }
   ],
   "source": [
    "students = []\n",
    "file = open('student_marks.txt', 'r')\n",
    "next(file)\n",
    "\n",
    "for line in file:\n",
    "    line = line.strip()\n",
    "    list_lines = line.split(',')\n",
    "    name = list_lines[0]\n",
    "    marks = list(map(int, list_lines[1:]))  \n",
    "    average = round(sum(marks) / len(marks), 2)\n",
    "    students.append({\n",
    "            \"name\": name,\n",
    "            \"math\": marks[0],\n",
    "            \"physics\": marks[1],\n",
    "            \"chemistry\": marks[2],\n",
    "            \"average\": average\n",
    "        })\n",
    "\n",
    "file.close()\n",
    "for student in students:\n",
    "    print(student)\n",
    "\n"
   ]
  },
  {
   "cell_type": "code",
   "execution_count": 30,
   "id": "3de9b97d",
   "metadata": {},
   "outputs": [],
   "source": [
    "averages = open('student_averages.txt', 'w')\n",
    "for student in students:\n",
    "        line = f\"{student['name']},{student['math']},{student['physics']},{student['chemistry']},{student['average']:.2f}\\n\"\n",
    "        averages.write(line)\n",
    "averages.close()"
   ]
  },
  {
   "cell_type": "code",
   "execution_count": 12,
   "id": "c1ec42d1",
   "metadata": {},
   "outputs": [
    {
     "name": "stdout",
     "output_type": "stream",
     "text": [
      "The file does not exist\n"
     ]
    }
   ],
   "source": [
    "if os.path.exists(\"start.txt\"):\n",
    " os.remove(\"start.txt\")\n",
    "else:\n",
    " print(\"The file does not exist\")"
   ]
  },
  {
   "cell_type": "code",
   "execution_count": 4,
   "id": "cc3f9a13",
   "metadata": {},
   "outputs": [
    {
     "name": "stdout",
     "output_type": "stream",
     "text": [
      "['student_marks.txt', 'code.ipynb']\n",
      "True\n"
     ]
    }
   ],
   "source": [
    "import os\n",
    "print(os.listdir())\n",
    "print(os.path.isfile('code.ipynb'))"
   ]
  },
  {
   "cell_type": "code",
   "execution_count": 5,
   "id": "d4cf5e19",
   "metadata": {},
   "outputs": [],
   "source": [
    "prac = open('marks', 'w')\n",
    "prac.write('hello world')\n",
    "prac.close()\n"
   ]
  },
  {
   "cell_type": "code",
   "execution_count": null,
   "id": "d8be61f1",
   "metadata": {},
   "outputs": [],
   "source": []
  },
  {
   "cell_type": "code",
   "execution_count": null,
   "id": "25bdd95b",
   "metadata": {},
   "outputs": [],
   "source": []
  }
 ],
 "metadata": {
  "kernelspec": {
   "display_name": ".venv",
   "language": "python",
   "name": "python3"
  },
  "language_info": {
   "codemirror_mode": {
    "name": "ipython",
    "version": 3
   },
   "file_extension": ".py",
   "mimetype": "text/x-python",
   "name": "python",
   "nbconvert_exporter": "python",
   "pygments_lexer": "ipython3",
   "version": "3.12.3"
  }
 },
 "nbformat": 4,
 "nbformat_minor": 5
}
